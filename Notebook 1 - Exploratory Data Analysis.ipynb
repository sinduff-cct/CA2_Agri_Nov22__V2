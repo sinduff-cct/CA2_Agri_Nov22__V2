{
 "cells": [
  {
   "cell_type": "markdown",
   "id": "3ee92d15",
   "metadata": {},
   "source": [
    "# CA 2 - Review of Agriculture in Ireland\n",
    "\n",
    "## Notebook 1 - Exploratory Data Analysis\n",
    "\n"
   ]
  },
  {
   "cell_type": "code",
   "execution_count": 115,
   "id": "e37db901",
   "metadata": {},
   "outputs": [],
   "source": [
    "# Importing the libraries\n",
    "\n",
    "# libraries for graphics\n",
    "%matplotlib inline\n",
    "import matplotlib.pyplot as plt\n",
    "import seaborn as sns\n",
    "sns.set(color_codes=True)\n",
    "\n",
    "# create tables\n",
    "from tabulate import tabulate\n",
    "\n",
    "# graphics for calculations\n",
    "import numpy as np\n",
    "import pandas as pd\n",
    "\n",
    "# libraries for analysis\n",
    "import datetime \n",
    "import statistics\n",
    "from scipy.stats import binom\n",
    "from scipy.stats import poisson\n",
    "import pylab\n",
    "from scipy import stats\n",
    "\n",
    "# data preparation\n",
    "from sklearn.preprocessing import OneHotEncoder"
   ]
  },
  {
   "cell_type": "markdown",
   "id": "956f76bb",
   "metadata": {},
   "source": [
    "### Step 1 - Import and view the dataframe"
   ]
  },
  {
   "cell_type": "code",
   "execution_count": 2,
   "id": "952a5c6f",
   "metadata": {},
   "outputs": [],
   "source": [
    "# Step 1 - import the dataframe\n",
    "\n",
    "Organic_food_df = pd.read_csv(\"Datasets/org_aprod_linear.csv\")"
   ]
  },
  {
   "cell_type": "code",
   "execution_count": 3,
   "id": "03b256be",
   "metadata": {},
   "outputs": [
    {
     "data": {
      "text/plain": [
       "(3935, 9)"
      ]
     },
     "execution_count": 3,
     "metadata": {},
     "output_type": "execute_result"
    }
   ],
   "source": [
    "# view the shape of the dataframe\n",
    "\n",
    "Organic_food_df.shape"
   ]
  },
  {
   "cell_type": "code",
   "execution_count": 4,
   "id": "f4e22dd7",
   "metadata": {},
   "outputs": [
    {
     "data": {
      "text/html": [
       "<div>\n",
       "<style scoped>\n",
       "    .dataframe tbody tr th:only-of-type {\n",
       "        vertical-align: middle;\n",
       "    }\n",
       "\n",
       "    .dataframe tbody tr th {\n",
       "        vertical-align: top;\n",
       "    }\n",
       "\n",
       "    .dataframe thead th {\n",
       "        text-align: right;\n",
       "    }\n",
       "</style>\n",
       "<table border=\"1\" class=\"dataframe\">\n",
       "  <thead>\n",
       "    <tr style=\"text-align: right;\">\n",
       "      <th></th>\n",
       "      <th>DATAFLOW</th>\n",
       "      <th>LAST UPDATE</th>\n",
       "      <th>freq</th>\n",
       "      <th>agriprod</th>\n",
       "      <th>unit</th>\n",
       "      <th>geo</th>\n",
       "      <th>TIME_PERIOD</th>\n",
       "      <th>OBS_VALUE</th>\n",
       "      <th>OBS_FLAG</th>\n",
       "    </tr>\n",
       "  </thead>\n",
       "  <tbody>\n",
       "    <tr>\n",
       "      <th>0</th>\n",
       "      <td>ESTAT:ORG_APROD(1.0)</td>\n",
       "      <td>02/12/22 23:00:00</td>\n",
       "      <td>A</td>\n",
       "      <td>B0010</td>\n",
       "      <td>T</td>\n",
       "      <td>BE</td>\n",
       "      <td>2016</td>\n",
       "      <td>5502.0</td>\n",
       "      <td>NaN</td>\n",
       "    </tr>\n",
       "    <tr>\n",
       "      <th>1</th>\n",
       "      <td>ESTAT:ORG_APROD(1.0)</td>\n",
       "      <td>02/12/22 23:00:00</td>\n",
       "      <td>A</td>\n",
       "      <td>B0010</td>\n",
       "      <td>T</td>\n",
       "      <td>BE</td>\n",
       "      <td>2017</td>\n",
       "      <td>7321.0</td>\n",
       "      <td>NaN</td>\n",
       "    </tr>\n",
       "    <tr>\n",
       "      <th>2</th>\n",
       "      <td>ESTAT:ORG_APROD(1.0)</td>\n",
       "      <td>02/12/22 23:00:00</td>\n",
       "      <td>A</td>\n",
       "      <td>B0010</td>\n",
       "      <td>T</td>\n",
       "      <td>BE</td>\n",
       "      <td>2018</td>\n",
       "      <td>8708.0</td>\n",
       "      <td>NaN</td>\n",
       "    </tr>\n",
       "    <tr>\n",
       "      <th>3</th>\n",
       "      <td>ESTAT:ORG_APROD(1.0)</td>\n",
       "      <td>02/12/22 23:00:00</td>\n",
       "      <td>A</td>\n",
       "      <td>B0010</td>\n",
       "      <td>T</td>\n",
       "      <td>BE</td>\n",
       "      <td>2019</td>\n",
       "      <td>9601.0</td>\n",
       "      <td>NaN</td>\n",
       "    </tr>\n",
       "    <tr>\n",
       "      <th>4</th>\n",
       "      <td>ESTAT:ORG_APROD(1.0)</td>\n",
       "      <td>02/12/22 23:00:00</td>\n",
       "      <td>A</td>\n",
       "      <td>B0010</td>\n",
       "      <td>T</td>\n",
       "      <td>BE</td>\n",
       "      <td>2020</td>\n",
       "      <td>10364.0</td>\n",
       "      <td>NaN</td>\n",
       "    </tr>\n",
       "  </tbody>\n",
       "</table>\n",
       "</div>"
      ],
      "text/plain": [
       "               DATAFLOW        LAST UPDATE freq agriprod unit geo  \\\n",
       "0  ESTAT:ORG_APROD(1.0)  02/12/22 23:00:00    A    B0010    T  BE   \n",
       "1  ESTAT:ORG_APROD(1.0)  02/12/22 23:00:00    A    B0010    T  BE   \n",
       "2  ESTAT:ORG_APROD(1.0)  02/12/22 23:00:00    A    B0010    T  BE   \n",
       "3  ESTAT:ORG_APROD(1.0)  02/12/22 23:00:00    A    B0010    T  BE   \n",
       "4  ESTAT:ORG_APROD(1.0)  02/12/22 23:00:00    A    B0010    T  BE   \n",
       "\n",
       "   TIME_PERIOD  OBS_VALUE OBS_FLAG  \n",
       "0         2016     5502.0      NaN  \n",
       "1         2017     7321.0      NaN  \n",
       "2         2018     8708.0      NaN  \n",
       "3         2019     9601.0      NaN  \n",
       "4         2020    10364.0      NaN  "
      ]
     },
     "execution_count": 4,
     "metadata": {},
     "output_type": "execute_result"
    }
   ],
   "source": [
    "# view the first lines of the dataframe\n",
    "\n",
    "Organic_food_df.head()"
   ]
  },
  {
   "cell_type": "code",
   "execution_count": 5,
   "id": "ac9988b0",
   "metadata": {},
   "outputs": [
    {
     "data": {
      "text/plain": [
       "DATAFLOW       3935\n",
       "LAST UPDATE    3935\n",
       "freq           3935\n",
       "agriprod       3935\n",
       "unit           3935\n",
       "geo            3935\n",
       "TIME_PERIOD    3935\n",
       "OBS_VALUE      3728\n",
       "OBS_FLAG        367\n",
       "dtype: int64"
      ]
     },
     "execution_count": 5,
     "metadata": {},
     "output_type": "execute_result"
    }
   ],
   "source": [
    "# Show the columns of the dataframe and count of values therein\n",
    "\n",
    "Organic_food_df.count()"
   ]
  },
  {
   "cell_type": "code",
   "execution_count": 6,
   "id": "8542b908",
   "metadata": {},
   "outputs": [
    {
     "name": "stdout",
     "output_type": "stream",
     "text": [
      "<class 'pandas.core.frame.DataFrame'>\n",
      "RangeIndex: 3935 entries, 0 to 3934\n",
      "Data columns (total 9 columns):\n",
      " #   Column       Non-Null Count  Dtype  \n",
      "---  ------       --------------  -----  \n",
      " 0   DATAFLOW     3935 non-null   object \n",
      " 1   LAST UPDATE  3935 non-null   object \n",
      " 2   freq         3935 non-null   object \n",
      " 3   agriprod     3935 non-null   object \n",
      " 4   unit         3935 non-null   object \n",
      " 5   geo          3935 non-null   object \n",
      " 6   TIME_PERIOD  3935 non-null   int64  \n",
      " 7   OBS_VALUE    3728 non-null   float64\n",
      " 8   OBS_FLAG     367 non-null    object \n",
      "dtypes: float64(1), int64(1), object(7)\n",
      "memory usage: 276.8+ KB\n"
     ]
    }
   ],
   "source": [
    "# display the \n",
    "\n",
    "Organic_food_df.info()"
   ]
  },
  {
   "cell_type": "markdown",
   "id": "e1c34c5f",
   "metadata": {},
   "source": [
    "### Step 2 - Explore the Contents of the Dataframe"
   ]
  },
  {
   "cell_type": "code",
   "execution_count": 7,
   "id": "4c094a6e",
   "metadata": {},
   "outputs": [
    {
     "name": "stdout",
     "output_type": "stream",
     "text": [
      "Number of duplicate rows in the dataframe:  (0, 9)\n"
     ]
    }
   ],
   "source": [
    "# check for duplicate rows of data\n",
    "\n",
    "duplicate_rows_df = Organic_food_df[Organic_food_df.duplicated()]\n",
    "\n",
    "print(\"Number of duplicate rows in the dataframe: \", duplicate_rows_df.shape)"
   ]
  },
  {
   "cell_type": "code",
   "execution_count": 8,
   "id": "65fb0f3d",
   "metadata": {},
   "outputs": [
    {
     "name": "stdout",
     "output_type": "stream",
     "text": [
      "DATAFLOW          0\n",
      "LAST UPDATE       0\n",
      "freq              0\n",
      "agriprod          0\n",
      "unit              0\n",
      "geo               0\n",
      "TIME_PERIOD       0\n",
      "OBS_VALUE       207\n",
      "OBS_FLAG       3568\n",
      "dtype: int64\n"
     ]
    }
   ],
   "source": [
    "# Check for null values in the dataframe \n",
    "\n",
    "print(Organic_food_df.isnull().sum())"
   ]
  },
  {
   "cell_type": "code",
   "execution_count": 9,
   "id": "e1478041",
   "metadata": {},
   "outputs": [
    {
     "data": {
      "text/plain": [
       "DATAFLOW          1\n",
       "LAST UPDATE       1\n",
       "freq              1\n",
       "agriprod         23\n",
       "unit              2\n",
       "geo              33\n",
       "TIME_PERIOD      10\n",
       "OBS_VALUE      1968\n",
       "OBS_FLAG          7\n",
       "dtype: int64"
      ]
     },
     "execution_count": 9,
     "metadata": {},
     "output_type": "execute_result"
    }
   ],
   "source": [
    "# count the unique values in the each column of the datafram\n",
    "\n",
    "Organic_food_df.nunique()"
   ]
  },
  {
   "cell_type": "code",
   "execution_count": 10,
   "id": "4dba2b11",
   "metadata": {},
   "outputs": [
    {
     "data": {
      "text/plain": [
       "agriprod\n",
       "B0010     30\n",
       "B1000     30\n",
       "B3100     30\n",
       "B4100     29\n",
       "B4200     28\n",
       "B5000     26\n",
       "B7000     30\n",
       "B7100     10\n",
       "B8000      8\n",
       "B9000     26\n",
       "D1100A    33\n",
       "D1110A    32\n",
       "D1120A    27\n",
       "D1130A    30\n",
       "D1140A    10\n",
       "D2100     31\n",
       "D2200     31\n",
       "D4100     31\n",
       "D6100     32\n",
       "D7100     32\n",
       "D8000H    33\n",
       "D9500     25\n",
       "D9910     24\n",
       "Name: geo, dtype: int64"
      ]
     },
     "execution_count": 10,
     "metadata": {},
     "output_type": "execute_result"
    }
   ],
   "source": [
    "# count unique 'agriprod' values, grouped by geo (country)\n",
    "\n",
    "Organic_food_df.groupby('agriprod')['geo'].nunique()"
   ]
  },
  {
   "cell_type": "code",
   "execution_count": 11,
   "id": "ab8df78a",
   "metadata": {},
   "outputs": [],
   "source": [
    "# count unique 'agriprod' values, grouped by geo (country)\n",
    "\n",
    "#Organic_food_df.groupby('geo')['agriprod'].nunique()"
   ]
  },
  {
   "cell_type": "code",
   "execution_count": 12,
   "id": "33531dd6",
   "metadata": {},
   "outputs": [],
   "source": [
    "#sns.pairplot(Organic_food_df, hue=\"geo\");"
   ]
  },
  {
   "cell_type": "code",
   "execution_count": 13,
   "id": "79510bd2",
   "metadata": {},
   "outputs": [],
   "source": [
    "#sns.pairplot(Organic_food_df, hue=\"agriprod\");"
   ]
  },
  {
   "cell_type": "markdown",
   "id": "c42ac01d",
   "metadata": {},
   "source": [
    "### Step 4 - Data Preparation for analysis\n",
    "\n",
    "Actions carried out based on table 1 in accompanying word report."
   ]
  },
  {
   "cell_type": "code",
   "execution_count": 14,
   "id": "b20d23c6",
   "metadata": {},
   "outputs": [],
   "source": [
    "org_food_df = Organic_food_df.drop(['DATAFLOW', 'LAST UPDATE', 'freq', 'OBS_FLAG'], axis=1)"
   ]
  },
  {
   "cell_type": "code",
   "execution_count": 15,
   "id": "acdb5b19",
   "metadata": {},
   "outputs": [],
   "source": [
    "org_food_df.rename(columns = {\n",
    "    'unit':'Unit',\n",
    "    'geo':'Country',\n",
    "    'TIME_PERIOD':'Year',\n",
    "    'OBS_VALUE':'Value',\n",
    "    },\n",
    "      inplace=True)"
   ]
  },
  {
   "cell_type": "code",
   "execution_count": 16,
   "id": "a90667c5",
   "metadata": {},
   "outputs": [],
   "source": [
    "# replace values\n",
    "\n",
    "values_to_be_added = {\n",
    "    'D1100A':'Raw milk', \n",
    "    'D1110A':'Raw cows milk', \n",
    "    'D1120A':'Ewes milk', \n",
    "    'D1130A':'Goats milk', \n",
    "    'D1140A':'Buffalos milk', \n",
    "    'D2100':'Drinking milk', \n",
    "    'D2200':'Cream ', \n",
    "    'D4100':'yoghurts and other', \n",
    "    'D6100':'Butter', \n",
    "    'D7100':'Cheese', \n",
    "    'D9500':'Other organic dairy products', \n",
    "    'D8000H':'Eggs', \n",
    "    'D9910':'Honey', \n",
    "    'B1000':'Bovine meat',\n",
    "    'B0010':'Meat of livestock',\n",
    "    'B8000':'Meat of rabbits',\n",
    "    'B9000':'Other meat',\n",
    "    'B3100':'Pigmeat ',\n",
    "    'B4100':'Sheepmeat',\n",
    "    'B4200':'Goat meat',\n",
    "    'B5000':'Meat of horses etc',\n",
    "    'B7000':'Poultry meat',\n",
    "    'B7100':'Chicken',\n",
    "     }"
   ]
  },
  {
   "cell_type": "code",
   "execution_count": 17,
   "id": "a18f239e",
   "metadata": {},
   "outputs": [
    {
     "data": {
      "text/html": [
       "<div>\n",
       "<style scoped>\n",
       "    .dataframe tbody tr th:only-of-type {\n",
       "        vertical-align: middle;\n",
       "    }\n",
       "\n",
       "    .dataframe tbody tr th {\n",
       "        vertical-align: top;\n",
       "    }\n",
       "\n",
       "    .dataframe thead th {\n",
       "        text-align: right;\n",
       "    }\n",
       "</style>\n",
       "<table border=\"1\" class=\"dataframe\">\n",
       "  <thead>\n",
       "    <tr style=\"text-align: right;\">\n",
       "      <th></th>\n",
       "      <th>agriprod</th>\n",
       "      <th>Unit</th>\n",
       "      <th>Country</th>\n",
       "      <th>Year</th>\n",
       "      <th>Value</th>\n",
       "      <th>Description</th>\n",
       "    </tr>\n",
       "  </thead>\n",
       "  <tbody>\n",
       "    <tr>\n",
       "      <th>0</th>\n",
       "      <td>B0010</td>\n",
       "      <td>T</td>\n",
       "      <td>BE</td>\n",
       "      <td>2016</td>\n",
       "      <td>5502.0</td>\n",
       "      <td>Meat of livestock</td>\n",
       "    </tr>\n",
       "    <tr>\n",
       "      <th>1</th>\n",
       "      <td>B0010</td>\n",
       "      <td>T</td>\n",
       "      <td>BE</td>\n",
       "      <td>2017</td>\n",
       "      <td>7321.0</td>\n",
       "      <td>Meat of livestock</td>\n",
       "    </tr>\n",
       "    <tr>\n",
       "      <th>2</th>\n",
       "      <td>B0010</td>\n",
       "      <td>T</td>\n",
       "      <td>BE</td>\n",
       "      <td>2018</td>\n",
       "      <td>8708.0</td>\n",
       "      <td>Meat of livestock</td>\n",
       "    </tr>\n",
       "    <tr>\n",
       "      <th>3</th>\n",
       "      <td>B0010</td>\n",
       "      <td>T</td>\n",
       "      <td>BE</td>\n",
       "      <td>2019</td>\n",
       "      <td>9601.0</td>\n",
       "      <td>Meat of livestock</td>\n",
       "    </tr>\n",
       "    <tr>\n",
       "      <th>4</th>\n",
       "      <td>B0010</td>\n",
       "      <td>T</td>\n",
       "      <td>BE</td>\n",
       "      <td>2020</td>\n",
       "      <td>10364.0</td>\n",
       "      <td>Meat of livestock</td>\n",
       "    </tr>\n",
       "    <tr>\n",
       "      <th>...</th>\n",
       "      <td>...</td>\n",
       "      <td>...</td>\n",
       "      <td>...</td>\n",
       "      <td>...</td>\n",
       "      <td>...</td>\n",
       "      <td>...</td>\n",
       "    </tr>\n",
       "    <tr>\n",
       "      <th>3930</th>\n",
       "      <td>D9910</td>\n",
       "      <td>T</td>\n",
       "      <td>TR</td>\n",
       "      <td>2017</td>\n",
       "      <td>392.0</td>\n",
       "      <td>Honey</td>\n",
       "    </tr>\n",
       "    <tr>\n",
       "      <th>3931</th>\n",
       "      <td>D9910</td>\n",
       "      <td>T</td>\n",
       "      <td>TR</td>\n",
       "      <td>2018</td>\n",
       "      <td>495.0</td>\n",
       "      <td>Honey</td>\n",
       "    </tr>\n",
       "    <tr>\n",
       "      <th>3932</th>\n",
       "      <td>D9910</td>\n",
       "      <td>T</td>\n",
       "      <td>TR</td>\n",
       "      <td>2019</td>\n",
       "      <td>577.0</td>\n",
       "      <td>Honey</td>\n",
       "    </tr>\n",
       "    <tr>\n",
       "      <th>3933</th>\n",
       "      <td>D9910</td>\n",
       "      <td>T</td>\n",
       "      <td>TR</td>\n",
       "      <td>2021</td>\n",
       "      <td>1221.0</td>\n",
       "      <td>Honey</td>\n",
       "    </tr>\n",
       "    <tr>\n",
       "      <th>3934</th>\n",
       "      <td>D9910</td>\n",
       "      <td>T</td>\n",
       "      <td>UK</td>\n",
       "      <td>2019</td>\n",
       "      <td>0.0</td>\n",
       "      <td>Honey</td>\n",
       "    </tr>\n",
       "  </tbody>\n",
       "</table>\n",
       "<p>3935 rows × 6 columns</p>\n",
       "</div>"
      ],
      "text/plain": [
       "     agriprod Unit Country  Year    Value        Description\n",
       "0       B0010    T      BE  2016   5502.0  Meat of livestock\n",
       "1       B0010    T      BE  2017   7321.0  Meat of livestock\n",
       "2       B0010    T      BE  2018   8708.0  Meat of livestock\n",
       "3       B0010    T      BE  2019   9601.0  Meat of livestock\n",
       "4       B0010    T      BE  2020  10364.0  Meat of livestock\n",
       "...       ...  ...     ...   ...      ...                ...\n",
       "3930    D9910    T      TR  2017    392.0              Honey\n",
       "3931    D9910    T      TR  2018    495.0              Honey\n",
       "3932    D9910    T      TR  2019    577.0              Honey\n",
       "3933    D9910    T      TR  2021   1221.0              Honey\n",
       "3934    D9910    T      UK  2019      0.0              Honey\n",
       "\n",
       "[3935 rows x 6 columns]"
      ]
     },
     "execution_count": 17,
     "metadata": {},
     "output_type": "execute_result"
    }
   ],
   "source": [
    "# add a new column based on the code in 'agriprod' column\n",
    "# REFERENCE - https://sparkbyexamples.com/pandas/pandas-add-column-to-dataframe/\n",
    "\n",
    "org_food_df['Description'] = org_food_df['agriprod'].map(values_to_be_added)\n",
    "\n",
    "org_food_df"
   ]
  },
  {
   "cell_type": "code",
   "execution_count": 18,
   "id": "b72a58c0",
   "metadata": {},
   "outputs": [],
   "source": [
    "# replace values \n",
    "\n",
    "values_to_be_replaced = {\n",
    "    'D1100A':'Dairy', \n",
    "    'D1110A':'Dairy', \n",
    "    'D1120A':'Dairy', \n",
    "    'D1130A':'Dairy', \n",
    "    'D1140A':'Dairy', \n",
    "    'D2100':'Dairy', \n",
    "    'D2200':'Dairy', \n",
    "    'D4100':'Dairy', \n",
    "    'D6100':'Dairy', \n",
    "    'D7100':'Dairy', \n",
    "    'D9500':'Dairy', \n",
    "    'D8000H':'Eggs', \n",
    "    'D9910':'Honey', \n",
    "    'B1000':'Meat',\n",
    "    'B0010':'Meat',\n",
    "    'B8000':'Meat',\n",
    "    'B9000':'Meat',\n",
    "    'B3100':'Meat',\n",
    "    'B4100':'Meat',\n",
    "    'B4200':'Meat',\n",
    "    'B5000':'Meat',\n",
    "    'B7000':'Meat',\n",
    "    'B7100':'Meat',\n",
    "     }"
   ]
  },
  {
   "cell_type": "code",
   "execution_count": 19,
   "id": "ddb10a01",
   "metadata": {},
   "outputs": [
    {
     "data": {
      "text/html": [
       "<div>\n",
       "<style scoped>\n",
       "    .dataframe tbody tr th:only-of-type {\n",
       "        vertical-align: middle;\n",
       "    }\n",
       "\n",
       "    .dataframe tbody tr th {\n",
       "        vertical-align: top;\n",
       "    }\n",
       "\n",
       "    .dataframe thead th {\n",
       "        text-align: right;\n",
       "    }\n",
       "</style>\n",
       "<table border=\"1\" class=\"dataframe\">\n",
       "  <thead>\n",
       "    <tr style=\"text-align: right;\">\n",
       "      <th></th>\n",
       "      <th>agriprod</th>\n",
       "      <th>Unit</th>\n",
       "      <th>Country</th>\n",
       "      <th>Year</th>\n",
       "      <th>Value</th>\n",
       "      <th>Description</th>\n",
       "    </tr>\n",
       "  </thead>\n",
       "  <tbody>\n",
       "    <tr>\n",
       "      <th>0</th>\n",
       "      <td>Meat</td>\n",
       "      <td>T</td>\n",
       "      <td>BE</td>\n",
       "      <td>2016</td>\n",
       "      <td>5502.0</td>\n",
       "      <td>Meat of livestock</td>\n",
       "    </tr>\n",
       "    <tr>\n",
       "      <th>1</th>\n",
       "      <td>Meat</td>\n",
       "      <td>T</td>\n",
       "      <td>BE</td>\n",
       "      <td>2017</td>\n",
       "      <td>7321.0</td>\n",
       "      <td>Meat of livestock</td>\n",
       "    </tr>\n",
       "    <tr>\n",
       "      <th>2</th>\n",
       "      <td>Meat</td>\n",
       "      <td>T</td>\n",
       "      <td>BE</td>\n",
       "      <td>2018</td>\n",
       "      <td>8708.0</td>\n",
       "      <td>Meat of livestock</td>\n",
       "    </tr>\n",
       "    <tr>\n",
       "      <th>3</th>\n",
       "      <td>Meat</td>\n",
       "      <td>T</td>\n",
       "      <td>BE</td>\n",
       "      <td>2019</td>\n",
       "      <td>9601.0</td>\n",
       "      <td>Meat of livestock</td>\n",
       "    </tr>\n",
       "    <tr>\n",
       "      <th>4</th>\n",
       "      <td>Meat</td>\n",
       "      <td>T</td>\n",
       "      <td>BE</td>\n",
       "      <td>2020</td>\n",
       "      <td>10364.0</td>\n",
       "      <td>Meat of livestock</td>\n",
       "    </tr>\n",
       "    <tr>\n",
       "      <th>...</th>\n",
       "      <td>...</td>\n",
       "      <td>...</td>\n",
       "      <td>...</td>\n",
       "      <td>...</td>\n",
       "      <td>...</td>\n",
       "      <td>...</td>\n",
       "    </tr>\n",
       "    <tr>\n",
       "      <th>3930</th>\n",
       "      <td>Honey</td>\n",
       "      <td>T</td>\n",
       "      <td>TR</td>\n",
       "      <td>2017</td>\n",
       "      <td>392.0</td>\n",
       "      <td>Honey</td>\n",
       "    </tr>\n",
       "    <tr>\n",
       "      <th>3931</th>\n",
       "      <td>Honey</td>\n",
       "      <td>T</td>\n",
       "      <td>TR</td>\n",
       "      <td>2018</td>\n",
       "      <td>495.0</td>\n",
       "      <td>Honey</td>\n",
       "    </tr>\n",
       "    <tr>\n",
       "      <th>3932</th>\n",
       "      <td>Honey</td>\n",
       "      <td>T</td>\n",
       "      <td>TR</td>\n",
       "      <td>2019</td>\n",
       "      <td>577.0</td>\n",
       "      <td>Honey</td>\n",
       "    </tr>\n",
       "    <tr>\n",
       "      <th>3933</th>\n",
       "      <td>Honey</td>\n",
       "      <td>T</td>\n",
       "      <td>TR</td>\n",
       "      <td>2021</td>\n",
       "      <td>1221.0</td>\n",
       "      <td>Honey</td>\n",
       "    </tr>\n",
       "    <tr>\n",
       "      <th>3934</th>\n",
       "      <td>Honey</td>\n",
       "      <td>T</td>\n",
       "      <td>UK</td>\n",
       "      <td>2019</td>\n",
       "      <td>0.0</td>\n",
       "      <td>Honey</td>\n",
       "    </tr>\n",
       "  </tbody>\n",
       "</table>\n",
       "<p>3935 rows × 6 columns</p>\n",
       "</div>"
      ],
      "text/plain": [
       "     agriprod Unit Country  Year    Value        Description\n",
       "0        Meat    T      BE  2016   5502.0  Meat of livestock\n",
       "1        Meat    T      BE  2017   7321.0  Meat of livestock\n",
       "2        Meat    T      BE  2018   8708.0  Meat of livestock\n",
       "3        Meat    T      BE  2019   9601.0  Meat of livestock\n",
       "4        Meat    T      BE  2020  10364.0  Meat of livestock\n",
       "...       ...  ...     ...   ...      ...                ...\n",
       "3930    Honey    T      TR  2017    392.0              Honey\n",
       "3931    Honey    T      TR  2018    495.0              Honey\n",
       "3932    Honey    T      TR  2019    577.0              Honey\n",
       "3933    Honey    T      TR  2021   1221.0              Honey\n",
       "3934    Honey    T      UK  2019      0.0              Honey\n",
       "\n",
       "[3935 rows x 6 columns]"
      ]
     },
     "execution_count": 19,
     "metadata": {},
     "output_type": "execute_result"
    }
   ],
   "source": [
    "\n",
    "org_food_df['agriprod'] = org_food_df['agriprod'].map(values_to_be_replaced)\n",
    "\n",
    "org_food_df"
   ]
  },
  {
   "cell_type": "code",
   "execution_count": 20,
   "id": "ae837911",
   "metadata": {},
   "outputs": [
    {
     "data": {
      "text/plain": [
       "array(['Meat', 'Dairy', 'Eggs', 'Honey'], dtype=object)"
      ]
     },
     "execution_count": 20,
     "metadata": {},
     "output_type": "execute_result"
    }
   ],
   "source": [
    "org_food_df.agriprod.unique()"
   ]
  },
  {
   "cell_type": "code",
   "execution_count": 21,
   "id": "aa9dc059",
   "metadata": {},
   "outputs": [
    {
     "data": {
      "text/plain": [
       "agriprod\n",
       "Dairy    33\n",
       "Eggs     33\n",
       "Honey    24\n",
       "Meat     31\n",
       "Name: Country, dtype: int64"
      ]
     },
     "execution_count": 21,
     "metadata": {},
     "output_type": "execute_result"
    }
   ],
   "source": [
    "org_food_df.groupby('agriprod')['Country'].nunique()"
   ]
  },
  {
   "cell_type": "markdown",
   "id": "ada6001c",
   "metadata": {},
   "source": [
    "### Step 5 - Data Formatting\n",
    "\n",
    "#### One Hot Encoding of data"
   ]
  },
  {
   "cell_type": "code",
   "execution_count": 27,
   "id": "242f4a75",
   "metadata": {},
   "outputs": [],
   "source": [
    "df2 = org_food_df"
   ]
  },
  {
   "cell_type": "code",
   "execution_count": 29,
   "id": "1b5b91f9",
   "metadata": {},
   "outputs": [],
   "source": [
    "#creating instance of one-hot-encoder\n",
    "encoder = OneHotEncoder(handle_unknown='ignore')"
   ]
  },
  {
   "cell_type": "code",
   "execution_count": 30,
   "id": "99b4e7f8",
   "metadata": {},
   "outputs": [],
   "source": [
    "#perform one-hot encoding on the 'agriprod' column \n",
    "\n",
    "encoder_df = pd.DataFrame(encoder.fit_transform(df2[['agriprod']]).toarray())"
   ]
  },
  {
   "cell_type": "code",
   "execution_count": 31,
   "id": "d35972fe",
   "metadata": {},
   "outputs": [],
   "source": [
    "#merge one-hot encoded columns back with original DataFrame\n",
    "\n",
    "final_df = df2.join(encoder_df)"
   ]
  },
  {
   "cell_type": "code",
   "execution_count": 32,
   "id": "ee409786",
   "metadata": {},
   "outputs": [
    {
     "name": "stdout",
     "output_type": "stream",
     "text": [
      "     agriprod Unit Country  Year    Value        Description    0    1    2  \\\n",
      "0        Meat    T      BE  2016   5502.0  Meat of livestock  0.0  0.0  0.0   \n",
      "1        Meat    T      BE  2017   7321.0  Meat of livestock  0.0  0.0  0.0   \n",
      "2        Meat    T      BE  2018   8708.0  Meat of livestock  0.0  0.0  0.0   \n",
      "3        Meat    T      BE  2019   9601.0  Meat of livestock  0.0  0.0  0.0   \n",
      "4        Meat    T      BE  2020  10364.0  Meat of livestock  0.0  0.0  0.0   \n",
      "...       ...  ...     ...   ...      ...                ...  ...  ...  ...   \n",
      "3930    Honey    T      TR  2017    392.0              Honey  0.0  0.0  1.0   \n",
      "3931    Honey    T      TR  2018    495.0              Honey  0.0  0.0  1.0   \n",
      "3932    Honey    T      TR  2019    577.0              Honey  0.0  0.0  1.0   \n",
      "3933    Honey    T      TR  2021   1221.0              Honey  0.0  0.0  1.0   \n",
      "3934    Honey    T      UK  2019      0.0              Honey  0.0  0.0  1.0   \n",
      "\n",
      "        3  \n",
      "0     1.0  \n",
      "1     1.0  \n",
      "2     1.0  \n",
      "3     1.0  \n",
      "4     1.0  \n",
      "...   ...  \n",
      "3930  0.0  \n",
      "3931  0.0  \n",
      "3932  0.0  \n",
      "3933  0.0  \n",
      "3934  0.0  \n",
      "\n",
      "[3935 rows x 10 columns]\n"
     ]
    }
   ],
   "source": [
    "#view final df\n",
    "\n",
    "print(final_df)"
   ]
  },
  {
   "cell_type": "code",
   "execution_count": 33,
   "id": "339ac2ed",
   "metadata": {},
   "outputs": [],
   "source": [
    "# rename columns '0', '1', 2' and '3'\n",
    "\n",
    "final_df.rename(columns = {'0':'Dairy', '1':'Eggs', '2':'Honey', '3':'Meat'}, inplace = True )"
   ]
  },
  {
   "cell_type": "code",
   "execution_count": 34,
   "id": "d6f30479",
   "metadata": {},
   "outputs": [],
   "source": [
    "# save to new .csv file\n",
    "\n",
    "final_df.to_csv('Datasets/org_ds.csv')"
   ]
  },
  {
   "cell_type": "markdown",
   "id": "73daedcb",
   "metadata": {},
   "source": [
    "### Step 6 - Split the DataFrame for analysis\n",
    "\n",
    "Taking the organic food dataframe and the preparatory work done so far.  The dataframe is split on by category. The choosen dataset for analysis is the 'dairy' category. \n",
    "<br><br>\n",
    "The dataframe is further split into milk with raw milk - specifically raw cow's milk, the chosen for the next subdivision.  The second split is to narrow down to one item to complete the analysis.\n"
   ]
  },
  {
   "cell_type": "code",
   "execution_count": 35,
   "id": "567a7047",
   "metadata": {},
   "outputs": [],
   "source": [
    "# import prepared df\n",
    "\n",
    "org_df = pd.read_csv(\"Datasets/org_ds2.csv\")"
   ]
  },
  {
   "cell_type": "code",
   "execution_count": 36,
   "id": "36f2e588",
   "metadata": {},
   "outputs": [
    {
     "data": {
      "text/html": [
       "<div>\n",
       "<style scoped>\n",
       "    .dataframe tbody tr th:only-of-type {\n",
       "        vertical-align: middle;\n",
       "    }\n",
       "\n",
       "    .dataframe tbody tr th {\n",
       "        vertical-align: top;\n",
       "    }\n",
       "\n",
       "    .dataframe thead th {\n",
       "        text-align: right;\n",
       "    }\n",
       "</style>\n",
       "<table border=\"1\" class=\"dataframe\">\n",
       "  <thead>\n",
       "    <tr style=\"text-align: right;\">\n",
       "      <th></th>\n",
       "      <th>agriprod</th>\n",
       "      <th>Unit</th>\n",
       "      <th>Country</th>\n",
       "      <th>Year</th>\n",
       "      <th>Value</th>\n",
       "      <th>Description</th>\n",
       "      <th>Dairy</th>\n",
       "      <th>Eggs</th>\n",
       "      <th>Honey</th>\n",
       "      <th>Meat</th>\n",
       "    </tr>\n",
       "  </thead>\n",
       "  <tbody>\n",
       "    <tr>\n",
       "      <th>0</th>\n",
       "      <td>Meat</td>\n",
       "      <td>T</td>\n",
       "      <td>BE</td>\n",
       "      <td>2016</td>\n",
       "      <td>5502.0</td>\n",
       "      <td>Meat of livestock</td>\n",
       "      <td>0</td>\n",
       "      <td>0</td>\n",
       "      <td>0</td>\n",
       "      <td>1</td>\n",
       "    </tr>\n",
       "    <tr>\n",
       "      <th>1</th>\n",
       "      <td>Meat</td>\n",
       "      <td>T</td>\n",
       "      <td>BE</td>\n",
       "      <td>2017</td>\n",
       "      <td>7321.0</td>\n",
       "      <td>Meat of livestock</td>\n",
       "      <td>0</td>\n",
       "      <td>0</td>\n",
       "      <td>0</td>\n",
       "      <td>1</td>\n",
       "    </tr>\n",
       "    <tr>\n",
       "      <th>2</th>\n",
       "      <td>Meat</td>\n",
       "      <td>T</td>\n",
       "      <td>BE</td>\n",
       "      <td>2018</td>\n",
       "      <td>8708.0</td>\n",
       "      <td>Meat of livestock</td>\n",
       "      <td>0</td>\n",
       "      <td>0</td>\n",
       "      <td>0</td>\n",
       "      <td>1</td>\n",
       "    </tr>\n",
       "    <tr>\n",
       "      <th>3</th>\n",
       "      <td>Meat</td>\n",
       "      <td>T</td>\n",
       "      <td>BE</td>\n",
       "      <td>2019</td>\n",
       "      <td>9601.0</td>\n",
       "      <td>Meat of livestock</td>\n",
       "      <td>0</td>\n",
       "      <td>0</td>\n",
       "      <td>0</td>\n",
       "      <td>1</td>\n",
       "    </tr>\n",
       "    <tr>\n",
       "      <th>4</th>\n",
       "      <td>Meat</td>\n",
       "      <td>T</td>\n",
       "      <td>BE</td>\n",
       "      <td>2020</td>\n",
       "      <td>10364.0</td>\n",
       "      <td>Meat of livestock</td>\n",
       "      <td>0</td>\n",
       "      <td>0</td>\n",
       "      <td>0</td>\n",
       "      <td>1</td>\n",
       "    </tr>\n",
       "  </tbody>\n",
       "</table>\n",
       "</div>"
      ],
      "text/plain": [
       "  agriprod Unit Country  Year    Value        Description  Dairy  Eggs  Honey  \\\n",
       "0     Meat    T      BE  2016   5502.0  Meat of livestock      0     0      0   \n",
       "1     Meat    T      BE  2017   7321.0  Meat of livestock      0     0      0   \n",
       "2     Meat    T      BE  2018   8708.0  Meat of livestock      0     0      0   \n",
       "3     Meat    T      BE  2019   9601.0  Meat of livestock      0     0      0   \n",
       "4     Meat    T      BE  2020  10364.0  Meat of livestock      0     0      0   \n",
       "\n",
       "   Meat  \n",
       "0     1  \n",
       "1     1  \n",
       "2     1  \n",
       "3     1  \n",
       "4     1  "
      ]
     },
     "execution_count": 36,
     "metadata": {},
     "output_type": "execute_result"
    }
   ],
   "source": [
    "org_df.head()"
   ]
  },
  {
   "cell_type": "code",
   "execution_count": 116,
   "id": "eda35ce1",
   "metadata": {},
   "outputs": [],
   "source": [
    "# split dataframe by 'agriprod'\n",
    "\n",
    "# REFERENCE - https://towardsdatascience.com/filtering-data-frames-in-pandas-b570b1f834b9\n",
    "\n",
    "dairy_df = org_df[org_df['agriprod']=='Dairy']\n",
    "\n",
    "#eggs_df = org_df[org_df['agriprod']=='Eggs']\n",
    "#honey_df = org_df[org_df['agriprod']=='Honey']\n",
    "#meat_df = org_df[org_df['agriprod']=='Meat']\n",
    "\n",
    "#check the dataframe post seperation\n",
    "#dairy_df.head()"
   ]
  },
  {
   "cell_type": "markdown",
   "id": "99feb460",
   "metadata": {},
   "source": [
    "#### Split of dairy dataframe into raw milk dataframe\n",
    "\n",
    "The dataframe is also split into Ireland and Spain, which is the selected country for analysis."
   ]
  },
  {
   "cell_type": "code",
   "execution_count": 39,
   "id": "b5d63f14",
   "metadata": {},
   "outputs": [
    {
     "data": {
      "text/html": [
       "<div>\n",
       "<style scoped>\n",
       "    .dataframe tbody tr th:only-of-type {\n",
       "        vertical-align: middle;\n",
       "    }\n",
       "\n",
       "    .dataframe tbody tr th {\n",
       "        vertical-align: top;\n",
       "    }\n",
       "\n",
       "    .dataframe thead th {\n",
       "        text-align: right;\n",
       "    }\n",
       "</style>\n",
       "<table border=\"1\" class=\"dataframe\">\n",
       "  <thead>\n",
       "    <tr style=\"text-align: right;\">\n",
       "      <th></th>\n",
       "      <th>agriprod</th>\n",
       "      <th>Unit</th>\n",
       "      <th>Country</th>\n",
       "      <th>Year</th>\n",
       "      <th>Value</th>\n",
       "      <th>Description</th>\n",
       "      <th>Dairy</th>\n",
       "      <th>Eggs</th>\n",
       "      <th>Honey</th>\n",
       "      <th>Meat</th>\n",
       "    </tr>\n",
       "  </thead>\n",
       "  <tbody>\n",
       "    <tr>\n",
       "      <th>1340</th>\n",
       "      <td>Dairy</td>\n",
       "      <td>T</td>\n",
       "      <td>AT</td>\n",
       "      <td>2014</td>\n",
       "      <td>443486.0</td>\n",
       "      <td>Raw milk</td>\n",
       "      <td>1</td>\n",
       "      <td>0</td>\n",
       "      <td>0</td>\n",
       "      <td>0</td>\n",
       "    </tr>\n",
       "    <tr>\n",
       "      <th>1341</th>\n",
       "      <td>Dairy</td>\n",
       "      <td>T</td>\n",
       "      <td>AT</td>\n",
       "      <td>2015</td>\n",
       "      <td>440924.0</td>\n",
       "      <td>Raw milk</td>\n",
       "      <td>1</td>\n",
       "      <td>0</td>\n",
       "      <td>0</td>\n",
       "      <td>0</td>\n",
       "    </tr>\n",
       "    <tr>\n",
       "      <th>1342</th>\n",
       "      <td>Dairy</td>\n",
       "      <td>T</td>\n",
       "      <td>AT</td>\n",
       "      <td>2016</td>\n",
       "      <td>552389.0</td>\n",
       "      <td>Raw milk</td>\n",
       "      <td>1</td>\n",
       "      <td>0</td>\n",
       "      <td>0</td>\n",
       "      <td>0</td>\n",
       "    </tr>\n",
       "    <tr>\n",
       "      <th>1343</th>\n",
       "      <td>Dairy</td>\n",
       "      <td>T</td>\n",
       "      <td>AT</td>\n",
       "      <td>2017</td>\n",
       "      <td>612629.0</td>\n",
       "      <td>Raw milk</td>\n",
       "      <td>1</td>\n",
       "      <td>0</td>\n",
       "      <td>0</td>\n",
       "      <td>0</td>\n",
       "    </tr>\n",
       "    <tr>\n",
       "      <th>1344</th>\n",
       "      <td>Dairy</td>\n",
       "      <td>T</td>\n",
       "      <td>AT</td>\n",
       "      <td>2018</td>\n",
       "      <td>635751.0</td>\n",
       "      <td>Raw milk</td>\n",
       "      <td>1</td>\n",
       "      <td>0</td>\n",
       "      <td>0</td>\n",
       "      <td>0</td>\n",
       "    </tr>\n",
       "    <tr>\n",
       "      <th>...</th>\n",
       "      <td>...</td>\n",
       "      <td>...</td>\n",
       "      <td>...</td>\n",
       "      <td>...</td>\n",
       "      <td>...</td>\n",
       "      <td>...</td>\n",
       "      <td>...</td>\n",
       "      <td>...</td>\n",
       "      <td>...</td>\n",
       "      <td>...</td>\n",
       "    </tr>\n",
       "    <tr>\n",
       "      <th>3797</th>\n",
       "      <td>Dairy</td>\n",
       "      <td>T</td>\n",
       "      <td>TR</td>\n",
       "      <td>2014</td>\n",
       "      <td>0.0</td>\n",
       "      <td>Other organic dairy products</td>\n",
       "      <td>1</td>\n",
       "      <td>0</td>\n",
       "      <td>0</td>\n",
       "      <td>0</td>\n",
       "    </tr>\n",
       "    <tr>\n",
       "      <th>3798</th>\n",
       "      <td>Dairy</td>\n",
       "      <td>T</td>\n",
       "      <td>TR</td>\n",
       "      <td>2015</td>\n",
       "      <td>3.0</td>\n",
       "      <td>Other organic dairy products</td>\n",
       "      <td>1</td>\n",
       "      <td>0</td>\n",
       "      <td>0</td>\n",
       "      <td>0</td>\n",
       "    </tr>\n",
       "    <tr>\n",
       "      <th>3799</th>\n",
       "      <td>Dairy</td>\n",
       "      <td>T</td>\n",
       "      <td>TR</td>\n",
       "      <td>2016</td>\n",
       "      <td>0.0</td>\n",
       "      <td>Other organic dairy products</td>\n",
       "      <td>1</td>\n",
       "      <td>0</td>\n",
       "      <td>0</td>\n",
       "      <td>0</td>\n",
       "    </tr>\n",
       "    <tr>\n",
       "      <th>3800</th>\n",
       "      <td>Dairy</td>\n",
       "      <td>T</td>\n",
       "      <td>TR</td>\n",
       "      <td>2017</td>\n",
       "      <td>0.0</td>\n",
       "      <td>Other organic dairy products</td>\n",
       "      <td>1</td>\n",
       "      <td>0</td>\n",
       "      <td>0</td>\n",
       "      <td>0</td>\n",
       "    </tr>\n",
       "    <tr>\n",
       "      <th>3801</th>\n",
       "      <td>Dairy</td>\n",
       "      <td>T</td>\n",
       "      <td>TR</td>\n",
       "      <td>2018</td>\n",
       "      <td>0.0</td>\n",
       "      <td>Other organic dairy products</td>\n",
       "      <td>1</td>\n",
       "      <td>0</td>\n",
       "      <td>0</td>\n",
       "      <td>0</td>\n",
       "    </tr>\n",
       "  </tbody>\n",
       "</table>\n",
       "<p>2200 rows × 10 columns</p>\n",
       "</div>"
      ],
      "text/plain": [
       "     agriprod Unit Country  Year     Value                   Description  \\\n",
       "1340    Dairy    T      AT  2014  443486.0                      Raw milk   \n",
       "1341    Dairy    T      AT  2015  440924.0                      Raw milk   \n",
       "1342    Dairy    T      AT  2016  552389.0                      Raw milk   \n",
       "1343    Dairy    T      AT  2017  612629.0                      Raw milk   \n",
       "1344    Dairy    T      AT  2018  635751.0                      Raw milk   \n",
       "...       ...  ...     ...   ...       ...                           ...   \n",
       "3797    Dairy    T      TR  2014       0.0  Other organic dairy products   \n",
       "3798    Dairy    T      TR  2015       3.0  Other organic dairy products   \n",
       "3799    Dairy    T      TR  2016       0.0  Other organic dairy products   \n",
       "3800    Dairy    T      TR  2017       0.0  Other organic dairy products   \n",
       "3801    Dairy    T      TR  2018       0.0  Other organic dairy products   \n",
       "\n",
       "      Dairy  Eggs  Honey  Meat  \n",
       "1340      1     0      0     0  \n",
       "1341      1     0      0     0  \n",
       "1342      1     0      0     0  \n",
       "1343      1     0      0     0  \n",
       "1344      1     0      0     0  \n",
       "...     ...   ...    ...   ...  \n",
       "3797      1     0      0     0  \n",
       "3798      1     0      0     0  \n",
       "3799      1     0      0     0  \n",
       "3800      1     0      0     0  \n",
       "3801      1     0      0     0  \n",
       "\n",
       "[2200 rows x 10 columns]"
      ]
     },
     "execution_count": 39,
     "metadata": {},
     "output_type": "execute_result"
    }
   ],
   "source": [
    "# create a new dataframe called 'milk_df'\n",
    "milk_df = dairy_df\n",
    "\n",
    "milk_df"
   ]
  },
  {
   "cell_type": "code",
   "execution_count": 38,
   "id": "dceeb518",
   "metadata": {},
   "outputs": [],
   "source": [
    "# update values to reflect all raw cows milk\n",
    "\n",
    "milk_values_to_be_replaced = { \n",
    "    'Raw cows milk':'Raw milk', \n",
    "    'Drinking milk':'Raw milk',\n",
    "     }"
   ]
  },
  {
   "cell_type": "code",
   "execution_count": 40,
   "id": "e45491e4",
   "metadata": {},
   "outputs": [],
   "source": [
    "milk_df = milk_df.drop(['Meat', 'Honey', 'Dairy', 'Eggs'], axis=1)"
   ]
  },
  {
   "cell_type": "code",
   "execution_count": 41,
   "id": "89568e56",
   "metadata": {},
   "outputs": [
    {
     "data": {
      "text/html": [
       "<div>\n",
       "<style scoped>\n",
       "    .dataframe tbody tr th:only-of-type {\n",
       "        vertical-align: middle;\n",
       "    }\n",
       "\n",
       "    .dataframe tbody tr th {\n",
       "        vertical-align: top;\n",
       "    }\n",
       "\n",
       "    .dataframe thead th {\n",
       "        text-align: right;\n",
       "    }\n",
       "</style>\n",
       "<table border=\"1\" class=\"dataframe\">\n",
       "  <thead>\n",
       "    <tr style=\"text-align: right;\">\n",
       "      <th></th>\n",
       "      <th>agriprod</th>\n",
       "      <th>Unit</th>\n",
       "      <th>Country</th>\n",
       "      <th>Year</th>\n",
       "      <th>Value</th>\n",
       "      <th>Description</th>\n",
       "    </tr>\n",
       "  </thead>\n",
       "  <tbody>\n",
       "    <tr>\n",
       "      <th>1340</th>\n",
       "      <td>Dairy</td>\n",
       "      <td>T</td>\n",
       "      <td>AT</td>\n",
       "      <td>2014</td>\n",
       "      <td>443486.0</td>\n",
       "      <td>NaN</td>\n",
       "    </tr>\n",
       "    <tr>\n",
       "      <th>1341</th>\n",
       "      <td>Dairy</td>\n",
       "      <td>T</td>\n",
       "      <td>AT</td>\n",
       "      <td>2015</td>\n",
       "      <td>440924.0</td>\n",
       "      <td>NaN</td>\n",
       "    </tr>\n",
       "    <tr>\n",
       "      <th>1342</th>\n",
       "      <td>Dairy</td>\n",
       "      <td>T</td>\n",
       "      <td>AT</td>\n",
       "      <td>2016</td>\n",
       "      <td>552389.0</td>\n",
       "      <td>NaN</td>\n",
       "    </tr>\n",
       "    <tr>\n",
       "      <th>1343</th>\n",
       "      <td>Dairy</td>\n",
       "      <td>T</td>\n",
       "      <td>AT</td>\n",
       "      <td>2017</td>\n",
       "      <td>612629.0</td>\n",
       "      <td>NaN</td>\n",
       "    </tr>\n",
       "    <tr>\n",
       "      <th>1344</th>\n",
       "      <td>Dairy</td>\n",
       "      <td>T</td>\n",
       "      <td>AT</td>\n",
       "      <td>2018</td>\n",
       "      <td>635751.0</td>\n",
       "      <td>NaN</td>\n",
       "    </tr>\n",
       "    <tr>\n",
       "      <th>...</th>\n",
       "      <td>...</td>\n",
       "      <td>...</td>\n",
       "      <td>...</td>\n",
       "      <td>...</td>\n",
       "      <td>...</td>\n",
       "      <td>...</td>\n",
       "    </tr>\n",
       "    <tr>\n",
       "      <th>3797</th>\n",
       "      <td>Dairy</td>\n",
       "      <td>T</td>\n",
       "      <td>TR</td>\n",
       "      <td>2014</td>\n",
       "      <td>0.0</td>\n",
       "      <td>NaN</td>\n",
       "    </tr>\n",
       "    <tr>\n",
       "      <th>3798</th>\n",
       "      <td>Dairy</td>\n",
       "      <td>T</td>\n",
       "      <td>TR</td>\n",
       "      <td>2015</td>\n",
       "      <td>3.0</td>\n",
       "      <td>NaN</td>\n",
       "    </tr>\n",
       "    <tr>\n",
       "      <th>3799</th>\n",
       "      <td>Dairy</td>\n",
       "      <td>T</td>\n",
       "      <td>TR</td>\n",
       "      <td>2016</td>\n",
       "      <td>0.0</td>\n",
       "      <td>NaN</td>\n",
       "    </tr>\n",
       "    <tr>\n",
       "      <th>3800</th>\n",
       "      <td>Dairy</td>\n",
       "      <td>T</td>\n",
       "      <td>TR</td>\n",
       "      <td>2017</td>\n",
       "      <td>0.0</td>\n",
       "      <td>NaN</td>\n",
       "    </tr>\n",
       "    <tr>\n",
       "      <th>3801</th>\n",
       "      <td>Dairy</td>\n",
       "      <td>T</td>\n",
       "      <td>TR</td>\n",
       "      <td>2018</td>\n",
       "      <td>0.0</td>\n",
       "      <td>NaN</td>\n",
       "    </tr>\n",
       "  </tbody>\n",
       "</table>\n",
       "<p>2200 rows × 6 columns</p>\n",
       "</div>"
      ],
      "text/plain": [
       "     agriprod Unit Country  Year     Value Description\n",
       "1340    Dairy    T      AT  2014  443486.0         NaN\n",
       "1341    Dairy    T      AT  2015  440924.0         NaN\n",
       "1342    Dairy    T      AT  2016  552389.0         NaN\n",
       "1343    Dairy    T      AT  2017  612629.0         NaN\n",
       "1344    Dairy    T      AT  2018  635751.0         NaN\n",
       "...       ...  ...     ...   ...       ...         ...\n",
       "3797    Dairy    T      TR  2014       0.0         NaN\n",
       "3798    Dairy    T      TR  2015       3.0         NaN\n",
       "3799    Dairy    T      TR  2016       0.0         NaN\n",
       "3800    Dairy    T      TR  2017       0.0         NaN\n",
       "3801    Dairy    T      TR  2018       0.0         NaN\n",
       "\n",
       "[2200 rows x 6 columns]"
      ]
     },
     "execution_count": 41,
     "metadata": {},
     "output_type": "execute_result"
    }
   ],
   "source": [
    "milk_df['Description'] = milk_df['Description'].map(milk_values_to_be_replaced)\n",
    "\n",
    "milk_df"
   ]
  },
  {
   "cell_type": "code",
   "execution_count": 42,
   "id": "cf0fe595",
   "metadata": {},
   "outputs": [],
   "source": [
    "milk_df = milk_df[dairy_df['Description']=='Raw milk']"
   ]
  },
  {
   "cell_type": "code",
   "execution_count": 43,
   "id": "33e71e50",
   "metadata": {},
   "outputs": [
    {
     "name": "stdout",
     "output_type": "stream",
     "text": [
      "<class 'pandas.core.frame.DataFrame'>\n",
      "Int64Index: 281 entries, 1340 to 1620\n",
      "Data columns (total 6 columns):\n",
      " #   Column       Non-Null Count  Dtype  \n",
      "---  ------       --------------  -----  \n",
      " 0   agriprod     281 non-null    object \n",
      " 1   Unit         281 non-null    object \n",
      " 2   Country      281 non-null    object \n",
      " 3   Year         281 non-null    int64  \n",
      " 4   Value        281 non-null    float64\n",
      " 5   Description  0 non-null      object \n",
      "dtypes: float64(1), int64(1), object(4)\n",
      "memory usage: 15.4+ KB\n"
     ]
    }
   ],
   "source": [
    "milk_df.info()"
   ]
  },
  {
   "cell_type": "code",
   "execution_count": 50,
   "id": "a3ebbbeb",
   "metadata": {},
   "outputs": [],
   "source": [
    "# save milk_df to new csv file \n",
    "# Reason - notebook kept loosing the data in the 'Description' column.  \n",
    "# The solution to keep data integrety was to save the formatted dataframe to a csv file and re-import to the notebook.\n",
    "\n",
    "milk_df.to_csv('Datasets/milk_ds.csv')"
   ]
  },
  {
   "cell_type": "code",
   "execution_count": 53,
   "id": "704feeff",
   "metadata": {},
   "outputs": [
    {
     "name": "stdout",
     "output_type": "stream",
     "text": [
      "<class 'pandas.core.frame.DataFrame'>\n",
      "RangeIndex: 742 entries, 0 to 741\n",
      "Data columns (total 6 columns):\n",
      " #   Column       Non-Null Count  Dtype  \n",
      "---  ------       --------------  -----  \n",
      " 0   agriprod     742 non-null    object \n",
      " 1   Unit         742 non-null    object \n",
      " 2   Country      742 non-null    object \n",
      " 3   Year         742 non-null    int64  \n",
      " 4   Value        722 non-null    float64\n",
      " 5   Description  742 non-null    object \n",
      "dtypes: float64(1), int64(1), object(4)\n",
      "memory usage: 34.9+ KB\n"
     ]
    }
   ],
   "source": [
    "# import milk_df to file for analysis\n",
    "\n",
    "org_milk_df = pd.read_csv(\"Datasets/milk_df.csv\")\n",
    "\n",
    "# check the dataframe loaded into the notebook\n",
    "org_milk_df.info()"
   ]
  },
  {
   "cell_type": "markdown",
   "id": "a663b0bc",
   "metadata": {},
   "source": [
    "#### Extract Irish Data from the Org_milk_df"
   ]
  },
  {
   "cell_type": "code",
   "execution_count": 83,
   "id": "65cd66db",
   "metadata": {},
   "outputs": [
    {
     "name": "stdout",
     "output_type": "stream",
     "text": [
      "<class 'pandas.core.frame.DataFrame'>\n",
      "Int64Index: 21 entries, 126 to 623\n",
      "Data columns (total 6 columns):\n",
      " #   Column       Non-Null Count  Dtype  \n",
      "---  ------       --------------  -----  \n",
      " 0   agriprod     21 non-null     object \n",
      " 1   Unit         21 non-null     object \n",
      " 2   Country      21 non-null     object \n",
      " 3   Year         21 non-null     int64  \n",
      " 4   Value        21 non-null     float64\n",
      " 5   Description  21 non-null     object \n",
      "dtypes: float64(1), int64(1), object(4)\n",
      "memory usage: 1.1+ KB\n"
     ]
    }
   ],
   "source": [
    "# extract data for Ireland production of organic milk\n",
    "\n",
    "irl_milk_df = org_milk_df[org_milk_df['Country']=='IE']\n",
    "\n",
    "# review data\n",
    "irl_milk_df.info()"
   ]
  },
  {
   "cell_type": "markdown",
   "id": "2c3e1488",
   "metadata": {},
   "source": [
    "#### Extract Spanish Data from the Org_milk_df"
   ]
  },
  {
   "cell_type": "code",
   "execution_count": 91,
   "id": "9babd69e",
   "metadata": {},
   "outputs": [],
   "source": [
    "# extract data for Spanish production of organic milk\n",
    "\n",
    "es_milk_df = org_milk_df[org_milk_df['Country']=='ES']\n",
    "\n",
    "# review data\n",
    "#es_milk_df.info()"
   ]
  },
  {
   "cell_type": "markdown",
   "id": "ba3064e7",
   "metadata": {},
   "source": [
    "#### Save the datasets to a csv file for use in other notebooks"
   ]
  },
  {
   "cell_type": "code",
   "execution_count": 117,
   "id": "b39af2a9",
   "metadata": {},
   "outputs": [],
   "source": [
    "# save the Country datasets to new .csv files\n",
    "\n",
    "es_milk_df.to_csv('Datasets/es_milk_df.csv')\n",
    "\n",
    "irl_milk_df.to_csv('Datasets/irl_milk_df.csv')"
   ]
  },
  {
   "cell_type": "markdown",
   "id": "f2d2b5e3",
   "metadata": {},
   "source": [
    "### Step 7 Feature Engineering\n",
    "\n",
    "Graphical review of the two country datasets\n"
   ]
  },
  {
   "cell_type": "code",
   "execution_count": null,
   "id": "612a8778",
   "metadata": {},
   "outputs": [],
   "source": []
  },
  {
   "cell_type": "code",
   "execution_count": null,
   "id": "d0aca99f",
   "metadata": {},
   "outputs": [],
   "source": []
  },
  {
   "cell_type": "code",
   "execution_count": null,
   "id": "40844471",
   "metadata": {},
   "outputs": [],
   "source": []
  },
  {
   "cell_type": "code",
   "execution_count": null,
   "id": "21aaafb7",
   "metadata": {},
   "outputs": [],
   "source": []
  },
  {
   "cell_type": "code",
   "execution_count": null,
   "id": "20713adc",
   "metadata": {},
   "outputs": [],
   "source": []
  },
  {
   "cell_type": "code",
   "execution_count": null,
   "id": "d7415bbb",
   "metadata": {},
   "outputs": [],
   "source": []
  },
  {
   "cell_type": "markdown",
   "id": "62b0f27b",
   "metadata": {},
   "source": [
    "### Step 8 Graphical Review of the dataset\n",
    "\n",
    "Graphical review of the two country datasets"
   ]
  },
  {
   "cell_type": "markdown",
   "id": "f5c254ce",
   "metadata": {},
   "source": [
    "#### Review of Irish data"
   ]
  },
  {
   "cell_type": "code",
   "execution_count": 57,
   "id": "7be0e525",
   "metadata": {},
   "outputs": [
    {
     "data": {
      "text/html": [
       "<div>\n",
       "<style scoped>\n",
       "    .dataframe tbody tr th:only-of-type {\n",
       "        vertical-align: middle;\n",
       "    }\n",
       "\n",
       "    .dataframe tbody tr th {\n",
       "        vertical-align: top;\n",
       "    }\n",
       "\n",
       "    .dataframe thead th {\n",
       "        text-align: right;\n",
       "    }\n",
       "</style>\n",
       "<table border=\"1\" class=\"dataframe\">\n",
       "  <thead>\n",
       "    <tr style=\"text-align: right;\">\n",
       "      <th></th>\n",
       "      <th>Year</th>\n",
       "      <th>Value</th>\n",
       "    </tr>\n",
       "  </thead>\n",
       "  <tbody>\n",
       "    <tr>\n",
       "      <th>Year</th>\n",
       "      <td>1.000000</td>\n",
       "      <td>0.288259</td>\n",
       "    </tr>\n",
       "    <tr>\n",
       "      <th>Value</th>\n",
       "      <td>0.288259</td>\n",
       "      <td>1.000000</td>\n",
       "    </tr>\n",
       "  </tbody>\n",
       "</table>\n",
       "</div>"
      ],
      "text/plain": [
       "           Year     Value\n",
       "Year   1.000000  0.288259\n",
       "Value  0.288259  1.000000"
      ]
     },
     "execution_count": 57,
     "metadata": {},
     "output_type": "execute_result"
    },
    {
     "data": {
      "image/png": "[encoded data removed]",
      "text/plain": [
       "<Figure size 500x500 with 2 Axes>"
      ]
     },
     "metadata": {},
     "output_type": "display_data"
    }
   ],
   "source": [
    "# Heatmap for Organic Milk Production in Ireland\n",
    "\n",
    "#REFERENCE: https://seaborn.pydata.org/generated/seaborn.heatmap.html?highlight=heatmap#seaborn.heatmap\n",
    "\n",
    "plt.figure(figsize=(5,5))\n",
    "irl_milk_corr = irl_milk_df.corr()\n",
    "sns.heatmap(irl_milk_corr, annot=True);\n",
    "plt.title(\"Heatmap of Organic Milk Production in Ireland\")\n",
    "irl_milk_corr"
   ]
  },
  {
   "cell_type": "code",
   "execution_count": 74,
   "id": "f9dc5554",
   "metadata": {},
   "outputs": [
    {
     "data": {
      "text/plain": [
       "<seaborn.axisgrid.PairGrid at 0x1d1891508e0>"
      ]
     },
     "execution_count": 74,
     "metadata": {},
     "output_type": "execute_result"
    },
    {
     "data": {
      "image/png": "[encoded data removed]",
      "text/plain": [
       "<Figure size 500x500 with 6 Axes>"
      ]
     },
     "metadata": {},
     "output_type": "display_data"
    }
   ],
   "source": [
    "sns.pairplot(irl_milk_df)"
   ]
  },
  {
   "cell_type": "code",
   "execution_count": 73,
   "id": "89857f8f",
   "metadata": {},
   "outputs": [
    {
     "data": {
      "image/png": "[encoded data removed]",
      "text/plain": [
       "<Figure size 640x480 with 1 Axes>"
      ]
     },
     "metadata": {},
     "output_type": "display_data"
    }
   ],
   "source": [
    "sns.histplot(data=irl_milk_df, x='Year', y='Value')\n",
    "plt.title(\"Plot of milk production in Ireland from 2012 by value and year\");"
   ]
  },
  {
   "cell_type": "code",
   "execution_count": 124,
   "id": "a84a89fd",
   "metadata": {},
   "outputs": [
    {
     "data": {
      "text/plain": [
       "Text(0.5, 1.0, 'Plot of organic milk production in Ireland from 2012 by unit')"
      ]
     },
     "execution_count": 124,
     "metadata": {},
     "output_type": "execute_result"
    },
    {
     "data": {
      "image/png": "[encoded data removed]",
      "text/plain": [
       "<Figure size 640x480 with 1 Axes>"
      ]
     },
     "metadata": {},
     "output_type": "display_data"
    }
   ],
   "source": [
    "#sns.histplot(data=yr_2012_plus, x=\"year\")\n",
    "sns.boxplot(data=irl_milk_df, x='Year')\n",
    "plt.title(\"Plot of organic milk production in Ireland from 2012 by unit\")"
   ]
  },
  {
   "cell_type": "markdown",
   "id": "b265756e",
   "metadata": {},
   "source": [
    "#### Review of Spanish dataset"
   ]
  },
  {
   "cell_type": "code",
   "execution_count": 128,
   "id": "457d6218",
   "metadata": {},
   "outputs": [
    {
     "data": {
      "text/html": [
       "<div>\n",
       "<style scoped>\n",
       "    .dataframe tbody tr th:only-of-type {\n",
       "        vertical-align: middle;\n",
       "    }\n",
       "\n",
       "    .dataframe tbody tr th {\n",
       "        vertical-align: top;\n",
       "    }\n",
       "\n",
       "    .dataframe thead th {\n",
       "        text-align: right;\n",
       "    }\n",
       "</style>\n",
       "<table border=\"1\" class=\"dataframe\">\n",
       "  <thead>\n",
       "    <tr style=\"text-align: right;\">\n",
       "      <th></th>\n",
       "      <th>Year</th>\n",
       "      <th>Value</th>\n",
       "    </tr>\n",
       "  </thead>\n",
       "  <tbody>\n",
       "    <tr>\n",
       "      <th>Year</th>\n",
       "      <td>1.000000</td>\n",
       "      <td>0.777265</td>\n",
       "    </tr>\n",
       "    <tr>\n",
       "      <th>Value</th>\n",
       "      <td>0.777265</td>\n",
       "      <td>1.000000</td>\n",
       "    </tr>\n",
       "  </tbody>\n",
       "</table>\n",
       "</div>"
      ],
      "text/plain": [
       "           Year     Value\n",
       "Year   1.000000  0.777265\n",
       "Value  0.777265  1.000000"
      ]
     },
     "execution_count": 128,
     "metadata": {},
     "output_type": "execute_result"
    },
    {
     "data": {
      "image/png": "[encoded data removed]",
      "text/plain": [
       "<Figure size 500x500 with 2 Axes>"
      ]
     },
     "metadata": {},
     "output_type": "display_data"
    }
   ],
   "source": [
    "# Heatmap for Organic Milk Production in Ireland\n",
    "\n",
    "plt.figure(figsize=(5,5))\n",
    "es_milk_corr = es_milk_df.corr()\n",
    "sns.heatmap(es_milk_corr, annot=True);\n",
    "plt.title(\"Heatmap of Organic Milk Production in Spain\")\n",
    "es_milk_corr"
   ]
  },
  {
   "cell_type": "code",
   "execution_count": 120,
   "id": "59b9d4b8",
   "metadata": {},
   "outputs": [
    {
     "data": {
      "text/plain": [
       "Text(0.5, 1.0, 'Heatmap of Organic Milk Production in Spain')"
      ]
     },
     "execution_count": 120,
     "metadata": {},
     "output_type": "execute_result"
    },
    {
     "data": {
      "image/png": "[encoded data removed]",
      "text/plain": [
       "<Figure size 500x500 with 6 Axes>"
      ]
     },
     "metadata": {},
     "output_type": "display_data"
    }
   ],
   "source": [
    "sns.pairplot(es_milk_df)\n",
    "plt.title(\"Heatmap of Organic Milk Production in Spain\")"
   ]
  },
  {
   "cell_type": "code",
   "execution_count": 121,
   "id": "daebfebc",
   "metadata": {},
   "outputs": [
    {
     "data": {
      "image/png": "[encoded data removed]",
      "text/plain": [
       "<Figure size 640x480 with 1 Axes>"
      ]
     },
     "metadata": {},
     "output_type": "display_data"
    }
   ],
   "source": [
    "sns.histplot(data=es_milk_df, x='Year', y='Value')\n",
    "plt.title(\"Plot of milk production in Spanish from 2012 by value and year\");"
   ]
  },
  {
   "cell_type": "code",
   "execution_count": 122,
   "id": "63ab7f04",
   "metadata": {},
   "outputs": [
    {
     "data": {
      "image/png": "[encoded data removed]",
      "text/plain": [
       "<Figure size 640x480 with 1 Axes>"
      ]
     },
     "metadata": {},
     "output_type": "display_data"
    }
   ],
   "source": [
    "#sns.histplot(data=yr_2012_plus, x=\"year\")\n",
    "sns.boxplot(data=es_milk_df, x='Year')\n",
    "plt.title(\"Plot of organic milk production in the Spain from 2012 by unit\");"
   ]
  },
  {
   "cell_type": "markdown",
   "id": "aa9dd77d",
   "metadata": {},
   "source": [
    "#### Graphic review of all data in the European Economic Community"
   ]
  },
  {
   "cell_type": "code",
   "execution_count": 125,
   "id": "15d144a3",
   "metadata": {},
   "outputs": [
    {
     "data": {
      "text/html": [
       "<div>\n",
       "<style scoped>\n",
       "    .dataframe tbody tr th:only-of-type {\n",
       "        vertical-align: middle;\n",
       "    }\n",
       "\n",
       "    .dataframe tbody tr th {\n",
       "        vertical-align: top;\n",
       "    }\n",
       "\n",
       "    .dataframe thead th {\n",
       "        text-align: right;\n",
       "    }\n",
       "</style>\n",
       "<table border=\"1\" class=\"dataframe\">\n",
       "  <thead>\n",
       "    <tr style=\"text-align: right;\">\n",
       "      <th></th>\n",
       "      <th>Year</th>\n",
       "      <th>Value</th>\n",
       "    </tr>\n",
       "  </thead>\n",
       "  <tbody>\n",
       "    <tr>\n",
       "      <th>Year</th>\n",
       "      <td>1.000000</td>\n",
       "      <td>0.060525</td>\n",
       "    </tr>\n",
       "    <tr>\n",
       "      <th>Value</th>\n",
       "      <td>0.060525</td>\n",
       "      <td>1.000000</td>\n",
       "    </tr>\n",
       "  </tbody>\n",
       "</table>\n",
       "</div>"
      ],
      "text/plain": [
       "           Year     Value\n",
       "Year   1.000000  0.060525\n",
       "Value  0.060525  1.000000"
      ]
     },
     "execution_count": 125,
     "metadata": {},
     "output_type": "execute_result"
    },
    {
     "data": {
      "image/png": "[encoded data removed]",
      "text/plain": [
       "<Figure size 500x500 with 2 Axes>"
      ]
     },
     "metadata": {},
     "output_type": "display_data"
    }
   ],
   "source": [
    "# Heatmap for Organic Milk Production in Ireland\n",
    "\n",
    "plt.figure(figsize=(5,5))\n",
    "org_milk_corr = org_milk_df.corr()\n",
    "sns.heatmap(org_milk_corr, annot=True);\n",
    "plt.title(\"Heatmap of Organic Milk Production in Spain\")\n",
    "org_milk_corr"
   ]
  },
  {
   "cell_type": "code",
   "execution_count": 126,
   "id": "70130a0f",
   "metadata": {},
   "outputs": [
    {
     "data": {
      "image/png": "[encoded data removed]",
      "text/plain": [
       "<Figure size 500x500 with 6 Axes>"
      ]
     },
     "metadata": {},
     "output_type": "display_data"
    }
   ],
   "source": [
    "sns.pairplot(org_milk_df)\n",
    "plt.title(\"Heatmap of Organic Milk Production in the EEC\");"
   ]
  },
  {
   "cell_type": "code",
   "execution_count": 127,
   "id": "b744eceb",
   "metadata": {},
   "outputs": [
    {
     "data": {
      "image/png": "[encoded data removed]",
      "text/plain": [
       "<Figure size 640x480 with 1 Axes>"
      ]
     },
     "metadata": {},
     "output_type": "display_data"
    }
   ],
   "source": [
    "sns.histplot(data=org_milk_df, x='Year', y='Value')\n",
    "plt.title(\"Plot of milk production in the EEC from 2012 by value and year\");"
   ]
  },
  {
   "cell_type": "code",
   "execution_count": 129,
   "id": "ded10ad2",
   "metadata": {},
   "outputs": [
    {
     "data": {
      "image/png": "[encoded data removed]",
      "text/plain": [
       "<Figure size 640x480 with 1 Axes>"
      ]
     },
     "metadata": {},
     "output_type": "display_data"
    }
   ],
   "source": [
    "#sns.histplot(data=yr_2012_plus, x=\"year\")\n",
    "sns.boxplot(data=org_milk_df, x='Year')\n",
    "plt.title(\"Plot of organic milk production in the ECC from 2012 by unit\");"
   ]
  },
  {
   "cell_type": "code",
   "execution_count": null,
   "id": "2e964888",
   "metadata": {},
   "outputs": [],
   "source": []
  },
  {
   "cell_type": "code",
   "execution_count": null,
   "id": "6bd7c990",
   "metadata": {},
   "outputs": [],
   "source": []
  },
  {
   "cell_type": "code",
   "execution_count": null,
   "id": "024e7d94",
   "metadata": {},
   "outputs": [],
   "source": []
  },
  {
   "cell_type": "code",
   "execution_count": null,
   "id": "9aba7ce5",
   "metadata": {},
   "outputs": [],
   "source": []
  },
  {
   "cell_type": "code",
   "execution_count": null,
   "id": "9e38129d",
   "metadata": {},
   "outputs": [],
   "source": []
  },
  {
   "cell_type": "code",
   "execution_count": null,
   "id": "92c25507",
   "metadata": {},
   "outputs": [],
   "source": []
  },
  {
   "cell_type": "code",
   "execution_count": null,
   "id": "04c3e628",
   "metadata": {},
   "outputs": [],
   "source": []
  },
  {
   "cell_type": "code",
   "execution_count": null,
   "id": "ce01c454",
   "metadata": {},
   "outputs": [],
   "source": []
  },
  {
   "cell_type": "code",
   "execution_count": null,
   "id": "2639fc8c",
   "metadata": {},
   "outputs": [],
   "source": []
  },
  {
   "cell_type": "code",
   "execution_count": null,
   "id": "57d8408b",
   "metadata": {},
   "outputs": [],
   "source": []
  },
  {
   "cell_type": "code",
   "execution_count": null,
   "id": "d30394d8",
   "metadata": {},
   "outputs": [],
   "source": []
  },
  {
   "cell_type": "code",
   "execution_count": null,
   "id": "1780cfc3",
   "metadata": {},
   "outputs": [],
   "source": []
  },
  {
   "cell_type": "code",
   "execution_count": null,
   "id": "879e0116",
   "metadata": {},
   "outputs": [],
   "source": []
  },
  {
   "cell_type": "code",
   "execution_count": null,
   "id": "5ca8a6e3",
   "metadata": {},
   "outputs": [],
   "source": []
  },
  {
   "cell_type": "code",
   "execution_count": null,
   "id": "5ec82d20",
   "metadata": {},
   "outputs": [],
   "source": []
  },
  {
   "cell_type": "code",
   "execution_count": null,
   "id": "793da2e4",
   "metadata": {},
   "outputs": [],
   "source": []
  },
  {
   "cell_type": "code",
   "execution_count": null,
   "id": "af7daa89",
   "metadata": {},
   "outputs": [],
   "source": []
  }
 ],
 "metadata": {
  "kernelspec": {
   "display_name": "Python 3 (ipykernel)",
   "language": "python",
   "name": "python3"
  },
  "language_info": {
   "codemirror_mode": {
    "name": "ipython",
    "version": 3
   },
   "file_extension": ".py",
   "mimetype": "text/x-python",
   "name": "python",
   "nbconvert_exporter": "python",
   "pygments_lexer": "ipython3",
   "version": "3.9.12"
  }
 },
 "nbformat": 4,
 "nbformat_minor": 5
}
