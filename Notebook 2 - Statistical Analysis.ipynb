{
 "cells": [
  {
   "cell_type": "markdown",
   "id": "3ee92d15",
   "metadata": {},
   "source": [
    "## CA 2 - Review of Agriculture in Ireland\n",
    "\n",
    "### Organic food production\n",
    "\n"
   ]
  },
  {
   "cell_type": "code",
   "execution_count": 1,
   "id": "e37db901",
   "metadata": {},
   "outputs": [],
   "source": [
    "# Importing the libraries\n",
    "\n",
    "# libraries for graphics\n",
    "%matplotlib inline\n",
    "import matplotlib.pyplot as plt\n",
    "import seaborn as sns\n",
    "sns.set(color_codes=True)\n",
    "\n",
    "# create tables\n",
    "from tabulate import tabulate\n",
    "\n",
    "#graphics for calculations\n",
    "import numpy as np\n",
    "import pandas as pd\n",
    "\n",
    "# libraries for analysis\n",
    "import datetime \n",
    "import statistics\n",
    "import pylab\n",
    "\n",
    "import scipy as scipy\n",
    "from scipy import stats\n",
    "from scipy.stats import binom\n",
    "from scipy.stats import poisson\n",
    "import statsmodels.api as sm\n",
    "from statsmodels.formula.api import ols\n",
    "\n",
    "\n"
   ]
  },
  {
   "cell_type": "markdown",
   "id": "80eea69f",
   "metadata": {},
   "source": [
    "###  Local Notebook Functions "
   ]
  },
  {
   "cell_type": "code",
   "execution_count": 2,
   "id": "9c8e72aa",
   "metadata": {},
   "outputs": [],
   "source": [
    "def fill_empty_cells(data_frame):\n",
    "    # fill an na cells with 0\n",
    "    data_frame = data_frame.fillna(0)\n",
    "\n",
    "    \n",
    "def change_type(data_frame, col_name):\n",
    "    # change the type to an int\n",
    "    data_frame.col_name.astype(int)\n",
    "\n"
   ]
  },
  {
   "cell_type": "markdown",
   "id": "956f76bb",
   "metadata": {},
   "source": [
    "### Step 1 - Import the dataframes\n",
    "\n",
    "Dataframes imported are the overall dataset for the European Economic Community (data includes Iceland / the UK / Norway etc), the datasets for Ireland and Spain.  Spain has been selected as the comparison country based on 2020 milk production."
   ]
  },
  {
   "cell_type": "code",
   "execution_count": 51,
   "id": "ba7e69d0",
   "metadata": {},
   "outputs": [],
   "source": [
    "org_milk_df = pd.read_csv(\"Datasets/milk_df.csv\")\n",
    "\n",
    "irl_milk_df = pd.read_csv(\"Datasets/irl_milk_df.csv\")\n",
    "es_milk_df = pd.read_csv(\"Datasets/es_milk_df.csv\")\n",
    "\n",
    "#es_milk_df.info()"
   ]
  },
  {
   "cell_type": "code",
   "execution_count": 27,
   "id": "a2ee002c",
   "metadata": {},
   "outputs": [],
   "source": [
    "# fill an na cells with 0 to allow for calculation\n",
    "org_milk_df = org_milk_df.fillna(0)\n",
    "irl_milk_df = irl_milk_df.fillna(0)\n",
    "es_milk_df = es_milk_df.fillna(0)\n",
    "\n",
    "#check on import\n",
    "#org_milk_df.info()"
   ]
  },
  {
   "cell_type": "markdown",
   "id": "e1c34c5f",
   "metadata": {},
   "source": [
    "### Step 2 -  Descriptive Statistics in the Dataframe\n",
    "\n",
    "#### REFERENCE - https://medium.com/analytics-vidhya/descriptive-statistics-in-data-science-with-illustrations-in-python-efd5ccc152f1"
   ]
  },
  {
   "cell_type": "code",
   "execution_count": 7,
   "id": "4c094a6e",
   "metadata": {},
   "outputs": [
    {
     "data": {
      "text/html": [
       "<div>\n",
       "<style scoped>\n",
       "    .dataframe tbody tr th:only-of-type {\n",
       "        vertical-align: middle;\n",
       "    }\n",
       "\n",
       "    .dataframe tbody tr th {\n",
       "        vertical-align: top;\n",
       "    }\n",
       "\n",
       "    .dataframe thead th {\n",
       "        text-align: right;\n",
       "    }\n",
       "</style>\n",
       "<table border=\"1\" class=\"dataframe\">\n",
       "  <thead>\n",
       "    <tr style=\"text-align: right;\">\n",
       "      <th></th>\n",
       "      <th>Year</th>\n",
       "      <th>Value</th>\n",
       "    </tr>\n",
       "  </thead>\n",
       "  <tbody>\n",
       "    <tr>\n",
       "      <th>count</th>\n",
       "      <td>742.000000</td>\n",
       "      <td>7.420000e+02</td>\n",
       "    </tr>\n",
       "    <tr>\n",
       "      <th>mean</th>\n",
       "      <td>2016.489218</td>\n",
       "      <td>1.161572e+05</td>\n",
       "    </tr>\n",
       "    <tr>\n",
       "      <th>std</th>\n",
       "      <td>2.730201</td>\n",
       "      <td>2.149148e+05</td>\n",
       "    </tr>\n",
       "    <tr>\n",
       "      <th>min</th>\n",
       "      <td>2012.000000</td>\n",
       "      <td>0.000000e+00</td>\n",
       "    </tr>\n",
       "    <tr>\n",
       "      <th>25%</th>\n",
       "      <td>2014.000000</td>\n",
       "      <td>2.156750e+03</td>\n",
       "    </tr>\n",
       "    <tr>\n",
       "      <th>50%</th>\n",
       "      <td>2016.500000</td>\n",
       "      <td>1.692250e+04</td>\n",
       "    </tr>\n",
       "    <tr>\n",
       "      <th>75%</th>\n",
       "      <td>2019.000000</td>\n",
       "      <td>9.854200e+04</td>\n",
       "    </tr>\n",
       "    <tr>\n",
       "      <th>max</th>\n",
       "      <td>2021.000000</td>\n",
       "      <td>1.271853e+06</td>\n",
       "    </tr>\n",
       "  </tbody>\n",
       "</table>\n",
       "</div>"
      ],
      "text/plain": [
       "              Year         Value\n",
       "count   742.000000  7.420000e+02\n",
       "mean   2016.489218  1.161572e+05\n",
       "std       2.730201  2.149148e+05\n",
       "min    2012.000000  0.000000e+00\n",
       "25%    2014.000000  2.156750e+03\n",
       "50%    2016.500000  1.692250e+04\n",
       "75%    2019.000000  9.854200e+04\n",
       "max    2021.000000  1.271853e+06"
      ]
     },
     "execution_count": 7,
     "metadata": {},
     "output_type": "execute_result"
    }
   ],
   "source": [
    "# show descriptive statistics relating\n",
    "# to the EEC organic milk production dataframe\n",
    "\n",
    "org_milk_df.describe()"
   ]
  },
  {
   "cell_type": "code",
   "execution_count": 8,
   "id": "cf4e5b17",
   "metadata": {},
   "outputs": [],
   "source": [
    "# show descriptive statistics relating\n",
    "# to the Irish organic milk production dataframe\n",
    "\n",
    "#irl_milk_df.describe()"
   ]
  },
  {
   "cell_type": "code",
   "execution_count": 9,
   "id": "026b562f",
   "metadata": {},
   "outputs": [],
   "source": [
    "# show descriptive statistics relating\n",
    "# to the Spanish organic milk production dataframe\n",
    "\n",
    "#es_milk_df.describe()"
   ]
  },
  {
   "cell_type": "code",
   "execution_count": 10,
   "id": "d63ceb10",
   "metadata": {},
   "outputs": [
    {
     "name": "stdout",
     "output_type": "stream",
     "text": [
      "46188364685.114784\n"
     ]
    }
   ],
   "source": [
    "# calculate the variance of the 3 datasets\n",
    "\n",
    "eec_variance = statistics.variance(org_milk_df['Value'])\n",
    "#irish_variance = statistics.variance(irl_milk_df['Value'])\n",
    "#spanish_variance = statistics.variance(es_milk_df['Value'])\n",
    "\n",
    "#print(eec_variance, irish_variance, spanish_variance)\n",
    "print(eec_variance)"
   ]
  },
  {
   "cell_type": "code",
   "execution_count": 18,
   "id": "8010a607",
   "metadata": {},
   "outputs": [],
   "source": [
    "from scipy.stats import poisson"
   ]
  },
  {
   "cell_type": "code",
   "execution_count": 19,
   "id": "9f336d6d",
   "metadata": {},
   "outputs": [],
   "source": [
    "# calculate the probabilty of the value of milk produced in a year in the EEC\n",
    "\n",
    "x = org_milk_df[\"Value\"]\n",
    "\n",
    "# poisson distribution data for y-axis\n",
    "y = poisson.pmf(x, mu=.25)\n",
    "y2 = poisson.pmf(x, mu=.5)\n",
    "y3 = poisson.pmf(x, mu=.75)"
   ]
  },
  {
   "cell_type": "code",
   "execution_count": 20,
   "id": "6d132701",
   "metadata": {},
   "outputs": [
    {
     "data": {
      "image/png": "[encoded data removed]",
      "text/plain": [
       "<Figure size 640x480 with 1 Axes>"
      ]
     },
     "metadata": {},
     "output_type": "display_data"
    }
   ],
   "source": [
    "# plotting the graph\n",
    "plt.plot(x, y, marker='x')\n",
    "plt.title(\"Poisson Distribution for Organic Milk Production in the EEC\")\n",
    "\n",
    "# labels for the graph\n",
    "plt.xlabel('Value Produced')\n",
    "plt.ylabel('Probability')\n",
    "# showing the graph\n",
    "plt.show()"
   ]
  },
  {
   "cell_type": "code",
   "execution_count": null,
   "id": "67fcbbd9",
   "metadata": {},
   "outputs": [],
   "source": []
  },
  {
   "cell_type": "markdown",
   "id": "6b189ba1",
   "metadata": {},
   "source": [
    "### Test for a Normal Distribution\n",
    "\n",
    "##### Reference - https://towardsdatascience.com/6-ways-to-test-for-a-normal-distribution-which-one-to-use-9dcf47d8fa93#:~:text=The%20Shapiro%20Wilk%20test%20is,for%20example%20the%20KS%20test.\n",
    "\n",
    "\n",
    "\n",
    "TIME_PERIOD\n",
    "OBS_VALUE\n",
    "Dairy\n",
    "Eggs\n",
    "Honey\n",
    "Meat\n",
    "    "
   ]
  },
  {
   "cell_type": "code",
   "execution_count": 11,
   "id": "e5821572",
   "metadata": {},
   "outputs": [],
   "source": [
    "# graphic test for a normal distribution on the Irish data\n",
    "\n",
    "#stats.probplot(irl_milk_df['Value'], dist=\"norm\", plot=pylab)\n",
    "#plt.title(\"Probability Plot - Ireland organic milk production\")\n",
    "#pylab.show()\n"
   ]
  },
  {
   "cell_type": "code",
   "execution_count": 12,
   "id": "699a3e1d",
   "metadata": {},
   "outputs": [
    {
     "data": {
      "image/png": "[encoded data removed]",
      "text/plain": [
       "<Figure size 640x480 with 1 Axes>"
      ]
     },
     "metadata": {},
     "output_type": "display_data"
    }
   ],
   "source": [
    "# graphic test for a normal distribution on the full EEC data\n",
    "\n",
    "stats.probplot(org_milk_df['Value'], dist=\"norm\", plot=pylab)\n",
    "plt.title(\"Probability Plot - EEC organic milk production\")\n",
    "pylab.show()\n"
   ]
  },
  {
   "cell_type": "code",
   "execution_count": 13,
   "id": "414deb5d",
   "metadata": {},
   "outputs": [],
   "source": [
    "# graphic test for a normal distribution on the Spanish data\n",
    "\n",
    "#stats.probplot(es_milk_df['Value'], dist=\"norm\", plot=pylab)\n",
    "#plt.title(\"Probability Plot - Spanish organic milk production\")\n",
    "#pylab.show()\n"
   ]
  },
  {
   "cell_type": "code",
   "execution_count": null,
   "id": "14f4765e",
   "metadata": {},
   "outputs": [],
   "source": []
  },
  {
   "cell_type": "code",
   "execution_count": null,
   "id": "139c5730",
   "metadata": {},
   "outputs": [],
   "source": []
  },
  {
   "cell_type": "code",
   "execution_count": null,
   "id": "d1fadabc",
   "metadata": {},
   "outputs": [],
   "source": []
  },
  {
   "cell_type": "code",
   "execution_count": null,
   "id": "65fb0f3d",
   "metadata": {},
   "outputs": [],
   "source": []
  },
  {
   "cell_type": "code",
   "execution_count": null,
   "id": "12e62955",
   "metadata": {},
   "outputs": [],
   "source": []
  },
  {
   "cell_type": "code",
   "execution_count": null,
   "id": "5f8647e8",
   "metadata": {},
   "outputs": [],
   "source": []
  },
  {
   "cell_type": "code",
   "execution_count": null,
   "id": "056e1ff1",
   "metadata": {},
   "outputs": [],
   "source": []
  },
  {
   "cell_type": "markdown",
   "id": "ef2db3aa",
   "metadata": {},
   "source": [
    "## Step 3 - Inferential Statistics in the Dataframe"
   ]
  },
  {
   "cell_type": "markdown",
   "id": "a1af4c93",
   "metadata": {},
   "source": [
    "### Shapiro Wilks Test "
   ]
  },
  {
   "cell_type": "code",
   "execution_count": 14,
   "id": "ffdd3cba",
   "metadata": {},
   "outputs": [],
   "source": [
    "# Normalacy test used is shapriro wilks test .. \n",
    "# both data samples are less than 50 rows, is the recommended test for this sample size\n",
    "# https://statistics.laerd.com/spss-tutorials/testing-for-normality-using-spss-statistics.php\n",
    "\n",
    "import statsmodels.api as sm\n",
    "from statsmodels.formula.api import ols\n",
    "from scipy import stats\n",
    "import scipy as scipy"
   ]
  },
  {
   "cell_type": "code",
   "execution_count": 30,
   "id": "308fe09a",
   "metadata": {},
   "outputs": [
    {
     "data": {
      "text/plain": [
       "ShapiroResult(statistic=0.5990283489227295, pvalue=3.381963498465037e-38)"
      ]
     },
     "execution_count": 30,
     "metadata": {},
     "output_type": "execute_result"
    }
   ],
   "source": [
    "# Shapiro wilk test with 'Value' as target variable for all EEC data\n",
    "\n",
    "org_shapiro = stats.shapiro(org_milk_df['Value'])\n",
    "\n",
    "org_shapiro"
   ]
  },
  {
   "cell_type": "code",
   "execution_count": 31,
   "id": "2869fe41",
   "metadata": {},
   "outputs": [
    {
     "data": {
      "text/plain": [
       "ShapiroResult(statistic=0.9626172780990601, pvalue=0.5703385472297668)"
      ]
     },
     "execution_count": 31,
     "metadata": {},
     "output_type": "execute_result"
    }
   ],
   "source": [
    "# Shapiro wilk test with 'Value' as target variable for Irish data\n",
    "\n",
    "irl_shapiro = stats.shapiro(irl_milk_df['Value'])\n",
    "\n",
    "irl_shapiro"
   ]
  },
  {
   "cell_type": "code",
   "execution_count": 32,
   "id": "c7888e74",
   "metadata": {},
   "outputs": [
    {
     "data": {
      "text/plain": [
       "ShapiroResult(statistic=0.8976963758468628, pvalue=0.007380156312137842)"
      ]
     },
     "execution_count": 32,
     "metadata": {},
     "output_type": "execute_result"
    }
   ],
   "source": [
    "# Shapiro wilk test with 'Value' as target variable\n",
    "\n",
    "es_shapiro = stats.shapiro(es_milk_df['Value'])\n",
    "\n",
    "es_shapiro"
   ]
  },
  {
   "cell_type": "code",
   "execution_count": null,
   "id": "37554047",
   "metadata": {},
   "outputs": [],
   "source": []
  },
  {
   "cell_type": "code",
   "execution_count": null,
   "id": "fa8b5e10",
   "metadata": {},
   "outputs": [],
   "source": []
  },
  {
   "cell_type": "code",
   "execution_count": null,
   "id": "9935dffc",
   "metadata": {},
   "outputs": [],
   "source": []
  },
  {
   "cell_type": "code",
   "execution_count": null,
   "id": "433b3290",
   "metadata": {},
   "outputs": [],
   "source": []
  },
  {
   "cell_type": "code",
   "execution_count": null,
   "id": "a32e584b",
   "metadata": {},
   "outputs": [],
   "source": []
  },
  {
   "cell_type": "code",
   "execution_count": null,
   "id": "400b1535",
   "metadata": {},
   "outputs": [],
   "source": []
  },
  {
   "cell_type": "code",
   "execution_count": null,
   "id": "96809636",
   "metadata": {},
   "outputs": [],
   "source": []
  },
  {
   "cell_type": "code",
   "execution_count": null,
   "id": "6107ce1f",
   "metadata": {},
   "outputs": [],
   "source": []
  },
  {
   "cell_type": "markdown",
   "id": "a02acd77",
   "metadata": {},
   "source": [
    "## Step 4 - Inferential Statistics in the Dataframe"
   ]
  },
  {
   "cell_type": "markdown",
   "id": "da8adeba",
   "metadata": {},
   "source": [
    "### Test 1 -  ANOVA_Oneway Model\n",
    "\n",
    "The two-way ANOVA allows for analysis to be carried out on two groups.  For ANOVA Analysis to be carried out, a number of assumptions need to be confirmed namely:\n",
    "\n",
    "1. dependent variable should be a continious variable\n",
    "2. independent variable should have two or more categorical independent groups\n",
    "3. independence of observation\n",
    "4. no significant outliers\n",
    "5. dependent variable should follow a normal distribution approximately\n",
    "6. honegeneity of variances (Levene's test)\n",
    "\n",
    "The assumptions are discussed in more detail in the attached report"
   ]
  },
  {
   "cell_type": "code",
   "execution_count": 34,
   "id": "7a457cab",
   "metadata": {},
   "outputs": [
    {
     "data": {
      "text/html": [
       "<div>\n",
       "<style scoped>\n",
       "    .dataframe tbody tr th:only-of-type {\n",
       "        vertical-align: middle;\n",
       "    }\n",
       "\n",
       "    .dataframe tbody tr th {\n",
       "        vertical-align: top;\n",
       "    }\n",
       "\n",
       "    .dataframe thead th {\n",
       "        text-align: right;\n",
       "    }\n",
       "</style>\n",
       "<table border=\"1\" class=\"dataframe\">\n",
       "  <thead>\n",
       "    <tr style=\"text-align: right;\">\n",
       "      <th></th>\n",
       "      <th>Unnamed: 0</th>\n",
       "      <th>agriprod</th>\n",
       "      <th>Unit</th>\n",
       "      <th>Country</th>\n",
       "      <th>Year</th>\n",
       "      <th>Value</th>\n",
       "      <th>Description</th>\n",
       "    </tr>\n",
       "  </thead>\n",
       "  <tbody>\n",
       "    <tr>\n",
       "      <th>0</th>\n",
       "      <td>126</td>\n",
       "      <td>Dairy</td>\n",
       "      <td>T</td>\n",
       "      <td>IE</td>\n",
       "      <td>2013</td>\n",
       "      <td>7012.0</td>\n",
       "      <td>Raw milk</td>\n",
       "    </tr>\n",
       "    <tr>\n",
       "      <th>1</th>\n",
       "      <td>127</td>\n",
       "      <td>Dairy</td>\n",
       "      <td>T</td>\n",
       "      <td>IE</td>\n",
       "      <td>2014</td>\n",
       "      <td>7703.0</td>\n",
       "      <td>Raw milk</td>\n",
       "    </tr>\n",
       "    <tr>\n",
       "      <th>2</th>\n",
       "      <td>128</td>\n",
       "      <td>Dairy</td>\n",
       "      <td>T</td>\n",
       "      <td>IE</td>\n",
       "      <td>2015</td>\n",
       "      <td>5978.0</td>\n",
       "      <td>Raw milk</td>\n",
       "    </tr>\n",
       "    <tr>\n",
       "      <th>3</th>\n",
       "      <td>129</td>\n",
       "      <td>Dairy</td>\n",
       "      <td>T</td>\n",
       "      <td>IE</td>\n",
       "      <td>2016</td>\n",
       "      <td>7335.0</td>\n",
       "      <td>Raw milk</td>\n",
       "    </tr>\n",
       "    <tr>\n",
       "      <th>4</th>\n",
       "      <td>130</td>\n",
       "      <td>Dairy</td>\n",
       "      <td>T</td>\n",
       "      <td>IE</td>\n",
       "      <td>2017</td>\n",
       "      <td>9035.0</td>\n",
       "      <td>Raw milk</td>\n",
       "    </tr>\n",
       "  </tbody>\n",
       "</table>\n",
       "</div>"
      ],
      "text/plain": [
       "   Unnamed: 0 agriprod Unit Country  Year   Value Description\n",
       "0         126    Dairy    T      IE  2013  7012.0    Raw milk\n",
       "1         127    Dairy    T      IE  2014  7703.0    Raw milk\n",
       "2         128    Dairy    T      IE  2015  5978.0    Raw milk\n",
       "3         129    Dairy    T      IE  2016  7335.0    Raw milk\n",
       "4         130    Dairy    T      IE  2017  9035.0    Raw milk"
      ]
     },
     "execution_count": 34,
     "metadata": {},
     "output_type": "execute_result"
    }
   ],
   "source": [
    "irl_milk_df.head()"
   ]
  },
  {
   "cell_type": "code",
   "execution_count": null,
   "id": "2199ecd7",
   "metadata": {},
   "outputs": [],
   "source": []
  },
  {
   "cell_type": "code",
   "execution_count": null,
   "id": "df6c55a7",
   "metadata": {},
   "outputs": [],
   "source": []
  },
  {
   "cell_type": "code",
   "execution_count": null,
   "id": "c2780bb0",
   "metadata": {},
   "outputs": [],
   "source": []
  },
  {
   "cell_type": "markdown",
   "id": "9c742d48",
   "metadata": {},
   "source": [
    "### Test 2 - Kruskal-Wallis Test \n",
    "\n",
    "A Kruskal-Wallis Test compares the median of three or more independent groups to see if there is a statistical difference between them. \n",
    "\n",
    "In this instance, the chosen three groups are Ireland / Spain / EU data.  As only 1 value can be tested, each group is equal to the 'Value' column.\n",
    "\n",
    "- <b>Null Hypothesis</b> - the median value is the same across all the groups\n",
    "- <b>Alternative Hypothesis</b> - that the median values are not the same across all the groups.\n",
    "\n",
    "With a p-value result of greater than 0.05, the null hypothesis is rejected, and it is possible to say that there is a statistical difference between the three groups.\n",
    "\n",
    "#### REFERENCE - https://www.statology.org/kruskal-wallis-test-python/"
   ]
  },
  {
   "cell_type": "code",
   "execution_count": 47,
   "id": "b031e49d",
   "metadata": {},
   "outputs": [],
   "source": [
    "irish_group = irl_milk_df.Value\n",
    "spanish_group = es_milk_df.Value\n",
    "eu_group = org_milk_df.Value"
   ]
  },
  {
   "cell_type": "code",
   "execution_count": 48,
   "id": "69df7c71",
   "metadata": {},
   "outputs": [
    {
     "data": {
      "text/plain": [
       "KruskalResult(statistic=5.290409876690496, pvalue=0.07099080351093866)"
      ]
     },
     "execution_count": 48,
     "metadata": {},
     "output_type": "execute_result"
    }
   ],
   "source": [
    "# Kruskal-Wallis Test\n",
    "\n",
    "results_kruskal = stats.kruskal(irish_group, spanish_group, eu_group)\n",
    "\n",
    "results_kruskal"
   ]
  },
  {
   "cell_type": "code",
   "execution_count": null,
   "id": "706ace8d",
   "metadata": {},
   "outputs": [],
   "source": []
  },
  {
   "cell_type": "code",
   "execution_count": null,
   "id": "43993d75",
   "metadata": {},
   "outputs": [],
   "source": []
  },
  {
   "cell_type": "markdown",
   "id": "f597c9d8",
   "metadata": {},
   "source": [
    "### Test 3 - Two Sample z-test\n",
    "\n",
    "A One Sample z-test checks if the mean of a population is different to some specified value.\n",
    "\n",
    "- <b>Null Hypothesis</b> the population mean is equal to some value\n",
    "- <b>Alternative Hypothesis</b> the population mean is not equal to some value\n",
    "\n",
    "Assumptions of the z-test are:\n",
    "1. The data are continuous (not discrete).\n",
    "2. The data is a simple random sample from the population of interest.\n",
    "3. The data in the population is approximately normally distributed.\n",
    "4. The population standard deviation is known.\n",
    "\n",
    "As the p-value result for the Two Sample z-test is greater than 0.05, it is possible to say that there is a significant difference between the two groups.  Therefore the alternative hypothesis is accepted, and the null hypothesis is rejected.\n",
    "\n",
    "#### REFERENCE - \n",
    "1. https://www.statology.org/z-test-python/\n",
    "2. Pg Chapter 9, Neil Weiss, Pg 389"
   ]
  },
  {
   "cell_type": "code",
   "execution_count": 54,
   "id": "53d14081",
   "metadata": {},
   "outputs": [],
   "source": [
    "from statsmodels.stats.weightstats import ztest as ztest"
   ]
  },
  {
   "cell_type": "code",
   "execution_count": 59,
   "id": "10ef5df8",
   "metadata": {},
   "outputs": [],
   "source": [
    "x1 = irl_milk_df.Value\n",
    "x2 = es_milk_df.Value\n",
    "value = 50"
   ]
  },
  {
   "cell_type": "code",
   "execution_count": 61,
   "id": "8987e528",
   "metadata": {},
   "outputs": [
    {
     "data": {
      "text/plain": [
       "(-4.242082483785946, 2.214552661545425e-05)"
      ]
     },
     "execution_count": 61,
     "metadata": {},
     "output_type": "execute_result"
    }
   ],
   "source": [
    "# one sample z-test\n",
    "\n",
    "zTest_result = ztest(x1, x2, value=0)\n",
    "\n",
    "zTest_result"
   ]
  },
  {
   "cell_type": "code",
   "execution_count": null,
   "id": "6b4678b4",
   "metadata": {},
   "outputs": [],
   "source": []
  },
  {
   "cell_type": "markdown",
   "id": "b8336afc",
   "metadata": {},
   "source": [
    "### Test 4 - Wilcoxon rank-sum / Mann-Whitney U Test\n",
    "\n",
    "when the sample distributions are not normally distributed and the sample sizes are small.  In this instance, the Irish group has 21 datapoints, the Spanish group has 30.\n",
    "\n",
    "Assumptions of the z-test are:\n",
    "1. Ordinal or Continuous\n",
    "2. Indepencence\n",
    "3. Shape\n",
    "\n",
    "There are 5 steps involved  ...\n",
    "1. State the hypotheses\n",
    "    a. Null hypothesis = the populations are equal\n",
    "    b. Alternative hpyothesis = the populations are not equal\n",
    "2. Confirm the significance level\n",
    "    a. set at 0.05\n",
    "3. Find the test statistics\n",
    "4. Reject or fail to reject the null hypothesis\n",
    "5. Interpret the results\n",
    "\n",
    "#### REFERENCE\n",
    "1. https://www.statology.org/mann-whitney-u-test/\n",
    "2. "
   ]
  },
  {
   "cell_type": "code",
   "execution_count": 64,
   "id": "1c3a85f1",
   "metadata": {},
   "outputs": [],
   "source": [
    "group_1 = irl_milk_df.Value\n",
    "group_2 = es_milk_df.Value"
   ]
  },
  {
   "cell_type": "code",
   "execution_count": 67,
   "id": "68ca4a16",
   "metadata": {},
   "outputs": [],
   "source": [
    "#perform the Mann-Whitney U test\n",
    "\n",
    "mann_whitney_results = stats.mannwhitneyu(group_1, group_2, alternative='two-sided')\n",
    "\n",
    "#mann_whitney_results"
   ]
  },
  {
   "cell_type": "code",
   "execution_count": null,
   "id": "5ee96ea8",
   "metadata": {},
   "outputs": [],
   "source": []
  },
  {
   "cell_type": "code",
   "execution_count": null,
   "id": "88530e0a",
   "metadata": {},
   "outputs": [],
   "source": []
  },
  {
   "cell_type": "markdown",
   "id": "3aec10c9",
   "metadata": {},
   "source": [
    "### Test 5 - Correlation Test with Pearson correlation coefficient\n",
    "\n",
    "\n",
    "\n",
    "#### REFERENCE\n",
    "1. https://www.statology.org/correlation-test-in-python/"
   ]
  },
  {
   "cell_type": "code",
   "execution_count": 78,
   "id": "a9d49d48",
   "metadata": {},
   "outputs": [],
   "source": [
    "from scipy.stats.stats import pearsonr"
   ]
  },
  {
   "cell_type": "code",
   "execution_count": 79,
   "id": "3a556466",
   "metadata": {},
   "outputs": [],
   "source": [
    "x = irl_milk_df.Value\n",
    "y = es_milk_df.Value"
   ]
  },
  {
   "cell_type": "code",
   "execution_count": 80,
   "id": "21c3112b",
   "metadata": {},
   "outputs": [
    {
     "ename": "ValueError",
     "evalue": "x and y must have the same length.",
     "output_type": "error",
     "traceback": [
      "\u001b[1;31m---------------------------------------------------------------------------\u001b[0m",
      "\u001b[1;31mValueError\u001b[0m                                Traceback (most recent call last)",
      "Input \u001b[1;32mIn [80]\u001b[0m, in \u001b[0;36m<cell line: 3>\u001b[1;34m()\u001b[0m\n\u001b[0;32m      1\u001b[0m \u001b[38;5;66;03m#calculation correlation coefficient and p-value between x and y\u001b[39;00m\n\u001b[1;32m----> 3\u001b[0m \u001b[43mpearsonr\u001b[49m\u001b[43m(\u001b[49m\u001b[43mx\u001b[49m\u001b[43m,\u001b[49m\u001b[43m \u001b[49m\u001b[43my\u001b[49m\u001b[43m)\u001b[49m\n",
      "File \u001b[1;32m~\\Anaconda3\\lib\\site-packages\\scipy\\stats\\stats.py:4013\u001b[0m, in \u001b[0;36mpearsonr\u001b[1;34m(x, y)\u001b[0m\n\u001b[0;32m   4011\u001b[0m n \u001b[38;5;241m=\u001b[39m \u001b[38;5;28mlen\u001b[39m(x)\n\u001b[0;32m   4012\u001b[0m \u001b[38;5;28;01mif\u001b[39;00m n \u001b[38;5;241m!=\u001b[39m \u001b[38;5;28mlen\u001b[39m(y):\n\u001b[1;32m-> 4013\u001b[0m     \u001b[38;5;28;01mraise\u001b[39;00m \u001b[38;5;167;01mValueError\u001b[39;00m(\u001b[38;5;124m'\u001b[39m\u001b[38;5;124mx and y must have the same length.\u001b[39m\u001b[38;5;124m'\u001b[39m)\n\u001b[0;32m   4015\u001b[0m \u001b[38;5;28;01mif\u001b[39;00m n \u001b[38;5;241m<\u001b[39m \u001b[38;5;241m2\u001b[39m:\n\u001b[0;32m   4016\u001b[0m     \u001b[38;5;28;01mraise\u001b[39;00m \u001b[38;5;167;01mValueError\u001b[39;00m(\u001b[38;5;124m'\u001b[39m\u001b[38;5;124mx and y must have length at least 2.\u001b[39m\u001b[38;5;124m'\u001b[39m)\n",
      "\u001b[1;31mValueError\u001b[0m: x and y must have the same length."
     ]
    }
   ],
   "source": [
    "#calculation correlation coefficient and p-value between x and y\n",
    "\n",
    "pearsonr(x, y)"
   ]
  },
  {
   "cell_type": "code",
   "execution_count": null,
   "id": "2be7b422",
   "metadata": {},
   "outputs": [],
   "source": []
  },
  {
   "cell_type": "markdown",
   "id": "f8ae3236",
   "metadata": {},
   "source": [
    "### Test 6 - Linear Regression\n",
    "\n",
    "\n",
    "\n",
    "#### REFERENCE \n",
    "1. https://www.statology.org/linear-regression-python/\n",
    "\n",
    "\n"
   ]
  },
  {
   "cell_type": "code",
   "execution_count": 82,
   "id": "886bab31",
   "metadata": {},
   "outputs": [],
   "source": [
    "import statsmodels.api as sm"
   ]
  },
  {
   "cell_type": "code",
   "execution_count": 83,
   "id": "5f6baa34",
   "metadata": {},
   "outputs": [],
   "source": [
    "y_2 = org_milk_df['Value']"
   ]
  },
  {
   "cell_type": "code",
   "execution_count": 86,
   "id": "e79d7fd2",
   "metadata": {},
   "outputs": [],
   "source": [
    "x_2 = org_milk_df[['Country', 'Year']]"
   ]
  },
  {
   "cell_type": "code",
   "execution_count": 87,
   "id": "6271ae98",
   "metadata": {},
   "outputs": [],
   "source": [
    "#add constant to predictor variables\n",
    "x = sm.add_constant(x_2)"
   ]
  },
  {
   "cell_type": "code",
   "execution_count": 88,
   "id": "6a92b676",
   "metadata": {},
   "outputs": [
    {
     "ename": "ValueError",
     "evalue": "Pandas data cast to numpy dtype of object. Check input data with np.asarray(data).",
     "output_type": "error",
     "traceback": [
      "\u001b[1;31m---------------------------------------------------------------------------\u001b[0m",
      "\u001b[1;31mValueError\u001b[0m                                Traceback (most recent call last)",
      "Input \u001b[1;32mIn [88]\u001b[0m, in \u001b[0;36m<cell line: 2>\u001b[1;34m()\u001b[0m\n\u001b[0;32m      1\u001b[0m \u001b[38;5;66;03m#fit linear regression model\u001b[39;00m\n\u001b[1;32m----> 2\u001b[0m model \u001b[38;5;241m=\u001b[39m \u001b[43msm\u001b[49m\u001b[38;5;241;43m.\u001b[39;49m\u001b[43mOLS\u001b[49m\u001b[43m(\u001b[49m\u001b[43my_2\u001b[49m\u001b[43m,\u001b[49m\u001b[43m \u001b[49m\u001b[43mx_2\u001b[49m\u001b[43m)\u001b[49m\u001b[38;5;241m.\u001b[39mfit()\n",
      "File \u001b[1;32m~\\Anaconda3\\lib\\site-packages\\statsmodels\\regression\\linear_model.py:890\u001b[0m, in \u001b[0;36mOLS.__init__\u001b[1;34m(self, endog, exog, missing, hasconst, **kwargs)\u001b[0m\n\u001b[0;32m    887\u001b[0m     msg \u001b[38;5;241m=\u001b[39m (\u001b[38;5;124m\"\u001b[39m\u001b[38;5;124mWeights are not supported in OLS and will be ignored\u001b[39m\u001b[38;5;124m\"\u001b[39m\n\u001b[0;32m    888\u001b[0m            \u001b[38;5;124m\"\u001b[39m\u001b[38;5;124mAn exception will be raised in the next version.\u001b[39m\u001b[38;5;124m\"\u001b[39m)\n\u001b[0;32m    889\u001b[0m     warnings\u001b[38;5;241m.\u001b[39mwarn(msg, ValueWarning)\n\u001b[1;32m--> 890\u001b[0m \u001b[38;5;28msuper\u001b[39m(OLS, \u001b[38;5;28mself\u001b[39m)\u001b[38;5;241m.\u001b[39m\u001b[38;5;21m__init__\u001b[39m(endog, exog, missing\u001b[38;5;241m=\u001b[39mmissing,\n\u001b[0;32m    891\u001b[0m                           hasconst\u001b[38;5;241m=\u001b[39mhasconst, \u001b[38;5;241m*\u001b[39m\u001b[38;5;241m*\u001b[39mkwargs)\n\u001b[0;32m    892\u001b[0m \u001b[38;5;28;01mif\u001b[39;00m \u001b[38;5;124m\"\u001b[39m\u001b[38;5;124mweights\u001b[39m\u001b[38;5;124m\"\u001b[39m \u001b[38;5;129;01min\u001b[39;00m \u001b[38;5;28mself\u001b[39m\u001b[38;5;241m.\u001b[39m_init_keys:\n\u001b[0;32m    893\u001b[0m     \u001b[38;5;28mself\u001b[39m\u001b[38;5;241m.\u001b[39m_init_keys\u001b[38;5;241m.\u001b[39mremove(\u001b[38;5;124m\"\u001b[39m\u001b[38;5;124mweights\u001b[39m\u001b[38;5;124m\"\u001b[39m)\n",
      "File \u001b[1;32m~\\Anaconda3\\lib\\site-packages\\statsmodels\\regression\\linear_model.py:717\u001b[0m, in \u001b[0;36mWLS.__init__\u001b[1;34m(self, endog, exog, weights, missing, hasconst, **kwargs)\u001b[0m\n\u001b[0;32m    715\u001b[0m \u001b[38;5;28;01melse\u001b[39;00m:\n\u001b[0;32m    716\u001b[0m     weights \u001b[38;5;241m=\u001b[39m weights\u001b[38;5;241m.\u001b[39msqueeze()\n\u001b[1;32m--> 717\u001b[0m \u001b[38;5;28msuper\u001b[39m(WLS, \u001b[38;5;28mself\u001b[39m)\u001b[38;5;241m.\u001b[39m\u001b[38;5;21m__init__\u001b[39m(endog, exog, missing\u001b[38;5;241m=\u001b[39mmissing,\n\u001b[0;32m    718\u001b[0m                           weights\u001b[38;5;241m=\u001b[39mweights, hasconst\u001b[38;5;241m=\u001b[39mhasconst, \u001b[38;5;241m*\u001b[39m\u001b[38;5;241m*\u001b[39mkwargs)\n\u001b[0;32m    719\u001b[0m nobs \u001b[38;5;241m=\u001b[39m \u001b[38;5;28mself\u001b[39m\u001b[38;5;241m.\u001b[39mexog\u001b[38;5;241m.\u001b[39mshape[\u001b[38;5;241m0\u001b[39m]\n\u001b[0;32m    720\u001b[0m weights \u001b[38;5;241m=\u001b[39m \u001b[38;5;28mself\u001b[39m\u001b[38;5;241m.\u001b[39mweights\n",
      "File \u001b[1;32m~\\Anaconda3\\lib\\site-packages\\statsmodels\\regression\\linear_model.py:191\u001b[0m, in \u001b[0;36mRegressionModel.__init__\u001b[1;34m(self, endog, exog, **kwargs)\u001b[0m\n\u001b[0;32m    190\u001b[0m \u001b[38;5;28;01mdef\u001b[39;00m \u001b[38;5;21m__init__\u001b[39m(\u001b[38;5;28mself\u001b[39m, endog, exog, \u001b[38;5;241m*\u001b[39m\u001b[38;5;241m*\u001b[39mkwargs):\n\u001b[1;32m--> 191\u001b[0m     \u001b[38;5;28msuper\u001b[39m(RegressionModel, \u001b[38;5;28mself\u001b[39m)\u001b[38;5;241m.\u001b[39m\u001b[38;5;21m__init__\u001b[39m(endog, exog, \u001b[38;5;241m*\u001b[39m\u001b[38;5;241m*\u001b[39mkwargs)\n\u001b[0;32m    192\u001b[0m     \u001b[38;5;28mself\u001b[39m\u001b[38;5;241m.\u001b[39m_data_attr\u001b[38;5;241m.\u001b[39mextend([\u001b[38;5;124m'\u001b[39m\u001b[38;5;124mpinv_wexog\u001b[39m\u001b[38;5;124m'\u001b[39m, \u001b[38;5;124m'\u001b[39m\u001b[38;5;124mwendog\u001b[39m\u001b[38;5;124m'\u001b[39m, \u001b[38;5;124m'\u001b[39m\u001b[38;5;124mwexog\u001b[39m\u001b[38;5;124m'\u001b[39m, \u001b[38;5;124m'\u001b[39m\u001b[38;5;124mweights\u001b[39m\u001b[38;5;124m'\u001b[39m])\n",
      "File \u001b[1;32m~\\Anaconda3\\lib\\site-packages\\statsmodels\\base\\model.py:267\u001b[0m, in \u001b[0;36mLikelihoodModel.__init__\u001b[1;34m(self, endog, exog, **kwargs)\u001b[0m\n\u001b[0;32m    266\u001b[0m \u001b[38;5;28;01mdef\u001b[39;00m \u001b[38;5;21m__init__\u001b[39m(\u001b[38;5;28mself\u001b[39m, endog, exog\u001b[38;5;241m=\u001b[39m\u001b[38;5;28;01mNone\u001b[39;00m, \u001b[38;5;241m*\u001b[39m\u001b[38;5;241m*\u001b[39mkwargs):\n\u001b[1;32m--> 267\u001b[0m     \u001b[38;5;28msuper\u001b[39m()\u001b[38;5;241m.\u001b[39m\u001b[38;5;21m__init__\u001b[39m(endog, exog, \u001b[38;5;241m*\u001b[39m\u001b[38;5;241m*\u001b[39mkwargs)\n\u001b[0;32m    268\u001b[0m     \u001b[38;5;28mself\u001b[39m\u001b[38;5;241m.\u001b[39minitialize()\n",
      "File \u001b[1;32m~\\Anaconda3\\lib\\site-packages\\statsmodels\\base\\model.py:92\u001b[0m, in \u001b[0;36mModel.__init__\u001b[1;34m(self, endog, exog, **kwargs)\u001b[0m\n\u001b[0;32m     90\u001b[0m missing \u001b[38;5;241m=\u001b[39m kwargs\u001b[38;5;241m.\u001b[39mpop(\u001b[38;5;124m'\u001b[39m\u001b[38;5;124mmissing\u001b[39m\u001b[38;5;124m'\u001b[39m, \u001b[38;5;124m'\u001b[39m\u001b[38;5;124mnone\u001b[39m\u001b[38;5;124m'\u001b[39m)\n\u001b[0;32m     91\u001b[0m hasconst \u001b[38;5;241m=\u001b[39m kwargs\u001b[38;5;241m.\u001b[39mpop(\u001b[38;5;124m'\u001b[39m\u001b[38;5;124mhasconst\u001b[39m\u001b[38;5;124m'\u001b[39m, \u001b[38;5;28;01mNone\u001b[39;00m)\n\u001b[1;32m---> 92\u001b[0m \u001b[38;5;28mself\u001b[39m\u001b[38;5;241m.\u001b[39mdata \u001b[38;5;241m=\u001b[39m \u001b[38;5;28mself\u001b[39m\u001b[38;5;241m.\u001b[39m_handle_data(endog, exog, missing, hasconst,\n\u001b[0;32m     93\u001b[0m                               \u001b[38;5;241m*\u001b[39m\u001b[38;5;241m*\u001b[39mkwargs)\n\u001b[0;32m     94\u001b[0m \u001b[38;5;28mself\u001b[39m\u001b[38;5;241m.\u001b[39mk_constant \u001b[38;5;241m=\u001b[39m \u001b[38;5;28mself\u001b[39m\u001b[38;5;241m.\u001b[39mdata\u001b[38;5;241m.\u001b[39mk_constant\n\u001b[0;32m     95\u001b[0m \u001b[38;5;28mself\u001b[39m\u001b[38;5;241m.\u001b[39mexog \u001b[38;5;241m=\u001b[39m \u001b[38;5;28mself\u001b[39m\u001b[38;5;241m.\u001b[39mdata\u001b[38;5;241m.\u001b[39mexog\n",
      "File \u001b[1;32m~\\Anaconda3\\lib\\site-packages\\statsmodels\\base\\model.py:132\u001b[0m, in \u001b[0;36mModel._handle_data\u001b[1;34m(self, endog, exog, missing, hasconst, **kwargs)\u001b[0m\n\u001b[0;32m    131\u001b[0m \u001b[38;5;28;01mdef\u001b[39;00m \u001b[38;5;21m_handle_data\u001b[39m(\u001b[38;5;28mself\u001b[39m, endog, exog, missing, hasconst, \u001b[38;5;241m*\u001b[39m\u001b[38;5;241m*\u001b[39mkwargs):\n\u001b[1;32m--> 132\u001b[0m     data \u001b[38;5;241m=\u001b[39m handle_data(endog, exog, missing, hasconst, \u001b[38;5;241m*\u001b[39m\u001b[38;5;241m*\u001b[39mkwargs)\n\u001b[0;32m    133\u001b[0m     \u001b[38;5;66;03m# kwargs arrays could have changed, easier to just attach here\u001b[39;00m\n\u001b[0;32m    134\u001b[0m     \u001b[38;5;28;01mfor\u001b[39;00m key \u001b[38;5;129;01min\u001b[39;00m kwargs:\n",
      "File \u001b[1;32m~\\Anaconda3\\lib\\site-packages\\statsmodels\\base\\data.py:673\u001b[0m, in \u001b[0;36mhandle_data\u001b[1;34m(endog, exog, missing, hasconst, **kwargs)\u001b[0m\n\u001b[0;32m    670\u001b[0m     exog \u001b[38;5;241m=\u001b[39m np\u001b[38;5;241m.\u001b[39masarray(exog)\n\u001b[0;32m    672\u001b[0m klass \u001b[38;5;241m=\u001b[39m handle_data_class_factory(endog, exog)\n\u001b[1;32m--> 673\u001b[0m \u001b[38;5;28;01mreturn\u001b[39;00m klass(endog, exog\u001b[38;5;241m=\u001b[39mexog, missing\u001b[38;5;241m=\u001b[39mmissing, hasconst\u001b[38;5;241m=\u001b[39mhasconst,\n\u001b[0;32m    674\u001b[0m              \u001b[38;5;241m*\u001b[39m\u001b[38;5;241m*\u001b[39mkwargs)\n",
      "File \u001b[1;32m~\\Anaconda3\\lib\\site-packages\\statsmodels\\base\\data.py:82\u001b[0m, in \u001b[0;36mModelData.__init__\u001b[1;34m(self, endog, exog, missing, hasconst, **kwargs)\u001b[0m\n\u001b[0;32m     80\u001b[0m     \u001b[38;5;28mself\u001b[39m\u001b[38;5;241m.\u001b[39morig_endog \u001b[38;5;241m=\u001b[39m endog\n\u001b[0;32m     81\u001b[0m     \u001b[38;5;28mself\u001b[39m\u001b[38;5;241m.\u001b[39morig_exog \u001b[38;5;241m=\u001b[39m exog\n\u001b[1;32m---> 82\u001b[0m     \u001b[38;5;28mself\u001b[39m\u001b[38;5;241m.\u001b[39mendog, \u001b[38;5;28mself\u001b[39m\u001b[38;5;241m.\u001b[39mexog \u001b[38;5;241m=\u001b[39m \u001b[38;5;28;43mself\u001b[39;49m\u001b[38;5;241;43m.\u001b[39;49m\u001b[43m_convert_endog_exog\u001b[49m\u001b[43m(\u001b[49m\u001b[43mendog\u001b[49m\u001b[43m,\u001b[49m\u001b[43m \u001b[49m\u001b[43mexog\u001b[49m\u001b[43m)\u001b[49m\n\u001b[0;32m     84\u001b[0m \u001b[38;5;28mself\u001b[39m\u001b[38;5;241m.\u001b[39mconst_idx \u001b[38;5;241m=\u001b[39m \u001b[38;5;28;01mNone\u001b[39;00m\n\u001b[0;32m     85\u001b[0m \u001b[38;5;28mself\u001b[39m\u001b[38;5;241m.\u001b[39mk_constant \u001b[38;5;241m=\u001b[39m \u001b[38;5;241m0\u001b[39m\n",
      "File \u001b[1;32m~\\Anaconda3\\lib\\site-packages\\statsmodels\\base\\data.py:507\u001b[0m, in \u001b[0;36mPandasData._convert_endog_exog\u001b[1;34m(self, endog, exog)\u001b[0m\n\u001b[0;32m    505\u001b[0m exog \u001b[38;5;241m=\u001b[39m exog \u001b[38;5;28;01mif\u001b[39;00m exog \u001b[38;5;129;01mis\u001b[39;00m \u001b[38;5;28;01mNone\u001b[39;00m \u001b[38;5;28;01melse\u001b[39;00m np\u001b[38;5;241m.\u001b[39masarray(exog)\n\u001b[0;32m    506\u001b[0m \u001b[38;5;28;01mif\u001b[39;00m endog\u001b[38;5;241m.\u001b[39mdtype \u001b[38;5;241m==\u001b[39m \u001b[38;5;28mobject\u001b[39m \u001b[38;5;129;01mor\u001b[39;00m exog \u001b[38;5;129;01mis\u001b[39;00m \u001b[38;5;129;01mnot\u001b[39;00m \u001b[38;5;28;01mNone\u001b[39;00m \u001b[38;5;129;01mand\u001b[39;00m exog\u001b[38;5;241m.\u001b[39mdtype \u001b[38;5;241m==\u001b[39m \u001b[38;5;28mobject\u001b[39m:\n\u001b[1;32m--> 507\u001b[0m     \u001b[38;5;28;01mraise\u001b[39;00m \u001b[38;5;167;01mValueError\u001b[39;00m(\u001b[38;5;124m\"\u001b[39m\u001b[38;5;124mPandas data cast to numpy dtype of object. \u001b[39m\u001b[38;5;124m\"\u001b[39m\n\u001b[0;32m    508\u001b[0m                      \u001b[38;5;124m\"\u001b[39m\u001b[38;5;124mCheck input data with np.asarray(data).\u001b[39m\u001b[38;5;124m\"\u001b[39m)\n\u001b[0;32m    509\u001b[0m \u001b[38;5;28;01mreturn\u001b[39;00m \u001b[38;5;28msuper\u001b[39m(PandasData, \u001b[38;5;28mself\u001b[39m)\u001b[38;5;241m.\u001b[39m_convert_endog_exog(endog, exog)\n",
      "\u001b[1;31mValueError\u001b[0m: Pandas data cast to numpy dtype of object. Check input data with np.asarray(data)."
     ]
    }
   ],
   "source": [
    "#fit linear regression model\n",
    "model = sm.OLS(y_2, x_2).fit()"
   ]
  },
  {
   "cell_type": "code",
   "execution_count": 89,
   "id": "a48b9833",
   "metadata": {},
   "outputs": [
    {
     "ename": "NameError",
     "evalue": "name 'model' is not defined",
     "output_type": "error",
     "traceback": [
      "\u001b[1;31m---------------------------------------------------------------------------\u001b[0m",
      "\u001b[1;31mNameError\u001b[0m                                 Traceback (most recent call last)",
      "Input \u001b[1;32mIn [89]\u001b[0m, in \u001b[0;36m<cell line: 2>\u001b[1;34m()\u001b[0m\n\u001b[0;32m      1\u001b[0m \u001b[38;5;66;03m#view model summary\u001b[39;00m\n\u001b[1;32m----> 2\u001b[0m \u001b[38;5;28mprint\u001b[39m(\u001b[43mmodel\u001b[49m\u001b[38;5;241m.\u001b[39msummary())\n",
      "\u001b[1;31mNameError\u001b[0m: name 'model' is not defined"
     ]
    }
   ],
   "source": [
    "#view model summary\n",
    "print(model.summary())"
   ]
  },
  {
   "cell_type": "code",
   "execution_count": null,
   "id": "dbeb5bf0",
   "metadata": {},
   "outputs": [],
   "source": []
  },
  {
   "cell_type": "code",
   "execution_count": null,
   "id": "c87ea96d",
   "metadata": {},
   "outputs": [],
   "source": []
  },
  {
   "cell_type": "markdown",
   "id": "8ca2f906",
   "metadata": {},
   "source": [
    "## Step 5 -  Comparision using Inferential Statistics "
   ]
  },
  {
   "cell_type": "code",
   "execution_count": null,
   "id": "1256cdcf",
   "metadata": {},
   "outputs": [],
   "source": []
  },
  {
   "cell_type": "code",
   "execution_count": null,
   "id": "d8697153",
   "metadata": {},
   "outputs": [],
   "source": []
  },
  {
   "cell_type": "code",
   "execution_count": null,
   "id": "2586a738",
   "metadata": {},
   "outputs": [],
   "source": []
  },
  {
   "cell_type": "code",
   "execution_count": null,
   "id": "457d6218",
   "metadata": {},
   "outputs": [],
   "source": []
  },
  {
   "cell_type": "code",
   "execution_count": null,
   "id": "59b9d4b8",
   "metadata": {},
   "outputs": [],
   "source": []
  },
  {
   "cell_type": "code",
   "execution_count": null,
   "id": "daebfebc",
   "metadata": {},
   "outputs": [],
   "source": []
  },
  {
   "cell_type": "code",
   "execution_count": null,
   "id": "63ab7f04",
   "metadata": {},
   "outputs": [],
   "source": []
  },
  {
   "cell_type": "code",
   "execution_count": null,
   "id": "9fbc76cb",
   "metadata": {},
   "outputs": [],
   "source": []
  },
  {
   "cell_type": "code",
   "execution_count": null,
   "id": "15d144a3",
   "metadata": {},
   "outputs": [],
   "source": []
  },
  {
   "cell_type": "code",
   "execution_count": null,
   "id": "b744eceb",
   "metadata": {},
   "outputs": [],
   "source": []
  },
  {
   "cell_type": "code",
   "execution_count": null,
   "id": "ded10ad2",
   "metadata": {},
   "outputs": [],
   "source": []
  },
  {
   "cell_type": "markdown",
   "id": "0f96e9d6",
   "metadata": {},
   "source": [
    "## STATISTICAL RESULTS"
   ]
  },
  {
   "cell_type": "code",
   "execution_count": 76,
   "id": "2e964888",
   "metadata": {},
   "outputs": [],
   "source": [
    "table = [['Statistic Results'], \n",
    "         ['Shapiro - EEC', org_shapiro],\n",
    "         ['Shapiro - Ireland', irl_shapiro],\n",
    "         ['Shapiro - Spain', es_shapiro], \n",
    "         ['1 - ANOVA', 'TBC'], \n",
    "         ['2 - Kruskal', results_kruskal], \n",
    "         ['3 - Mann Whitney', mann_whitney_results],\n",
    "         ['4 - Correlation Test', 'TBC'],\n",
    "         ['5 - TBC', 'TBC'],\n",
    "         ['6 - TBC', 'TBC'],\n",
    "        ]"
   ]
  },
  {
   "cell_type": "code",
   "execution_count": 77,
   "id": "91ea3507",
   "metadata": {},
   "outputs": [
    {
     "name": "stdout",
     "output_type": "stream",
     "text": [
      "╒═══════════════════╤═══════════════════════════════════════════════════════════════════════════╕\n",
      "│                   │ Statistic Results                                                         │\n",
      "╞═══════════════════╪═══════════════════════════════════════════════════════════════════════════╡\n",
      "│ Shapiro - EEC     │ ShapiroResult(statistic=0.5990283489227295, pvalue=3.381963498465037e-38) │\n",
      "├───────────────────┼───────────────────────────────────────────────────────────────────────────┤\n",
      "│ Shapiro - Ireland │ ShapiroResult(statistic=0.9626172780990601, pvalue=0.5703385472297668)    │\n",
      "├───────────────────┼───────────────────────────────────────────────────────────────────────────┤\n",
      "│ Shapiro - Spain   │ ShapiroResult(statistic=0.8976963758468628, pvalue=0.007380156312137842)  │\n",
      "├───────────────────┼───────────────────────────────────────────────────────────────────────────┤\n",
      "│ 1 - ANOVA         │ TBC                                                                       │\n",
      "├───────────────────┼───────────────────────────────────────────────────────────────────────────┤\n",
      "│ 2 - Kruskal       │ KruskalResult(statistic=5.290409876690496, pvalue=0.07099080351093866)    │\n",
      "├───────────────────┼───────────────────────────────────────────────────────────────────────────┤\n",
      "│ 3 - Mann Whitney  │ MannwhitneyuResult(statistic=88.0, pvalue=1.4564485987500371e-05)         │\n",
      "├───────────────────┼───────────────────────────────────────────────────────────────────────────┤\n",
      "│ 4 - TBC           │ TBC                                                                       │\n",
      "├───────────────────┼───────────────────────────────────────────────────────────────────────────┤\n",
      "│ 5 - TBC           │ TBC                                                                       │\n",
      "├───────────────────┼───────────────────────────────────────────────────────────────────────────┤\n",
      "│ 6 - TBC           │ TBC                                                                       │\n",
      "╘═══════════════════╧═══════════════════════════════════════════════════════════════════════════╛\n"
     ]
    }
   ],
   "source": [
    "print(tabulate(table, headers='firstrow', tablefmt='fancy_grid'))"
   ]
  },
  {
   "cell_type": "code",
   "execution_count": null,
   "id": "a04e35f1",
   "metadata": {},
   "outputs": [],
   "source": []
  }
 ],
 "metadata": {
  "kernelspec": {
   "display_name": "Python 3 (ipykernel)",
   "language": "python",
   "name": "python3"
  },
  "language_info": {
   "codemirror_mode": {
    "name": "ipython",
    "version": 3
   },
   "file_extension": ".py",
   "mimetype": "text/x-python",
   "name": "python",
   "nbconvert_exporter": "python",
   "pygments_lexer": "ipython3",
   "version": "3.9.12"
  }
 },
 "nbformat": 4,
 "nbformat_minor": 5
}
