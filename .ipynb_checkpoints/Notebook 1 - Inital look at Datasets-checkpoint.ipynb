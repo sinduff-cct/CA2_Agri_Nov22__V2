{
 "cells": [
  {
   "cell_type": "markdown",
   "id": "3ee92d15",
   "metadata": {},
   "source": [
    "## CA 2 - Review of Agriculture in Ireland\n",
    "\n",
    "### Organic food production\n",
    "\n",
    "Source = Eurostat"
   ]
  },
  {
   "cell_type": "code",
   "execution_count": 2,
   "id": "e37db901",
   "metadata": {},
   "outputs": [],
   "source": [
    "# Importing the libraries\n",
    "\n",
    "# libraries for graphics\n",
    "%matplotlib inline\n",
    "import matplotlib.pyplot as plt\n",
    "import seaborn as sns\n",
    "sns.set(color_codes=True)\n",
    "\n",
    "\n",
    "# create tables\n",
    "from tabulate import tabulate\n",
    "\n",
    "#graphics for calculations\n",
    "import numpy as np\n",
    "import pandas as pd\n",
    "\n",
    "\n",
    "# libraries for analysis\n",
    "import datetime \n",
    "import statistics\n",
    "from scipy.stats import binom\n",
    "from scipy.stats import poisson\n",
    "import pylab\n",
    "from scipy import stats\n"
   ]
  },
  {
   "cell_type": "code",
   "execution_count": 4,
   "id": "952a5c6f",
   "metadata": {},
   "outputs": [],
   "source": [
    "# Step 1 - import the dataframe\n",
    "\n",
    "Organic_food_df = pd.read_csv(\"Datasets/org_aprod_linear.csv\")"
   ]
  },
  {
   "cell_type": "code",
   "execution_count": 5,
   "id": "03b256be",
   "metadata": {},
   "outputs": [
    {
     "data": {
      "text/plain": [
       "(3935, 9)"
      ]
     },
     "execution_count": 5,
     "metadata": {},
     "output_type": "execute_result"
    }
   ],
   "source": [
    "Organic_food_df.shape"
   ]
  },
  {
   "cell_type": "code",
   "execution_count": 6,
   "id": "f4e22dd7",
   "metadata": {},
   "outputs": [
    {
     "data": {
      "text/html": [
       "<div>\n",
       "<style scoped>\n",
       "    .dataframe tbody tr th:only-of-type {\n",
       "        vertical-align: middle;\n",
       "    }\n",
       "\n",
       "    .dataframe tbody tr th {\n",
       "        vertical-align: top;\n",
       "    }\n",
       "\n",
       "    .dataframe thead th {\n",
       "        text-align: right;\n",
       "    }\n",
       "</style>\n",
       "<table border=\"1\" class=\"dataframe\">\n",
       "  <thead>\n",
       "    <tr style=\"text-align: right;\">\n",
       "      <th></th>\n",
       "      <th>DATAFLOW</th>\n",
       "      <th>LAST UPDATE</th>\n",
       "      <th>freq</th>\n",
       "      <th>agriprod</th>\n",
       "      <th>unit</th>\n",
       "      <th>geo</th>\n",
       "      <th>TIME_PERIOD</th>\n",
       "      <th>OBS_VALUE</th>\n",
       "      <th>OBS_FLAG</th>\n",
       "    </tr>\n",
       "  </thead>\n",
       "  <tbody>\n",
       "    <tr>\n",
       "      <th>0</th>\n",
       "      <td>ESTAT:ORG_APROD(1.0)</td>\n",
       "      <td>02/12/22 23:00:00</td>\n",
       "      <td>A</td>\n",
       "      <td>B0010</td>\n",
       "      <td>T</td>\n",
       "      <td>BE</td>\n",
       "      <td>2016</td>\n",
       "      <td>5502.0</td>\n",
       "      <td>NaN</td>\n",
       "    </tr>\n",
       "    <tr>\n",
       "      <th>1</th>\n",
       "      <td>ESTAT:ORG_APROD(1.0)</td>\n",
       "      <td>02/12/22 23:00:00</td>\n",
       "      <td>A</td>\n",
       "      <td>B0010</td>\n",
       "      <td>T</td>\n",
       "      <td>BE</td>\n",
       "      <td>2017</td>\n",
       "      <td>7321.0</td>\n",
       "      <td>NaN</td>\n",
       "    </tr>\n",
       "    <tr>\n",
       "      <th>2</th>\n",
       "      <td>ESTAT:ORG_APROD(1.0)</td>\n",
       "      <td>02/12/22 23:00:00</td>\n",
       "      <td>A</td>\n",
       "      <td>B0010</td>\n",
       "      <td>T</td>\n",
       "      <td>BE</td>\n",
       "      <td>2018</td>\n",
       "      <td>8708.0</td>\n",
       "      <td>NaN</td>\n",
       "    </tr>\n",
       "    <tr>\n",
       "      <th>3</th>\n",
       "      <td>ESTAT:ORG_APROD(1.0)</td>\n",
       "      <td>02/12/22 23:00:00</td>\n",
       "      <td>A</td>\n",
       "      <td>B0010</td>\n",
       "      <td>T</td>\n",
       "      <td>BE</td>\n",
       "      <td>2019</td>\n",
       "      <td>9601.0</td>\n",
       "      <td>NaN</td>\n",
       "    </tr>\n",
       "    <tr>\n",
       "      <th>4</th>\n",
       "      <td>ESTAT:ORG_APROD(1.0)</td>\n",
       "      <td>02/12/22 23:00:00</td>\n",
       "      <td>A</td>\n",
       "      <td>B0010</td>\n",
       "      <td>T</td>\n",
       "      <td>BE</td>\n",
       "      <td>2020</td>\n",
       "      <td>10364.0</td>\n",
       "      <td>NaN</td>\n",
       "    </tr>\n",
       "  </tbody>\n",
       "</table>\n",
       "</div>"
      ],
      "text/plain": [
       "               DATAFLOW        LAST UPDATE freq agriprod unit geo  \\\n",
       "0  ESTAT:ORG_APROD(1.0)  02/12/22 23:00:00    A    B0010    T  BE   \n",
       "1  ESTAT:ORG_APROD(1.0)  02/12/22 23:00:00    A    B0010    T  BE   \n",
       "2  ESTAT:ORG_APROD(1.0)  02/12/22 23:00:00    A    B0010    T  BE   \n",
       "3  ESTAT:ORG_APROD(1.0)  02/12/22 23:00:00    A    B0010    T  BE   \n",
       "4  ESTAT:ORG_APROD(1.0)  02/12/22 23:00:00    A    B0010    T  BE   \n",
       "\n",
       "   TIME_PERIOD  OBS_VALUE OBS_FLAG  \n",
       "0         2016     5502.0      NaN  \n",
       "1         2017     7321.0      NaN  \n",
       "2         2018     8708.0      NaN  \n",
       "3         2019     9601.0      NaN  \n",
       "4         2020    10364.0      NaN  "
      ]
     },
     "execution_count": 6,
     "metadata": {},
     "output_type": "execute_result"
    }
   ],
   "source": [
    "Organic_food_df.head()"
   ]
  },
  {
   "cell_type": "code",
   "execution_count": 7,
   "id": "ac9988b0",
   "metadata": {},
   "outputs": [
    {
     "data": {
      "text/plain": [
       "DATAFLOW       3935\n",
       "LAST UPDATE    3935\n",
       "freq           3935\n",
       "agriprod       3935\n",
       "unit           3935\n",
       "geo            3935\n",
       "TIME_PERIOD    3935\n",
       "OBS_VALUE      3728\n",
       "OBS_FLAG        367\n",
       "dtype: int64"
      ]
     },
     "execution_count": 7,
     "metadata": {},
     "output_type": "execute_result"
    }
   ],
   "source": [
    "Organic_food_df.count()"
   ]
  },
  {
   "cell_type": "code",
   "execution_count": 8,
   "id": "8542b908",
   "metadata": {},
   "outputs": [
    {
     "name": "stdout",
     "output_type": "stream",
     "text": [
      "<class 'pandas.core.frame.DataFrame'>\n",
      "RangeIndex: 3935 entries, 0 to 3934\n",
      "Data columns (total 9 columns):\n",
      " #   Column       Non-Null Count  Dtype  \n",
      "---  ------       --------------  -----  \n",
      " 0   DATAFLOW     3935 non-null   object \n",
      " 1   LAST UPDATE  3935 non-null   object \n",
      " 2   freq         3935 non-null   object \n",
      " 3   agriprod     3935 non-null   object \n",
      " 4   unit         3935 non-null   object \n",
      " 5   geo          3935 non-null   object \n",
      " 6   TIME_PERIOD  3935 non-null   int64  \n",
      " 7   OBS_VALUE    3728 non-null   float64\n",
      " 8   OBS_FLAG     367 non-null    object \n",
      "dtypes: float64(1), int64(1), object(7)\n",
      "memory usage: 276.8+ KB\n"
     ]
    }
   ],
   "source": [
    "Organic_food_df.info()"
   ]
  },
  {
   "cell_type": "code",
   "execution_count": 10,
   "id": "4c094a6e",
   "metadata": {},
   "outputs": [
    {
     "name": "stdout",
     "output_type": "stream",
     "text": [
      "Number of duplicate rows in the dataframe:  (0, 9)\n"
     ]
    }
   ],
   "source": [
    "# check for duplicate rows of data\n",
    "\n",
    "duplicate_rows_df = Organic_food_df[Organic_food_df.duplicated()]\n",
    "print(\"Number of duplicate rows in the dataframe: \", duplicate_rows_df.shape)"
   ]
  },
  {
   "cell_type": "code",
   "execution_count": 11,
   "id": "65fb0f3d",
   "metadata": {},
   "outputs": [
    {
     "name": "stdout",
     "output_type": "stream",
     "text": [
      "DATAFLOW       0.0\n",
      "LAST UPDATE    0.0\n",
      "freq           0.0\n",
      "agriprod       0.0\n",
      "unit           0.0\n",
      "geo            0.0\n",
      "TIME_PERIOD    0.0\n",
      "OBS_VALUE      0.0\n",
      "OBS_FLAG       0.0\n",
      "dtype: float64\n"
     ]
    }
   ],
   "source": [
    "print(Organic_food_df.isnull().sum())"
   ]
  },
  {
   "cell_type": "code",
   "execution_count": 21,
   "id": "e1478041",
   "metadata": {},
   "outputs": [
    {
     "data": {
      "text/plain": [
       "DATAFLOW       0\n",
       "LAST UPDATE    0\n",
       "freq           0\n",
       "agriprod       0\n",
       "unit           0\n",
       "geo            0\n",
       "TIME_PERIOD    0\n",
       "OBS_VALUE      0\n",
       "OBS_FLAG       0\n",
       "dtype: int64"
      ]
     },
     "execution_count": 21,
     "metadata": {},
     "output_type": "execute_result"
    }
   ],
   "source": [
    "# count the Unique values in the each column of the datafram\n",
    "\n",
    "#Organic_food_df[\"geo\"].value_counts()\n",
    "\n",
    "#Organic_food_df[\"unit\"].unique()\n",
    "Organic_food_df.nunique()"
   ]
  },
  {
   "cell_type": "code",
   "execution_count": 22,
   "id": "4dba2b11",
   "metadata": {},
   "outputs": [
    {
     "data": {
      "text/plain": [
       "Series([], Name: geo, dtype: int64)"
      ]
     },
     "execution_count": 22,
     "metadata": {},
     "output_type": "execute_result"
    }
   ],
   "source": [
    "#count unique 'agriprod' values, grouped by geo (country)\n",
    "Organic_food_df.groupby('agriprod')['geo'].nunique()"
   ]
  },
  {
   "cell_type": "code",
   "execution_count": null,
   "id": "33531dd6",
   "metadata": {},
   "outputs": [],
   "source": []
  }
 ],
 "metadata": {
  "kernelspec": {
   "display_name": "Python 3 (ipykernel)",
   "language": "python",
   "name": "python3"
  },
  "language_info": {
   "codemirror_mode": {
    "name": "ipython",
    "version": 3
   },
   "file_extension": ".py",
   "mimetype": "text/x-python",
   "name": "python",
   "nbconvert_exporter": "python",
   "pygments_lexer": "ipython3",
   "version": "3.9.12"
  }
 },
 "nbformat": 4,
 "nbformat_minor": 5
}
