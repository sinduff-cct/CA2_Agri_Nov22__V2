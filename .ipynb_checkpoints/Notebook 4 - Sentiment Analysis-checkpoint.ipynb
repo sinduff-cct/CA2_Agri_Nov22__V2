{
 "cells": [
  {
   "cell_type": "markdown",
   "id": "36adb3ba",
   "metadata": {},
   "source": [
    "## CA 2 - Review of Agriculture in Ireland\n",
    "\n",
    "### Machine Learning"
   ]
  },
  {
   "cell_type": "markdown",
   "id": "a298ff0f",
   "metadata": {},
   "source": [
    "### API for organic food ..\n",
    "\n",
    "reference - https://agridata.ec.europa.eu/extensions/DataPortal/API_Documentation.html\n",
    "\n",
    "https://agridata.ec.europa.eu/extensions/DataPortal/API_Documentation.html\n",
    "\n",
    "###### Info Page\n",
    "https://agridata.ec.europa.eu/Qlik_Downloads/Organic-Production-sources.htm\n",
    "\n",
    "\n",
    "###### JSON and APIs with Python - \n",
    "https://towardsdatascience.com/json-and-apis-with-python-fba329ef6ef0\n"
   ]
  },
  {
   "cell_type": "code",
   "execution_count": 32,
   "id": "3f75de3f",
   "metadata": {},
   "outputs": [],
   "source": [
    "# libraries for graphics\n",
    "%matplotlib inline\n",
    "import matplotlib.pyplot as plt\n",
    "import seaborn as sns\n",
    "sns.set(color_codes=True)\n",
    "\n",
    "# create tables\n",
    "from tabulate import tabulate\n",
    "\n",
    "#graphics for calculations\n",
    "import numpy as np\n",
    "import pandas as pd\n",
    "\n",
    "#Libraries to work with json files\n",
    "import requests\n",
    "import json\n",
    "\n",
    "\n",
    "import warnings\n",
    "warnings.filterwarnings('ignore') # We can suppress the warnings"
   ]
  },
  {
   "cell_type": "markdown",
   "id": "9d928696",
   "metadata": {},
   "source": [
    "## Task 1 - Sentiment Analysis\n",
    "\n",
    "Sentiment analysis was created using an API weblink to the Agridata webportal of the European Union.  The link is a live connection with updates replicated to the notebook as they are shared on the dashboard."
   ]
  },
  {
   "cell_type": "code",
   "execution_count": 2,
   "id": "11b9831f",
   "metadata": {},
   "outputs": [],
   "source": [
    "# setting up the HTTP request\n",
    "# create a live api link to the Europa AgriFood Dashboard for live Raw Milk price updates\n",
    "\n",
    "raw_milk_api = requests.get('https://ec.europa.eu/agrifood/api/rawMilk/prices?products=raw%20milk')\n",
    "\n",
    "#egg_price_api = requests.get('https://ec.europa.eu/agrifood/api/poultry/egg/prices?farmingMethods=Barn,Cage')"
   ]
  },
  {
   "cell_type": "code",
   "execution_count": 3,
   "id": "999890f6",
   "metadata": {},
   "outputs": [],
   "source": [
    "# check the json data to make sure it's loaded in\n",
    "\n",
    "#raw_milk_api.json()"
   ]
  },
  {
   "cell_type": "code",
   "execution_count": 4,
   "id": "c4e5089e",
   "metadata": {},
   "outputs": [
    {
     "data": {
      "text/plain": [
       "<Response [200]>"
      ]
     },
     "execution_count": 4,
     "metadata": {},
     "output_type": "execute_result"
    }
   ],
   "source": [
    "# check data was loaded in successfully\n",
    "\n",
    "raw_milk_api"
   ]
  },
  {
   "cell_type": "code",
   "execution_count": 5,
   "id": "a8101ef8",
   "metadata": {},
   "outputs": [],
   "source": [
    "# convert api json data into a dataframe for processing\n",
    "\n",
    "df_milk_prices = pd.DataFrame.from_dict(raw_milk_api.json())"
   ]
  },
  {
   "cell_type": "code",
   "execution_count": 6,
   "id": "e349b1d2",
   "metadata": {},
   "outputs": [
    {
     "data": {
      "text/html": [
       "<div>\n",
       "<style scoped>\n",
       "    .dataframe tbody tr th:only-of-type {\n",
       "        vertical-align: middle;\n",
       "    }\n",
       "\n",
       "    .dataframe tbody tr th {\n",
       "        vertical-align: top;\n",
       "    }\n",
       "\n",
       "    .dataframe thead th {\n",
       "        text-align: right;\n",
       "    }\n",
       "</style>\n",
       "<table border=\"1\" class=\"dataframe\">\n",
       "  <thead>\n",
       "    <tr style=\"text-align: right;\">\n",
       "      <th></th>\n",
       "      <th>memberStateCode</th>\n",
       "      <th>memberStateName</th>\n",
       "      <th>beginDate</th>\n",
       "      <th>endDate</th>\n",
       "      <th>month</th>\n",
       "      <th>monthName</th>\n",
       "      <th>price</th>\n",
       "      <th>unit</th>\n",
       "      <th>year</th>\n",
       "      <th>product</th>\n",
       "    </tr>\n",
       "  </thead>\n",
       "  <tbody>\n",
       "    <tr>\n",
       "      <th>0</th>\n",
       "      <td>AT</td>\n",
       "      <td>Austria</td>\n",
       "      <td>01/12/2022</td>\n",
       "      <td>31/12/2022</td>\n",
       "      <td>12</td>\n",
       "      <td>Dec</td>\n",
       "      <td>€59.20</td>\n",
       "      <td>100KG</td>\n",
       "      <td>2022</td>\n",
       "      <td>Raw milk</td>\n",
       "    </tr>\n",
       "    <tr>\n",
       "      <th>1</th>\n",
       "      <td>BG</td>\n",
       "      <td>Bulgaria</td>\n",
       "      <td>01/12/2022</td>\n",
       "      <td>31/12/2022</td>\n",
       "      <td>12</td>\n",
       "      <td>Dec</td>\n",
       "      <td>€51.51</td>\n",
       "      <td>100KG</td>\n",
       "      <td>2022</td>\n",
       "      <td>Raw milk</td>\n",
       "    </tr>\n",
       "    <tr>\n",
       "      <th>2</th>\n",
       "      <td>CY</td>\n",
       "      <td>Cyprus</td>\n",
       "      <td>01/12/2022</td>\n",
       "      <td>31/12/2022</td>\n",
       "      <td>12</td>\n",
       "      <td>Dec</td>\n",
       "      <td>€64.42</td>\n",
       "      <td>100KG</td>\n",
       "      <td>2022</td>\n",
       "      <td>Raw milk</td>\n",
       "    </tr>\n",
       "    <tr>\n",
       "      <th>3</th>\n",
       "      <td>CZ</td>\n",
       "      <td>Czechia</td>\n",
       "      <td>01/12/2022</td>\n",
       "      <td>31/12/2022</td>\n",
       "      <td>12</td>\n",
       "      <td>Dec</td>\n",
       "      <td>€51.69</td>\n",
       "      <td>100KG</td>\n",
       "      <td>2022</td>\n",
       "      <td>Raw milk</td>\n",
       "    </tr>\n",
       "    <tr>\n",
       "      <th>4</th>\n",
       "      <td>DK</td>\n",
       "      <td>Denmark</td>\n",
       "      <td>01/12/2022</td>\n",
       "      <td>31/12/2022</td>\n",
       "      <td>12</td>\n",
       "      <td>Dec</td>\n",
       "      <td>€61.45</td>\n",
       "      <td>100KG</td>\n",
       "      <td>2022</td>\n",
       "      <td>Raw milk</td>\n",
       "    </tr>\n",
       "  </tbody>\n",
       "</table>\n",
       "</div>"
      ],
      "text/plain": [
       "  memberStateCode memberStateName   beginDate     endDate  month monthName  \\\n",
       "0              AT         Austria  01/12/2022  31/12/2022     12       Dec   \n",
       "1              BG        Bulgaria  01/12/2022  31/12/2022     12       Dec   \n",
       "2              CY          Cyprus  01/12/2022  31/12/2022     12       Dec   \n",
       "3              CZ         Czechia  01/12/2022  31/12/2022     12       Dec   \n",
       "4              DK         Denmark  01/12/2022  31/12/2022     12       Dec   \n",
       "\n",
       "    price   unit  year   product  \n",
       "0  €59.20  100KG  2022  Raw milk  \n",
       "1  €51.51  100KG  2022  Raw milk  \n",
       "2  €64.42  100KG  2022  Raw milk  \n",
       "3  €51.69  100KG  2022  Raw milk  \n",
       "4  €61.45  100KG  2022  Raw milk  "
      ]
     },
     "execution_count": 6,
     "metadata": {},
     "output_type": "execute_result"
    }
   ],
   "source": [
    "# show the dataframe\n",
    "\n",
    "df_milk_prices.head()"
   ]
  },
  {
   "cell_type": "code",
   "execution_count": 7,
   "id": "e7e5c3f1",
   "metadata": {},
   "outputs": [],
   "source": [
    "# remove the '€' from each row in the 'price' column\n",
    "\n",
    "df_milk_prices['price'] = df_milk_prices['price'].str[1:]\n"
   ]
  },
  {
   "cell_type": "code",
   "execution_count": 8,
   "id": "de1acbbb",
   "metadata": {},
   "outputs": [
    {
     "data": {
      "text/html": [
       "<div>\n",
       "<style scoped>\n",
       "    .dataframe tbody tr th:only-of-type {\n",
       "        vertical-align: middle;\n",
       "    }\n",
       "\n",
       "    .dataframe tbody tr th {\n",
       "        vertical-align: top;\n",
       "    }\n",
       "\n",
       "    .dataframe thead th {\n",
       "        text-align: right;\n",
       "    }\n",
       "</style>\n",
       "<table border=\"1\" class=\"dataframe\">\n",
       "  <thead>\n",
       "    <tr style=\"text-align: right;\">\n",
       "      <th></th>\n",
       "      <th>memberStateCode</th>\n",
       "      <th>memberStateName</th>\n",
       "      <th>beginDate</th>\n",
       "      <th>endDate</th>\n",
       "      <th>month</th>\n",
       "      <th>monthName</th>\n",
       "      <th>price</th>\n",
       "      <th>unit</th>\n",
       "      <th>year</th>\n",
       "      <th>product</th>\n",
       "    </tr>\n",
       "  </thead>\n",
       "  <tbody>\n",
       "    <tr>\n",
       "      <th>0</th>\n",
       "      <td>AT</td>\n",
       "      <td>Austria</td>\n",
       "      <td>01/12/2022</td>\n",
       "      <td>31/12/2022</td>\n",
       "      <td>12</td>\n",
       "      <td>Dec</td>\n",
       "      <td>59.20</td>\n",
       "      <td>100</td>\n",
       "      <td>2022</td>\n",
       "      <td>Raw milk</td>\n",
       "    </tr>\n",
       "    <tr>\n",
       "      <th>1</th>\n",
       "      <td>BG</td>\n",
       "      <td>Bulgaria</td>\n",
       "      <td>01/12/2022</td>\n",
       "      <td>31/12/2022</td>\n",
       "      <td>12</td>\n",
       "      <td>Dec</td>\n",
       "      <td>51.51</td>\n",
       "      <td>100</td>\n",
       "      <td>2022</td>\n",
       "      <td>Raw milk</td>\n",
       "    </tr>\n",
       "    <tr>\n",
       "      <th>2</th>\n",
       "      <td>CY</td>\n",
       "      <td>Cyprus</td>\n",
       "      <td>01/12/2022</td>\n",
       "      <td>31/12/2022</td>\n",
       "      <td>12</td>\n",
       "      <td>Dec</td>\n",
       "      <td>64.42</td>\n",
       "      <td>100</td>\n",
       "      <td>2022</td>\n",
       "      <td>Raw milk</td>\n",
       "    </tr>\n",
       "    <tr>\n",
       "      <th>3</th>\n",
       "      <td>CZ</td>\n",
       "      <td>Czechia</td>\n",
       "      <td>01/12/2022</td>\n",
       "      <td>31/12/2022</td>\n",
       "      <td>12</td>\n",
       "      <td>Dec</td>\n",
       "      <td>51.69</td>\n",
       "      <td>100</td>\n",
       "      <td>2022</td>\n",
       "      <td>Raw milk</td>\n",
       "    </tr>\n",
       "    <tr>\n",
       "      <th>4</th>\n",
       "      <td>DK</td>\n",
       "      <td>Denmark</td>\n",
       "      <td>01/12/2022</td>\n",
       "      <td>31/12/2022</td>\n",
       "      <td>12</td>\n",
       "      <td>Dec</td>\n",
       "      <td>61.45</td>\n",
       "      <td>100</td>\n",
       "      <td>2022</td>\n",
       "      <td>Raw milk</td>\n",
       "    </tr>\n",
       "  </tbody>\n",
       "</table>\n",
       "</div>"
      ],
      "text/plain": [
       "  memberStateCode memberStateName   beginDate     endDate  month monthName  \\\n",
       "0              AT         Austria  01/12/2022  31/12/2022     12       Dec   \n",
       "1              BG        Bulgaria  01/12/2022  31/12/2022     12       Dec   \n",
       "2              CY          Cyprus  01/12/2022  31/12/2022     12       Dec   \n",
       "3              CZ         Czechia  01/12/2022  31/12/2022     12       Dec   \n",
       "4              DK         Denmark  01/12/2022  31/12/2022     12       Dec   \n",
       "\n",
       "   price  unit  year   product  \n",
       "0  59.20   100  2022  Raw milk  \n",
       "1  51.51   100  2022  Raw milk  \n",
       "2  64.42   100  2022  Raw milk  \n",
       "3  51.69   100  2022  Raw milk  \n",
       "4  61.45   100  2022  Raw milk  "
      ]
     },
     "execution_count": 8,
     "metadata": {},
     "output_type": "execute_result"
    }
   ],
   "source": [
    "# map all values in the 'unit' column as 100.  \n",
    "# Prices are calcuated at 100kg\n",
    "\n",
    "df_milk_prices['unit'] = df_milk_prices['unit'].replace('100KG', 100)\n",
    "\n",
    "df_milk_prices.head()"
   ]
  },
  {
   "cell_type": "code",
   "execution_count": 9,
   "id": "a8953cdc",
   "metadata": {},
   "outputs": [],
   "source": [
    "# count unique 'memberStateName' values, grouped by year\n",
    "\n",
    "#df_milk_prices.groupby('memberStateName')['year'].nunique()"
   ]
  },
  {
   "cell_type": "code",
   "execution_count": 10,
   "id": "bf37c9c1",
   "metadata": {},
   "outputs": [],
   "source": [
    "# replace values to numeric\n",
    "\n",
    "values_to_be_replaced = {\n",
    "    'Austria':1,\n",
    "    'Belgium':2,\n",
    "    'Bulgaria':3,\n",
    "    'Croatia':4,\n",
    "    'Cyprus':5,\n",
    "    'Czechia':6,\n",
    "    'Denmark':7,\n",
    "    'Estonia':8,\n",
    "    'European Union':9,\n",
    "    'European Union + UK':10,\n",
    "    'Finland':11,\n",
    "    'France':12,\n",
    "    'Germany':13,\n",
    "    'Greece':14,\n",
    "    'Hungary':15,\n",
    "    'Ireland':16,\n",
    "    'Italy':17,\n",
    "    'Latvia':18,\n",
    "    'Lithuania':19,\n",
    "    'Luxembourg':20,\n",
    "    'Malta':21,\n",
    "    'Netherlands':22,\n",
    "    'Poland':23,\n",
    "    'Portugal':24,\n",
    "    'Romania':25,\n",
    "    'Slovakia':26,\n",
    "    'Slovenia':27,\n",
    "    'Spain':28,\n",
    "    'Sweden':29,\n",
    "    'UK up to 01/02/2020':30,\n",
    "     }"
   ]
  },
  {
   "cell_type": "code",
   "execution_count": 11,
   "id": "6ee07374",
   "metadata": {},
   "outputs": [
    {
     "data": {
      "text/html": [
       "<div>\n",
       "<style scoped>\n",
       "    .dataframe tbody tr th:only-of-type {\n",
       "        vertical-align: middle;\n",
       "    }\n",
       "\n",
       "    .dataframe tbody tr th {\n",
       "        vertical-align: top;\n",
       "    }\n",
       "\n",
       "    .dataframe thead th {\n",
       "        text-align: right;\n",
       "    }\n",
       "</style>\n",
       "<table border=\"1\" class=\"dataframe\">\n",
       "  <thead>\n",
       "    <tr style=\"text-align: right;\">\n",
       "      <th></th>\n",
       "      <th>memberStateCode</th>\n",
       "      <th>memberStateName</th>\n",
       "      <th>beginDate</th>\n",
       "      <th>endDate</th>\n",
       "      <th>month</th>\n",
       "      <th>monthName</th>\n",
       "      <th>price</th>\n",
       "      <th>unit</th>\n",
       "      <th>year</th>\n",
       "      <th>product</th>\n",
       "    </tr>\n",
       "  </thead>\n",
       "  <tbody>\n",
       "    <tr>\n",
       "      <th>0</th>\n",
       "      <td>AT</td>\n",
       "      <td>1</td>\n",
       "      <td>01/12/2022</td>\n",
       "      <td>31/12/2022</td>\n",
       "      <td>12</td>\n",
       "      <td>Dec</td>\n",
       "      <td>59.20</td>\n",
       "      <td>100</td>\n",
       "      <td>2022</td>\n",
       "      <td>Raw milk</td>\n",
       "    </tr>\n",
       "    <tr>\n",
       "      <th>1</th>\n",
       "      <td>BG</td>\n",
       "      <td>3</td>\n",
       "      <td>01/12/2022</td>\n",
       "      <td>31/12/2022</td>\n",
       "      <td>12</td>\n",
       "      <td>Dec</td>\n",
       "      <td>51.51</td>\n",
       "      <td>100</td>\n",
       "      <td>2022</td>\n",
       "      <td>Raw milk</td>\n",
       "    </tr>\n",
       "    <tr>\n",
       "      <th>2</th>\n",
       "      <td>CY</td>\n",
       "      <td>5</td>\n",
       "      <td>01/12/2022</td>\n",
       "      <td>31/12/2022</td>\n",
       "      <td>12</td>\n",
       "      <td>Dec</td>\n",
       "      <td>64.42</td>\n",
       "      <td>100</td>\n",
       "      <td>2022</td>\n",
       "      <td>Raw milk</td>\n",
       "    </tr>\n",
       "    <tr>\n",
       "      <th>3</th>\n",
       "      <td>CZ</td>\n",
       "      <td>6</td>\n",
       "      <td>01/12/2022</td>\n",
       "      <td>31/12/2022</td>\n",
       "      <td>12</td>\n",
       "      <td>Dec</td>\n",
       "      <td>51.69</td>\n",
       "      <td>100</td>\n",
       "      <td>2022</td>\n",
       "      <td>Raw milk</td>\n",
       "    </tr>\n",
       "    <tr>\n",
       "      <th>4</th>\n",
       "      <td>DK</td>\n",
       "      <td>7</td>\n",
       "      <td>01/12/2022</td>\n",
       "      <td>31/12/2022</td>\n",
       "      <td>12</td>\n",
       "      <td>Dec</td>\n",
       "      <td>61.45</td>\n",
       "      <td>100</td>\n",
       "      <td>2022</td>\n",
       "      <td>Raw milk</td>\n",
       "    </tr>\n",
       "    <tr>\n",
       "      <th>...</th>\n",
       "      <td>...</td>\n",
       "      <td>...</td>\n",
       "      <td>...</td>\n",
       "      <td>...</td>\n",
       "      <td>...</td>\n",
       "      <td>...</td>\n",
       "      <td>...</td>\n",
       "      <td>...</td>\n",
       "      <td>...</td>\n",
       "      <td>...</td>\n",
       "    </tr>\n",
       "    <tr>\n",
       "      <th>6786</th>\n",
       "      <td>EU+UK</td>\n",
       "      <td>10</td>\n",
       "      <td>01/03/1977</td>\n",
       "      <td>31/03/1977</td>\n",
       "      <td>3</td>\n",
       "      <td>Mar</td>\n",
       "      <td>18.08</td>\n",
       "      <td>100</td>\n",
       "      <td>1977</td>\n",
       "      <td>Raw milk</td>\n",
       "    </tr>\n",
       "    <tr>\n",
       "      <th>6787</th>\n",
       "      <td>EU-UK</td>\n",
       "      <td>9</td>\n",
       "      <td>01/02/1977</td>\n",
       "      <td>28/02/1977</td>\n",
       "      <td>2</td>\n",
       "      <td>Feb</td>\n",
       "      <td>19.05</td>\n",
       "      <td>100</td>\n",
       "      <td>1977</td>\n",
       "      <td>Raw milk</td>\n",
       "    </tr>\n",
       "    <tr>\n",
       "      <th>6788</th>\n",
       "      <td>EU+UK</td>\n",
       "      <td>10</td>\n",
       "      <td>01/02/1977</td>\n",
       "      <td>28/02/1977</td>\n",
       "      <td>2</td>\n",
       "      <td>Feb</td>\n",
       "      <td>18.36</td>\n",
       "      <td>100</td>\n",
       "      <td>1977</td>\n",
       "      <td>Raw milk</td>\n",
       "    </tr>\n",
       "    <tr>\n",
       "      <th>6789</th>\n",
       "      <td>EU-UK</td>\n",
       "      <td>9</td>\n",
       "      <td>01/01/1977</td>\n",
       "      <td>31/01/1977</td>\n",
       "      <td>1</td>\n",
       "      <td>Jan</td>\n",
       "      <td>19.25</td>\n",
       "      <td>100</td>\n",
       "      <td>1977</td>\n",
       "      <td>Raw milk</td>\n",
       "    </tr>\n",
       "    <tr>\n",
       "      <th>6790</th>\n",
       "      <td>EU+UK</td>\n",
       "      <td>10</td>\n",
       "      <td>01/01/1977</td>\n",
       "      <td>31/01/1977</td>\n",
       "      <td>1</td>\n",
       "      <td>Jan</td>\n",
       "      <td>18.50</td>\n",
       "      <td>100</td>\n",
       "      <td>1977</td>\n",
       "      <td>Raw milk</td>\n",
       "    </tr>\n",
       "  </tbody>\n",
       "</table>\n",
       "<p>6791 rows × 10 columns</p>\n",
       "</div>"
      ],
      "text/plain": [
       "     memberStateCode  memberStateName   beginDate     endDate  month  \\\n",
       "0                 AT                1  01/12/2022  31/12/2022     12   \n",
       "1                 BG                3  01/12/2022  31/12/2022     12   \n",
       "2                 CY                5  01/12/2022  31/12/2022     12   \n",
       "3                 CZ                6  01/12/2022  31/12/2022     12   \n",
       "4                 DK                7  01/12/2022  31/12/2022     12   \n",
       "...              ...              ...         ...         ...    ...   \n",
       "6786           EU+UK               10  01/03/1977  31/03/1977      3   \n",
       "6787           EU-UK                9  01/02/1977  28/02/1977      2   \n",
       "6788           EU+UK               10  01/02/1977  28/02/1977      2   \n",
       "6789           EU-UK                9  01/01/1977  31/01/1977      1   \n",
       "6790           EU+UK               10  01/01/1977  31/01/1977      1   \n",
       "\n",
       "     monthName  price  unit  year   product  \n",
       "0          Dec  59.20   100  2022  Raw milk  \n",
       "1          Dec  51.51   100  2022  Raw milk  \n",
       "2          Dec  64.42   100  2022  Raw milk  \n",
       "3          Dec  51.69   100  2022  Raw milk  \n",
       "4          Dec  61.45   100  2022  Raw milk  \n",
       "...        ...    ...   ...   ...       ...  \n",
       "6786       Mar  18.08   100  1977  Raw milk  \n",
       "6787       Feb  19.05   100  1977  Raw milk  \n",
       "6788       Feb  18.36   100  1977  Raw milk  \n",
       "6789       Jan  19.25   100  1977  Raw milk  \n",
       "6790       Jan  18.50   100  1977  Raw milk  \n",
       "\n",
       "[6791 rows x 10 columns]"
      ]
     },
     "execution_count": 11,
     "metadata": {},
     "output_type": "execute_result"
    }
   ],
   "source": [
    "# add a new column based on the code in 'agriprod' column\n",
    "\n",
    "df_milk_prices['memberStateName'] = df_milk_prices['memberStateName'].map(values_to_be_replaced)\n",
    "\n",
    "df_milk_prices"
   ]
  },
  {
   "cell_type": "code",
   "execution_count": 12,
   "id": "6f10942c",
   "metadata": {},
   "outputs": [
    {
     "data": {
      "text/plain": [
       "Text(0.5, 1.0, 'Histogram - data of milk prices against year')"
      ]
     },
     "execution_count": 12,
     "metadata": {},
     "output_type": "execute_result"
    },
    {
     "data": {
      "image/png": "[encoded data removed]",
      "text/plain": [
       "<Figure size 640x480 with 1 Axes>"
      ]
     },
     "metadata": {},
     "output_type": "display_data"
    }
   ],
   "source": [
    "# Print a graphical view of the milk prices data frame \n",
    "\n",
    "sns.histplot(data=df_milk_prices, x=\"year\")\n",
    "plt.title(\"Histogram - data of milk prices against year\")"
   ]
  },
  {
   "cell_type": "markdown",
   "id": "11a4f452",
   "metadata": {},
   "source": [
    "#### Creat a new dataframe only displaying data from 2012 onwards\n"
   ]
  },
  {
   "cell_type": "code",
   "execution_count": 13,
   "id": "864ba8b1",
   "metadata": {},
   "outputs": [
    {
     "data": {
      "text/html": [
       "<div>\n",
       "<style scoped>\n",
       "    .dataframe tbody tr th:only-of-type {\n",
       "        vertical-align: middle;\n",
       "    }\n",
       "\n",
       "    .dataframe tbody tr th {\n",
       "        vertical-align: top;\n",
       "    }\n",
       "\n",
       "    .dataframe thead th {\n",
       "        text-align: right;\n",
       "    }\n",
       "</style>\n",
       "<table border=\"1\" class=\"dataframe\">\n",
       "  <thead>\n",
       "    <tr style=\"text-align: right;\">\n",
       "      <th></th>\n",
       "      <th>memberStateCode</th>\n",
       "      <th>memberStateName</th>\n",
       "      <th>beginDate</th>\n",
       "      <th>endDate</th>\n",
       "      <th>month</th>\n",
       "      <th>monthName</th>\n",
       "      <th>price</th>\n",
       "      <th>unit</th>\n",
       "      <th>year</th>\n",
       "      <th>product</th>\n",
       "    </tr>\n",
       "  </thead>\n",
       "  <tbody>\n",
       "    <tr>\n",
       "      <th>0</th>\n",
       "      <td>AT</td>\n",
       "      <td>1</td>\n",
       "      <td>01/12/2022</td>\n",
       "      <td>31/12/2022</td>\n",
       "      <td>12</td>\n",
       "      <td>Dec</td>\n",
       "      <td>59.20</td>\n",
       "      <td>100</td>\n",
       "      <td>2022</td>\n",
       "      <td>Raw milk</td>\n",
       "    </tr>\n",
       "    <tr>\n",
       "      <th>1</th>\n",
       "      <td>BG</td>\n",
       "      <td>3</td>\n",
       "      <td>01/12/2022</td>\n",
       "      <td>31/12/2022</td>\n",
       "      <td>12</td>\n",
       "      <td>Dec</td>\n",
       "      <td>51.51</td>\n",
       "      <td>100</td>\n",
       "      <td>2022</td>\n",
       "      <td>Raw milk</td>\n",
       "    </tr>\n",
       "    <tr>\n",
       "      <th>2</th>\n",
       "      <td>CY</td>\n",
       "      <td>5</td>\n",
       "      <td>01/12/2022</td>\n",
       "      <td>31/12/2022</td>\n",
       "      <td>12</td>\n",
       "      <td>Dec</td>\n",
       "      <td>64.42</td>\n",
       "      <td>100</td>\n",
       "      <td>2022</td>\n",
       "      <td>Raw milk</td>\n",
       "    </tr>\n",
       "    <tr>\n",
       "      <th>3</th>\n",
       "      <td>CZ</td>\n",
       "      <td>6</td>\n",
       "      <td>01/12/2022</td>\n",
       "      <td>31/12/2022</td>\n",
       "      <td>12</td>\n",
       "      <td>Dec</td>\n",
       "      <td>51.69</td>\n",
       "      <td>100</td>\n",
       "      <td>2022</td>\n",
       "      <td>Raw milk</td>\n",
       "    </tr>\n",
       "    <tr>\n",
       "      <th>4</th>\n",
       "      <td>DK</td>\n",
       "      <td>7</td>\n",
       "      <td>01/12/2022</td>\n",
       "      <td>31/12/2022</td>\n",
       "      <td>12</td>\n",
       "      <td>Dec</td>\n",
       "      <td>61.45</td>\n",
       "      <td>100</td>\n",
       "      <td>2022</td>\n",
       "      <td>Raw milk</td>\n",
       "    </tr>\n",
       "  </tbody>\n",
       "</table>\n",
       "</div>"
      ],
      "text/plain": [
       "  memberStateCode  memberStateName   beginDate     endDate  month monthName  \\\n",
       "0              AT                1  01/12/2022  31/12/2022     12       Dec   \n",
       "1              BG                3  01/12/2022  31/12/2022     12       Dec   \n",
       "2              CY                5  01/12/2022  31/12/2022     12       Dec   \n",
       "3              CZ                6  01/12/2022  31/12/2022     12       Dec   \n",
       "4              DK                7  01/12/2022  31/12/2022     12       Dec   \n",
       "\n",
       "   price  unit  year   product  \n",
       "0  59.20   100  2022  Raw milk  \n",
       "1  51.51   100  2022  Raw milk  \n",
       "2  64.42   100  2022  Raw milk  \n",
       "3  51.69   100  2022  Raw milk  \n",
       "4  61.45   100  2022  Raw milk  "
      ]
     },
     "execution_count": 13,
     "metadata": {},
     "output_type": "execute_result"
    }
   ],
   "source": [
    "# filter on the data so only data after and including 2012 is used\n",
    "# this mirrors the dataframe for EDA / Stats and Machine Learning\n",
    "\n",
    "yr_2012_plus = df_milk_prices[df_milk_prices['year'] >= 2012]\n",
    "\n",
    "yr_2012_plus.head()"
   ]
  },
  {
   "cell_type": "code",
   "execution_count": 35,
   "id": "1c89b348",
   "metadata": {},
   "outputs": [],
   "source": [
    "# remove colunmns\n",
    "\n",
    "#yr_2012_plus.drop(['monthName','memberStateCode', 'beginDate', 'endDate', 'monthName', 'product'], axis = 1, inplace=True)\n",
    "\n",
    "#yr_2012_plus.info()"
   ]
  },
  {
   "cell_type": "code",
   "execution_count": 34,
   "id": "1ef3987b",
   "metadata": {},
   "outputs": [],
   "source": [
    "# check for na's and drop accordingly\n",
    "\n",
    "yr_2012_plus = yr_2012_plus.dropna()"
   ]
  },
  {
   "cell_type": "code",
   "execution_count": 16,
   "id": "f99ed8af",
   "metadata": {},
   "outputs": [],
   "source": [
    "# ensure a the datatypes are appropriate\n",
    "\n",
    "yr_2012_plus['price'] = pd.to_numeric(yr_2012_plus['price'], errors = 'coerce')"
   ]
  },
  {
   "cell_type": "code",
   "execution_count": 17,
   "id": "1738659b",
   "metadata": {},
   "outputs": [
    {
     "name": "stdout",
     "output_type": "stream",
     "text": [
      "<class 'pandas.core.frame.DataFrame'>\n",
      "Int64Index: 3812 entries, 0 to 3811\n",
      "Data columns (total 5 columns):\n",
      " #   Column           Non-Null Count  Dtype  \n",
      "---  ------           --------------  -----  \n",
      " 0   memberStateName  3812 non-null   int64  \n",
      " 1   month            3812 non-null   int64  \n",
      " 2   price            3812 non-null   float64\n",
      " 3   unit             3812 non-null   int64  \n",
      " 4   year             3812 non-null   int64  \n",
      "dtypes: float64(1), int64(4)\n",
      "memory usage: 178.7 KB\n"
     ]
    }
   ],
   "source": [
    "yr_2012_plus.info()"
   ]
  },
  {
   "cell_type": "code",
   "execution_count": null,
   "id": "2b61ca2f",
   "metadata": {},
   "outputs": [],
   "source": []
  },
  {
   "cell_type": "code",
   "execution_count": null,
   "id": "fab7207c",
   "metadata": {},
   "outputs": [],
   "source": []
  },
  {
   "cell_type": "code",
   "execution_count": null,
   "id": "0413bc58",
   "metadata": {},
   "outputs": [],
   "source": []
  },
  {
   "cell_type": "code",
   "execution_count": null,
   "id": "9149dee5",
   "metadata": {},
   "outputs": [],
   "source": []
  },
  {
   "cell_type": "code",
   "execution_count": null,
   "id": "3dfd6039",
   "metadata": {},
   "outputs": [],
   "source": []
  },
  {
   "cell_type": "code",
   "execution_count": 18,
   "id": "670fc255",
   "metadata": {},
   "outputs": [
    {
     "data": {
      "text/plain": [
       "Text(0.5, 1.0, 'Plot of milk prices from 2012 by year')"
      ]
     },
     "execution_count": 18,
     "metadata": {},
     "output_type": "execute_result"
    },
    {
     "data": {
      "image/png": "[encoded data removed]",
      "text/plain": [
       "<Figure size 640x480 with 1 Axes>"
      ]
     },
     "metadata": {},
     "output_type": "display_data"
    }
   ],
   "source": [
    "# view a graphical represenation of the price \n",
    "\n",
    "sns.boxplot(data=yr_2012_plus, x='year')\n",
    "plt.title(\"Plot of milk prices from 2012 by year\")"
   ]
  },
  {
   "cell_type": "markdown",
   "id": "015ce323",
   "metadata": {},
   "source": [
    "## Task 2 - Machine Learning\n"
   ]
  },
  {
   "cell_type": "markdown",
   "id": "d6f50e66",
   "metadata": {},
   "source": [
    "## GridsearchCV and Hyperparamaters\n",
    "\n",
    "#### REFERENCE - \n",
    "1. https://realpython.com/learning-paths/machine-learning-python/\n",
    "2. https://www.analyticsvidhya.com/blog/2021/06/tune-hyperparameters-with-gridsearchcv/\n",
    "3. https://scikit-learn.org/stable/modules/generated/sklearn.model_selection.GridSearchCV.html#examples-using-sklearn-model-selection-gridsearchcv\n",
    "4. https://realpython.com/build-recommendation-engine-collaborative-filtering/\n",
    "5. https://medium.com/@Ambarish_224/hyperparameter-tuning-a-step-by-step-guide-for-machine-learning-practitioners-a0734f8a0869"
   ]
  },
  {
   "cell_type": "code",
   "execution_count": 150,
   "id": "47f27bf2",
   "metadata": {},
   "outputs": [],
   "source": [
    "# anamoly detection\n",
    "from imblearn.over_sampling import SMOTE \n",
    "\n",
    "\n",
    "# sklearn libraries to complete the analysis\n",
    "import sklearn as sk\n",
    "import sklearn.linear_model as lm\n",
    "import sklearn.neighbors as nei\n",
    "import sklearn.model_selection as mod\n",
    "\n",
    "# models and classifiers for Supervised Learning\n",
    "from imblearn.under_sampling import NearMiss\n",
    "from sklearn.linear_model import LogisticRegression\n",
    "from sklearn.ensemble import RandomForestClassifier\n",
    "from sklearn.svm import OneClassSVM\n",
    "from sklearn.naive_bayes import GaussianNB\n",
    "from sklearn.tree import DecisionTreeClassifier\n",
    "\n",
    "# import libariries for Hyperparam tuning and Grid Search CV\n",
    "from sklearn.model_selection import train_test_split\n",
    "from sklearn.model_selection import GridSearchCV\n",
    "\n",
    "\n",
    "# libraries for the confusion matrix\n",
    "#from sklearn.metrics import confusion_matrix, ConfusionMatrixDisplay\n",
    "#from sklearn.metrics import accuracy_score, confusion_matrix, recall_score\n"
   ]
  },
  {
   "cell_type": "code",
   "execution_count": null,
   "id": "121f7360",
   "metadata": {},
   "outputs": [],
   "source": []
  },
  {
   "cell_type": "markdown",
   "id": "c50d95ff",
   "metadata": {},
   "source": [
    "### Model 1 - Random Forest Classifier"
   ]
  },
  {
   "cell_type": "code",
   "execution_count": 67,
   "id": "13f2b367",
   "metadata": {
    "scrolled": true
   },
   "outputs": [],
   "source": [
    "# Step 2 - create the testing and training models to complete supervised learning \n",
    "\n",
    "# assign values for x and y from the start to the end of the df\n",
    "X = yr_2012_plus.iloc[:, :-1].values\n",
    "y = yr_2012_plus.iloc[:, -1].values\n",
    "\n",
    "# spliting the dataframe into Test and Train data for Algorithm 1\n",
    "X_Train, X_Test, y_Train, y_Test = train_test_split(X, y, test_size = 0.2, random_state = 10)\n",
    "\n",
    "# spliting the dataframe into Test and Train data for Algorigthm 2\n",
    "X_Train2, X_Test2, y_Train2, y_Test2 = train_test_split(X, y, test_size = 0.2, random_state = 10)\n",
    "\n",
    "# spliting the dataframe into Test and Train data for Algortihm 3\n",
    "X_Train3, X_Test3, y_Train3, y_Test3 = train_test_split(X, y, test_size = 0.2, random_state = 10)\n",
    "\n",
    "# spliting the dataframe into Test and Train data for Algortihm 4\n",
    "X_Train4, X_Test4, y_Train4, y_Test4 = train_test_split(X, y, test_size = 0.2, random_state = 10)"
   ]
  },
  {
   "cell_type": "code",
   "execution_count": 73,
   "id": "d9a4f48e",
   "metadata": {},
   "outputs": [],
   "source": [
    "# Step 1 - select a model to run the paramater tuning and GridsearchCV on\n",
    "\n",
    "rfc_clf = RandomForestClassifier()"
   ]
  },
  {
   "cell_type": "code",
   "execution_count": 101,
   "id": "38e4cb12",
   "metadata": {},
   "outputs": [],
   "source": [
    "# Step 3 - define the Hyperparameters for use with Gridsearch CV\n",
    "\n",
    "# specify range of hyperparameters to tune as part of the exercise\n",
    "\n",
    "param_grid = [{\n",
    "    'max_depth': list(range(10, 15)),\n",
    "    #'max_features': list(range(0,14))\n",
    "    'max_features': list(range(0,10))\n",
    "    }]\n"
   ]
  },
  {
   "cell_type": "code",
   "execution_count": 102,
   "id": "9718f115",
   "metadata": {},
   "outputs": [
    {
     "name": "stdout",
     "output_type": "stream",
     "text": [
      "[{'max_depth': [10, 11, 12, 13, 14], 'max_features': [0, 1, 2, 3, 4, 5, 6, 7, 8, 9]}]\n"
     ]
    }
   ],
   "source": [
    "#Step 4 - Complete the GridsearchCV\n",
    "\n",
    "# Create a grid search object\n",
    "grid_search = GridSearchCV(rfc_clf, param_grid, cv=5)\n",
    "\n",
    "# Fit the grid search to the data including the classifer for Random Forest Classifer\n",
    "grid_search.fit(X_Train, y_Train)\n",
    "\n",
    "# Print the best hyperparameters\n",
    "print(grid_search.param_grid)"
   ]
  },
  {
   "cell_type": "code",
   "execution_count": 104,
   "id": "d8c132a9",
   "metadata": {},
   "outputs": [],
   "source": [
    "# Predicting the result based on the test data\n",
    "\n",
    "y_pred = grid_search.predict(X_Test)\n",
    "\n",
    "#print(y_pred)"
   ]
  },
  {
   "cell_type": "code",
   "execution_count": 105,
   "id": "89a82acd",
   "metadata": {},
   "outputs": [
    {
     "name": "stdout",
     "output_type": "stream",
     "text": [
      "[2021 2018 2017 ... 2021 2013 2019]\n"
     ]
    }
   ],
   "source": [
    "y_pred_train = grid_search.predict(X_Train)\n",
    "\n",
    "#print(y_pred_train)"
   ]
  },
  {
   "cell_type": "markdown",
   "id": "bfbe598d",
   "metadata": {},
   "source": [
    "#### Confusion Matrix results\n",
    "\n",
    "Help to check the accuracy of the classificaiton"
   ]
  },
  {
   "cell_type": "code",
   "execution_count": 106,
   "id": "58097cc6",
   "metadata": {},
   "outputs": [],
   "source": [
    "cm_Train = confusion_matrix(y_pred_train, y_Train)\n",
    "\n",
    "cm_Test = confusion_matrix(y_pred, y_Test)"
   ]
  },
  {
   "cell_type": "code",
   "execution_count": 108,
   "id": "84289a52",
   "metadata": {},
   "outputs": [
    {
     "name": "stdout",
     "output_type": "stream",
     "text": [
      "Accuracy for test set for Random Forest Classifier = 6.29%\n"
     ]
    }
   ],
   "source": [
    "# print the Accuracy value of for test data \n",
    "\n",
    "\n",
    "rfclass_test = ((cm_Test[0][0] + cm_Test[1][1])/len(y_Test))\n",
    "\n",
    "print('Accuracy for test set for Random Forest Classifier = {:.2%}'.format(rfclass_test))"
   ]
  },
  {
   "cell_type": "code",
   "execution_count": 109,
   "id": "34d7d168",
   "metadata": {},
   "outputs": [
    {
     "name": "stdout",
     "output_type": "stream",
     "text": [
      "Accuracy for training set for Logistic Regression = 17.78%\n"
     ]
    }
   ],
   "source": [
    "# print the Accuracy value of for training data \n",
    "\n",
    "rfclass_train = (cm_Train[0][0] + cm_Train[1][1])/len(y_Train)\n",
    "\n",
    "print('Accuracy for training set for Logistic Regression = {:.2%}'.format(rfclass_train))"
   ]
  },
  {
   "cell_type": "markdown",
   "id": "4915c1e5",
   "metadata": {},
   "source": [
    "### Model 2 - Logistic Regression\n",
    "\n",
    "Model is trained without GridSearch CV"
   ]
  },
  {
   "cell_type": "code",
   "execution_count": 21,
   "id": "2b8c82cc",
   "metadata": {},
   "outputs": [],
   "source": [
    "# creating a new classifer using logisticegression\n",
    "\n",
    "logreg_clf = LogisticRegression()"
   ]
  },
  {
   "cell_type": "code",
   "execution_count": 22,
   "id": "05187238",
   "metadata": {},
   "outputs": [
    {
     "data": {
      "text/html": [
       "<style>#sk-container-id-1 {color: black;background-color: white;}#sk-container-id-1 pre{padding: 0;}#sk-container-id-1 div.sk-toggleable {background-color: white;}#sk-container-id-1 label.sk-toggleable__label {cursor: pointer;display: block;width: 100%;margin-bottom: 0;padding: 0.3em;box-sizing: border-box;text-align: center;}#sk-container-id-1 label.sk-toggleable__label-arrow:before {content: \"▸\";float: left;margin-right: 0.25em;color: #696969;}#sk-container-id-1 label.sk-toggleable__label-arrow:hover:before {color: black;}#sk-container-id-1 div.sk-estimator:hover label.sk-toggleable__label-arrow:before {color: black;}#sk-container-id-1 div.sk-toggleable__content {max-height: 0;max-width: 0;overflow: hidden;text-align: left;background-color: #f0f8ff;}#sk-container-id-1 div.sk-toggleable__content pre {margin: 0.2em;color: black;border-radius: 0.25em;background-color: #f0f8ff;}#sk-container-id-1 input.sk-toggleable__control:checked~div.sk-toggleable__content {max-height: 200px;max-width: 100%;overflow: auto;}#sk-container-id-1 input.sk-toggleable__control:checked~label.sk-toggleable__label-arrow:before {content: \"▾\";}#sk-container-id-1 div.sk-estimator input.sk-toggleable__control:checked~label.sk-toggleable__label {background-color: #d4ebff;}#sk-container-id-1 div.sk-label input.sk-toggleable__control:checked~label.sk-toggleable__label {background-color: #d4ebff;}#sk-container-id-1 input.sk-hidden--visually {border: 0;clip: rect(1px 1px 1px 1px);clip: rect(1px, 1px, 1px, 1px);height: 1px;margin: -1px;overflow: hidden;padding: 0;position: absolute;width: 1px;}#sk-container-id-1 div.sk-estimator {font-family: monospace;background-color: #f0f8ff;border: 1px dotted black;border-radius: 0.25em;box-sizing: border-box;margin-bottom: 0.5em;}#sk-container-id-1 div.sk-estimator:hover {background-color: #d4ebff;}#sk-container-id-1 div.sk-parallel-item::after {content: \"\";width: 100%;border-bottom: 1px solid gray;flex-grow: 1;}#sk-container-id-1 div.sk-label:hover label.sk-toggleable__label {background-color: #d4ebff;}#sk-container-id-1 div.sk-serial::before {content: \"\";position: absolute;border-left: 1px solid gray;box-sizing: border-box;top: 0;bottom: 0;left: 50%;z-index: 0;}#sk-container-id-1 div.sk-serial {display: flex;flex-direction: column;align-items: center;background-color: white;padding-right: 0.2em;padding-left: 0.2em;position: relative;}#sk-container-id-1 div.sk-item {position: relative;z-index: 1;}#sk-container-id-1 div.sk-parallel {display: flex;align-items: stretch;justify-content: center;background-color: white;position: relative;}#sk-container-id-1 div.sk-item::before, #sk-container-id-1 div.sk-parallel-item::before {content: \"\";position: absolute;border-left: 1px solid gray;box-sizing: border-box;top: 0;bottom: 0;left: 50%;z-index: -1;}#sk-container-id-1 div.sk-parallel-item {display: flex;flex-direction: column;z-index: 1;position: relative;background-color: white;}#sk-container-id-1 div.sk-parallel-item:first-child::after {align-self: flex-end;width: 50%;}#sk-container-id-1 div.sk-parallel-item:last-child::after {align-self: flex-start;width: 50%;}#sk-container-id-1 div.sk-parallel-item:only-child::after {width: 0;}#sk-container-id-1 div.sk-dashed-wrapped {border: 1px dashed gray;margin: 0 0.4em 0.5em 0.4em;box-sizing: border-box;padding-bottom: 0.4em;background-color: white;}#sk-container-id-1 div.sk-label label {font-family: monospace;font-weight: bold;display: inline-block;line-height: 1.2em;}#sk-container-id-1 div.sk-label-container {text-align: center;}#sk-container-id-1 div.sk-container {/* jupyter's `normalize.less` sets `[hidden] { display: none; }` but bootstrap.min.css set `[hidden] { display: none !important; }` so we also need the `!important` here to be able to override the default hidden behavior on the sphinx rendered scikit-learn.org. See: https://github.com/scikit-learn/scikit-learn/issues/21755 */display: inline-block !important;position: relative;}#sk-container-id-1 div.sk-text-repr-fallback {display: none;}</style><div id=\"sk-container-id-1\" class=\"sk-top-container\"><div class=\"sk-text-repr-fallback\"><pre>LogisticRegression()</pre><b>In a Jupyter environment, please rerun this cell to show the HTML representation or trust the notebook. <br />On GitHub, the HTML representation is unable to render, please try loading this page with nbviewer.org.</b></div><div class=\"sk-container\" hidden><div class=\"sk-item\"><div class=\"sk-estimator sk-toggleable\"><input class=\"sk-toggleable__control sk-hidden--visually\" id=\"sk-estimator-id-1\" type=\"checkbox\" checked><label for=\"sk-estimator-id-1\" class=\"sk-toggleable__label sk-toggleable__label-arrow\">LogisticRegression</label><div class=\"sk-toggleable__content\"><pre>LogisticRegression()</pre></div></div></div></div></div>"
      ],
      "text/plain": [
       "LogisticRegression()"
      ]
     },
     "execution_count": 22,
     "metadata": {},
     "output_type": "execute_result"
    }
   ],
   "source": [
    "# training the classifier\n",
    "# X_Train and y_Train values are created in the above cells\n",
    "\n",
    "logreg_clf.fit(X_Train2, y_Train2)"
   ]
  },
  {
   "cell_type": "code",
   "execution_count": 23,
   "id": "b925044b",
   "metadata": {},
   "outputs": [],
   "source": [
    "# Predicting the result based on the test data\n",
    "\n",
    "y_pred = logreg_clf.predict(X_Test)"
   ]
  },
  {
   "cell_type": "code",
   "execution_count": 24,
   "id": "49398ed7",
   "metadata": {},
   "outputs": [],
   "source": [
    "# CONFUSION MATRIX ......to check the accuracy of the classification\n",
    "\n",
    "y_pred_train2 = logreg_clf.predict(X_Train)\n",
    "\n",
    "#print(y_pred_train)"
   ]
  },
  {
   "cell_type": "code",
   "execution_count": 27,
   "id": "679fff76",
   "metadata": {},
   "outputs": [
    {
     "name": "stdout",
     "output_type": "stream",
     "text": [
      "Accuracy for training set for Logistic Regression = 0.89%\n"
     ]
    }
   ],
   "source": [
    "# print the Accuracy value of for test data \n",
    "\n",
    "logR_train = (cm_Train[0][0] + cm_Train[1][1])/len(y_Train)\n",
    "\n",
    "print('Accuracy for training set for Logistic Regression = {:.2%}'.format(logR_train))"
   ]
  },
  {
   "cell_type": "code",
   "execution_count": 28,
   "id": "70c94b0b",
   "metadata": {},
   "outputs": [
    {
     "name": "stdout",
     "output_type": "stream",
     "text": [
      "Accuracy for test set for Logistic Regression = 0.26%\n"
     ]
    }
   ],
   "source": [
    "# print the Accuracy value of for test data \n",
    "\n",
    "logR_test = ((cm_Test[0][0] + cm_Test[1][1])/len(y_Test))\n",
    "\n",
    "print('Accuracy for test set for Logistic Regression = {:.2%}'.format(logR_test))"
   ]
  },
  {
   "cell_type": "markdown",
   "id": "692ba81f",
   "metadata": {},
   "source": [
    "### Model 3 - One Class Support Vector Machine (SVM)\n",
    "\n",
    "Model has one class classification applied to it.  SVM is a good model to use when outliers or anomalies are detected in the dataset\n",
    "\n",
    "#### REFERENCE : \n",
    "1. https://www.analyticsvidhya.com/blog/2022/06/one-class-classification-using-support-vector-machines/\n",
    "2. https://scikit-learn.org/stable/auto_examples/svm/plot_oneclass.html"
   ]
  },
  {
   "cell_type": "code",
   "execution_count": 151,
   "id": "0a87b588",
   "metadata": {},
   "outputs": [],
   "source": [
    "# create outlier information\n",
    "X_outliers = np.random.uniform(low=-4, high=4, size=(20, 2))"
   ]
  },
  {
   "cell_type": "code",
   "execution_count": 152,
   "id": "df28fa05",
   "metadata": {},
   "outputs": [],
   "source": [
    "# create the classifier\n",
    "one_svm_clf= OneClassSVM(nu=0.1, kernel=\"rbf\", gamma=0.1)"
   ]
  },
  {
   "cell_type": "code",
   "execution_count": 153,
   "id": "193acbe3",
   "metadata": {},
   "outputs": [
    {
     "data": {
      "text/html": [
       "<style>#sk-container-id-2 {color: black;background-color: white;}#sk-container-id-2 pre{padding: 0;}#sk-container-id-2 div.sk-toggleable {background-color: white;}#sk-container-id-2 label.sk-toggleable__label {cursor: pointer;display: block;width: 100%;margin-bottom: 0;padding: 0.3em;box-sizing: border-box;text-align: center;}#sk-container-id-2 label.sk-toggleable__label-arrow:before {content: \"▸\";float: left;margin-right: 0.25em;color: #696969;}#sk-container-id-2 label.sk-toggleable__label-arrow:hover:before {color: black;}#sk-container-id-2 div.sk-estimator:hover label.sk-toggleable__label-arrow:before {color: black;}#sk-container-id-2 div.sk-toggleable__content {max-height: 0;max-width: 0;overflow: hidden;text-align: left;background-color: #f0f8ff;}#sk-container-id-2 div.sk-toggleable__content pre {margin: 0.2em;color: black;border-radius: 0.25em;background-color: #f0f8ff;}#sk-container-id-2 input.sk-toggleable__control:checked~div.sk-toggleable__content {max-height: 200px;max-width: 100%;overflow: auto;}#sk-container-id-2 input.sk-toggleable__control:checked~label.sk-toggleable__label-arrow:before {content: \"▾\";}#sk-container-id-2 div.sk-estimator input.sk-toggleable__control:checked~label.sk-toggleable__label {background-color: #d4ebff;}#sk-container-id-2 div.sk-label input.sk-toggleable__control:checked~label.sk-toggleable__label {background-color: #d4ebff;}#sk-container-id-2 input.sk-hidden--visually {border: 0;clip: rect(1px 1px 1px 1px);clip: rect(1px, 1px, 1px, 1px);height: 1px;margin: -1px;overflow: hidden;padding: 0;position: absolute;width: 1px;}#sk-container-id-2 div.sk-estimator {font-family: monospace;background-color: #f0f8ff;border: 1px dotted black;border-radius: 0.25em;box-sizing: border-box;margin-bottom: 0.5em;}#sk-container-id-2 div.sk-estimator:hover {background-color: #d4ebff;}#sk-container-id-2 div.sk-parallel-item::after {content: \"\";width: 100%;border-bottom: 1px solid gray;flex-grow: 1;}#sk-container-id-2 div.sk-label:hover label.sk-toggleable__label {background-color: #d4ebff;}#sk-container-id-2 div.sk-serial::before {content: \"\";position: absolute;border-left: 1px solid gray;box-sizing: border-box;top: 0;bottom: 0;left: 50%;z-index: 0;}#sk-container-id-2 div.sk-serial {display: flex;flex-direction: column;align-items: center;background-color: white;padding-right: 0.2em;padding-left: 0.2em;position: relative;}#sk-container-id-2 div.sk-item {position: relative;z-index: 1;}#sk-container-id-2 div.sk-parallel {display: flex;align-items: stretch;justify-content: center;background-color: white;position: relative;}#sk-container-id-2 div.sk-item::before, #sk-container-id-2 div.sk-parallel-item::before {content: \"\";position: absolute;border-left: 1px solid gray;box-sizing: border-box;top: 0;bottom: 0;left: 50%;z-index: -1;}#sk-container-id-2 div.sk-parallel-item {display: flex;flex-direction: column;z-index: 1;position: relative;background-color: white;}#sk-container-id-2 div.sk-parallel-item:first-child::after {align-self: flex-end;width: 50%;}#sk-container-id-2 div.sk-parallel-item:last-child::after {align-self: flex-start;width: 50%;}#sk-container-id-2 div.sk-parallel-item:only-child::after {width: 0;}#sk-container-id-2 div.sk-dashed-wrapped {border: 1px dashed gray;margin: 0 0.4em 0.5em 0.4em;box-sizing: border-box;padding-bottom: 0.4em;background-color: white;}#sk-container-id-2 div.sk-label label {font-family: monospace;font-weight: bold;display: inline-block;line-height: 1.2em;}#sk-container-id-2 div.sk-label-container {text-align: center;}#sk-container-id-2 div.sk-container {/* jupyter's `normalize.less` sets `[hidden] { display: none; }` but bootstrap.min.css set `[hidden] { display: none !important; }` so we also need the `!important` here to be able to override the default hidden behavior on the sphinx rendered scikit-learn.org. See: https://github.com/scikit-learn/scikit-learn/issues/21755 */display: inline-block !important;position: relative;}#sk-container-id-2 div.sk-text-repr-fallback {display: none;}</style><div id=\"sk-container-id-2\" class=\"sk-top-container\"><div class=\"sk-text-repr-fallback\"><pre>OneClassSVM(gamma=0.1, nu=0.1)</pre><b>In a Jupyter environment, please rerun this cell to show the HTML representation or trust the notebook. <br />On GitHub, the HTML representation is unable to render, please try loading this page with nbviewer.org.</b></div><div class=\"sk-container\" hidden><div class=\"sk-item\"><div class=\"sk-estimator sk-toggleable\"><input class=\"sk-toggleable__control sk-hidden--visually\" id=\"sk-estimator-id-2\" type=\"checkbox\" checked><label for=\"sk-estimator-id-2\" class=\"sk-toggleable__label sk-toggleable__label-arrow\">OneClassSVM</label><div class=\"sk-toggleable__content\"><pre>OneClassSVM(gamma=0.1, nu=0.1)</pre></div></div></div></div></div>"
      ],
      "text/plain": [
       "OneClassSVM(gamma=0.1, nu=0.1)"
      ]
     },
     "execution_count": 153,
     "metadata": {},
     "output_type": "execute_result"
    }
   ],
   "source": [
    "# X_Train and y_Train values are created in the above cells\n",
    "\n",
    "one_svm_clf.fit(X_Train3, y_Train3)"
   ]
  },
  {
   "cell_type": "code",
   "execution_count": 154,
   "id": "32130937",
   "metadata": {},
   "outputs": [],
   "source": [
    "# Predicting the result based on the test data\n",
    "\n",
    "y_pred3 = one_svm_clf.predict(X_Test)"
   ]
  },
  {
   "cell_type": "code",
   "execution_count": 155,
   "id": "10338de1",
   "metadata": {},
   "outputs": [],
   "source": [
    "# CONFUSION MATRIX ......to check the accuracy of the classification\n",
    "\n",
    "y_pred_train3 = one_svm_clf.predict(X_Train)\n",
    "\n",
    "#print(y_pred_train)"
   ]
  },
  {
   "cell_type": "code",
   "execution_count": 156,
   "id": "6d9a95af",
   "metadata": {},
   "outputs": [
    {
     "name": "stdout",
     "output_type": "stream",
     "text": [
      "Accuracy for training set for Logistic Regression = 17.78%\n"
     ]
    }
   ],
   "source": [
    "# print the Accuracy value of for test data \n",
    "\n",
    "one_svm_train = (cm_Train[0][0] + cm_Train[1][1])/len(y_Train)\n",
    "\n",
    "print('Accuracy for training set for Logistic Regression = {:.2%}'.format(one_svm_train))"
   ]
  },
  {
   "cell_type": "code",
   "execution_count": 157,
   "id": "4b095e2b",
   "metadata": {},
   "outputs": [
    {
     "name": "stdout",
     "output_type": "stream",
     "text": [
      "Accuracy for test set for Logistic Regression = 6.29%\n"
     ]
    }
   ],
   "source": [
    "# print the Accuracy value of for test data \n",
    "\n",
    "one_svm_test = ((cm_Test[0][0] + cm_Test[1][1])/len(y_Test))\n",
    "\n",
    "print('Accuracy for test set for Logistic Regression = {:.2%}'.format(one_svm_test))"
   ]
  },
  {
   "cell_type": "markdown",
   "id": "52fb5f48",
   "metadata": {},
   "source": [
    "### Model 4 - Naive Baynes (Gaussian)\n",
    "\n"
   ]
  },
  {
   "cell_type": "code",
   "execution_count": 162,
   "id": "acc31d08",
   "metadata": {},
   "outputs": [],
   "source": [
    "#create the Guassian Navie Bayes classifier\n",
    "\n",
    "gnbClf = GaussianNB()"
   ]
  },
  {
   "cell_type": "code",
   "execution_count": 163,
   "id": "75c0d40c",
   "metadata": {},
   "outputs": [
    {
     "data": {
      "text/html": [
       "<style>#sk-container-id-3 {color: black;background-color: white;}#sk-container-id-3 pre{padding: 0;}#sk-container-id-3 div.sk-toggleable {background-color: white;}#sk-container-id-3 label.sk-toggleable__label {cursor: pointer;display: block;width: 100%;margin-bottom: 0;padding: 0.3em;box-sizing: border-box;text-align: center;}#sk-container-id-3 label.sk-toggleable__label-arrow:before {content: \"▸\";float: left;margin-right: 0.25em;color: #696969;}#sk-container-id-3 label.sk-toggleable__label-arrow:hover:before {color: black;}#sk-container-id-3 div.sk-estimator:hover label.sk-toggleable__label-arrow:before {color: black;}#sk-container-id-3 div.sk-toggleable__content {max-height: 0;max-width: 0;overflow: hidden;text-align: left;background-color: #f0f8ff;}#sk-container-id-3 div.sk-toggleable__content pre {margin: 0.2em;color: black;border-radius: 0.25em;background-color: #f0f8ff;}#sk-container-id-3 input.sk-toggleable__control:checked~div.sk-toggleable__content {max-height: 200px;max-width: 100%;overflow: auto;}#sk-container-id-3 input.sk-toggleable__control:checked~label.sk-toggleable__label-arrow:before {content: \"▾\";}#sk-container-id-3 div.sk-estimator input.sk-toggleable__control:checked~label.sk-toggleable__label {background-color: #d4ebff;}#sk-container-id-3 div.sk-label input.sk-toggleable__control:checked~label.sk-toggleable__label {background-color: #d4ebff;}#sk-container-id-3 input.sk-hidden--visually {border: 0;clip: rect(1px 1px 1px 1px);clip: rect(1px, 1px, 1px, 1px);height: 1px;margin: -1px;overflow: hidden;padding: 0;position: absolute;width: 1px;}#sk-container-id-3 div.sk-estimator {font-family: monospace;background-color: #f0f8ff;border: 1px dotted black;border-radius: 0.25em;box-sizing: border-box;margin-bottom: 0.5em;}#sk-container-id-3 div.sk-estimator:hover {background-color: #d4ebff;}#sk-container-id-3 div.sk-parallel-item::after {content: \"\";width: 100%;border-bottom: 1px solid gray;flex-grow: 1;}#sk-container-id-3 div.sk-label:hover label.sk-toggleable__label {background-color: #d4ebff;}#sk-container-id-3 div.sk-serial::before {content: \"\";position: absolute;border-left: 1px solid gray;box-sizing: border-box;top: 0;bottom: 0;left: 50%;z-index: 0;}#sk-container-id-3 div.sk-serial {display: flex;flex-direction: column;align-items: center;background-color: white;padding-right: 0.2em;padding-left: 0.2em;position: relative;}#sk-container-id-3 div.sk-item {position: relative;z-index: 1;}#sk-container-id-3 div.sk-parallel {display: flex;align-items: stretch;justify-content: center;background-color: white;position: relative;}#sk-container-id-3 div.sk-item::before, #sk-container-id-3 div.sk-parallel-item::before {content: \"\";position: absolute;border-left: 1px solid gray;box-sizing: border-box;top: 0;bottom: 0;left: 50%;z-index: -1;}#sk-container-id-3 div.sk-parallel-item {display: flex;flex-direction: column;z-index: 1;position: relative;background-color: white;}#sk-container-id-3 div.sk-parallel-item:first-child::after {align-self: flex-end;width: 50%;}#sk-container-id-3 div.sk-parallel-item:last-child::after {align-self: flex-start;width: 50%;}#sk-container-id-3 div.sk-parallel-item:only-child::after {width: 0;}#sk-container-id-3 div.sk-dashed-wrapped {border: 1px dashed gray;margin: 0 0.4em 0.5em 0.4em;box-sizing: border-box;padding-bottom: 0.4em;background-color: white;}#sk-container-id-3 div.sk-label label {font-family: monospace;font-weight: bold;display: inline-block;line-height: 1.2em;}#sk-container-id-3 div.sk-label-container {text-align: center;}#sk-container-id-3 div.sk-container {/* jupyter's `normalize.less` sets `[hidden] { display: none; }` but bootstrap.min.css set `[hidden] { display: none !important; }` so we also need the `!important` here to be able to override the default hidden behavior on the sphinx rendered scikit-learn.org. See: https://github.com/scikit-learn/scikit-learn/issues/21755 */display: inline-block !important;position: relative;}#sk-container-id-3 div.sk-text-repr-fallback {display: none;}</style><div id=\"sk-container-id-3\" class=\"sk-top-container\"><div class=\"sk-text-repr-fallback\"><pre>GaussianNB()</pre><b>In a Jupyter environment, please rerun this cell to show the HTML representation or trust the notebook. <br />On GitHub, the HTML representation is unable to render, please try loading this page with nbviewer.org.</b></div><div class=\"sk-container\" hidden><div class=\"sk-item\"><div class=\"sk-estimator sk-toggleable\"><input class=\"sk-toggleable__control sk-hidden--visually\" id=\"sk-estimator-id-3\" type=\"checkbox\" checked><label for=\"sk-estimator-id-3\" class=\"sk-toggleable__label sk-toggleable__label-arrow\">GaussianNB</label><div class=\"sk-toggleable__content\"><pre>GaussianNB()</pre></div></div></div></div></div>"
      ],
      "text/plain": [
       "GaussianNB()"
      ]
     },
     "execution_count": 163,
     "metadata": {},
     "output_type": "execute_result"
    }
   ],
   "source": [
    "#set fit the classifer to the train and test data\n",
    "\n",
    "gnbClf.fit(X_Train3, y_Train3)"
   ]
  },
  {
   "cell_type": "code",
   "execution_count": 170,
   "id": "2e55bc19",
   "metadata": {},
   "outputs": [],
   "source": [
    "# predicting the Test set results\n",
    "\n",
    "y_pred3 = gnbClf.predict(X_Test3)\n",
    "\n",
    "cm_test3 = confusion_matrix(y_pred3, y_Test3)"
   ]
  },
  {
   "cell_type": "code",
   "execution_count": 171,
   "id": "06a51967",
   "metadata": {},
   "outputs": [],
   "source": [
    "y_pred_train3 = gnbClf.predict(X_Train3)\n",
    "\n",
    "cm_train3 = confusion_matrix(y_pred_train3, y_Train3)"
   ]
  },
  {
   "cell_type": "code",
   "execution_count": 172,
   "id": "c3c31c41",
   "metadata": {},
   "outputs": [
    {
     "name": "stdout",
     "output_type": "stream",
     "text": [
      "Accuracy for training set for Naive Bayes = 0.79%\n"
     ]
    }
   ],
   "source": [
    "# print the Accuracy value of for test data \n",
    "\n",
    "\n",
    "gnb_train = ((cm_train3[0][0] + cm_train3[1][1])/len(y_Train3))\n",
    "\n",
    "print('Accuracy for training set for Naive Bayes = {:.2%}'.format(gnb_train))"
   ]
  },
  {
   "cell_type": "code",
   "execution_count": 173,
   "id": "138fd578",
   "metadata": {},
   "outputs": [
    {
     "name": "stdout",
     "output_type": "stream",
     "text": [
      "Accuracy for test set for Naive Bayes = 0.79%\n"
     ]
    }
   ],
   "source": [
    "# print the Accuracy value of for test data \n",
    "\n",
    "gnb_test = ((cm_test3[0][0] + cm_test3[1][1])/len(y_Test3))\n",
    "\n",
    "print('Accuracy for test set for Naive Bayes = {:.2%}'.format(gnb_test))"
   ]
  },
  {
   "cell_type": "code",
   "execution_count": null,
   "id": "fbfa39f3",
   "metadata": {},
   "outputs": [],
   "source": []
  },
  {
   "cell_type": "code",
   "execution_count": null,
   "id": "50328b79",
   "metadata": {},
   "outputs": [],
   "source": []
  },
  {
   "cell_type": "code",
   "execution_count": null,
   "id": "0d588667",
   "metadata": {},
   "outputs": [],
   "source": []
  },
  {
   "cell_type": "code",
   "execution_count": null,
   "id": "cc588ab3",
   "metadata": {},
   "outputs": [],
   "source": []
  },
  {
   "cell_type": "code",
   "execution_count": null,
   "id": "a8574b1b",
   "metadata": {},
   "outputs": [],
   "source": []
  },
  {
   "cell_type": "code",
   "execution_count": null,
   "id": "ccf89d87",
   "metadata": {},
   "outputs": [],
   "source": []
  },
  {
   "cell_type": "code",
   "execution_count": null,
   "id": "a6a89128",
   "metadata": {},
   "outputs": [],
   "source": []
  },
  {
   "cell_type": "code",
   "execution_count": null,
   "id": "16fbfb3a",
   "metadata": {},
   "outputs": [],
   "source": []
  },
  {
   "cell_type": "code",
   "execution_count": null,
   "id": "fe77e43f",
   "metadata": {},
   "outputs": [],
   "source": []
  },
  {
   "cell_type": "code",
   "execution_count": null,
   "id": "386c5cd3",
   "metadata": {},
   "outputs": [],
   "source": []
  },
  {
   "cell_type": "code",
   "execution_count": null,
   "id": "6ebfa8f6",
   "metadata": {},
   "outputs": [],
   "source": []
  },
  {
   "cell_type": "code",
   "execution_count": null,
   "id": "1000020d",
   "metadata": {},
   "outputs": [],
   "source": []
  },
  {
   "cell_type": "code",
   "execution_count": null,
   "id": "48c8f862",
   "metadata": {},
   "outputs": [],
   "source": []
  },
  {
   "cell_type": "code",
   "execution_count": null,
   "id": "9c0e56ae",
   "metadata": {},
   "outputs": [],
   "source": []
  },
  {
   "cell_type": "markdown",
   "id": "2c2f3d3b",
   "metadata": {},
   "source": [
    "## Task 3 - Machine Learning comparision table\n",
    "\n",
    "#### REFERENCE - https://medium.com/towards-data-science/how-to-easily-create-tables-in-python-2eaea447d8fd"
   ]
  },
  {
   "cell_type": "code",
   "execution_count": 176,
   "id": "8b8a86f6",
   "metadata": {},
   "outputs": [],
   "source": [
    "table2 = [\n",
    "         ['Algorithms', 'Train Results', 'Test Results', 'Tweaking'], \n",
    "         ['Random Forest Classification', rfclass_train, rfclass_test, 'GridsearchCV'], \n",
    "         ['Logistic Regression', logR_train, logR_test, 'None'], \n",
    "         ['One Class Support Vector Machine', one_svm_train, one_svm_test, 'Unsupervised learning'], \n",
    "         ['Naive Baynes', gnb_train, gnb_test, 'None'],\n",
    "         ]"
   ]
  },
  {
   "cell_type": "code",
   "execution_count": 177,
   "id": "a090077e",
   "metadata": {},
   "outputs": [
    {
     "name": "stdout",
     "output_type": "stream",
     "text": [
      "╒══════════════════════════════════╤═════════════════╤════════════════╤═══════════════════════╕\n",
      "│ Algorithms                       │   Train Results │   Test Results │ Tweaking              │\n",
      "╞══════════════════════════════════╪═════════════════╪════════════════╪═══════════════════════╡\n",
      "│ Random Forest Classification     │      0.177763   │     0.0629096  │ GridsearchCV          │\n",
      "├──────────────────────────────────┼─────────────────┼────────────────┼───────────────────────┤\n",
      "│ Logistic Regression              │      0.00885536 │     0.00262123 │ None                  │\n",
      "├──────────────────────────────────┼─────────────────┼────────────────┼───────────────────────┤\n",
      "│ One Class Support Vector Machine │      0.177763   │     0.0629096  │ Unsupervised learning │\n",
      "├──────────────────────────────────┼─────────────────┼────────────────┼───────────────────────┤\n",
      "│ Naive Baynes                     │      0.00787143 │     0.0078637  │ None                  │\n",
      "╘══════════════════════════════════╧═════════════════╧════════════════╧═══════════════════════╛\n"
     ]
    }
   ],
   "source": [
    "print(tabulate(table2, headers='firstrow', tablefmt='fancy_grid'))"
   ]
  },
  {
   "cell_type": "code",
   "execution_count": null,
   "id": "56c0dbf8",
   "metadata": {},
   "outputs": [],
   "source": []
  },
  {
   "cell_type": "code",
   "execution_count": null,
   "id": "eea2d1eb",
   "metadata": {},
   "outputs": [],
   "source": []
  },
  {
   "cell_type": "code",
   "execution_count": null,
   "id": "a4780d6a",
   "metadata": {},
   "outputs": [],
   "source": []
  }
 ],
 "metadata": {
  "kernelspec": {
   "display_name": "Python 3 (ipykernel)",
   "language": "python",
   "name": "python3"
  },
  "language_info": {
   "codemirror_mode": {
    "name": "ipython",
    "version": 3
   },
   "file_extension": ".py",
   "mimetype": "text/x-python",
   "name": "python",
   "nbconvert_exporter": "python",
   "pygments_lexer": "ipython3",
   "version": "3.9.12"
  }
 },
 "nbformat": 4,
 "nbformat_minor": 5
}
