{
 "cells": [
  {
   "cell_type": "markdown",
   "id": "3ee92d15",
   "metadata": {},
   "source": [
    "## CA 2 - Review of Agriculture in Ireland\n",
    "\n",
    "### Organic food production\n",
    "\n"
   ]
  },
  {
   "cell_type": "code",
   "execution_count": 1,
   "id": "e37db901",
   "metadata": {},
   "outputs": [],
   "source": [
    "# Importing the libraries\n",
    "\n",
    "# libraries for graphics\n",
    "%matplotlib inline\n",
    "import matplotlib.pyplot as plt\n",
    "import seaborn as sns\n",
    "sns.set(color_codes=True)\n",
    "\n",
    "# create tables\n",
    "from tabulate import tabulate\n",
    "\n",
    "#graphics for calculations\n",
    "import numpy as np\n",
    "import pandas as pd\n",
    "\n",
    "# libraries for analysis\n",
    "import datetime \n",
    "import statistics\n",
    "import pylab\n",
    "\n",
    "from scipy import stats\n",
    "from scipy.stats import binom\n",
    "from scipy.stats import poisson\n",
    "\n",
    "\n"
   ]
  },
  {
   "cell_type": "markdown",
   "id": "4627a084",
   "metadata": {},
   "source": [
    "###  Local Notebook Functions "
   ]
  },
  {
   "cell_type": "code",
   "execution_count": null,
   "id": "c953ed46",
   "metadata": {},
   "outputs": [],
   "source": [
    "def fill_empty_cells(data_frame):\n",
    "    # fill an na cells with 0\n",
    "    data_frame = data_frame.fillna(0)\n",
    "\n",
    "    \n",
    "def change_type(data_frame, col_name):\n",
    "    # change the type to an int\n",
    "    data_frame.col_name.astype(int)\n",
    "\n"
   ]
  },
  {
   "cell_type": "markdown",
   "id": "956f76bb",
   "metadata": {},
   "source": [
    "### Step 1 - Import the dataframes\n",
    "\n",
    "Dataframes imported are the overall dataset for the European Economic Community (data includes Iceland / the UK / Norway etc), the datasets for Ireland and Spain.  Spain has been selected as the comparison country based on 2020 milk production."
   ]
  },
  {
   "cell_type": "code",
   "execution_count": 2,
   "id": "ba7e69d0",
   "metadata": {},
   "outputs": [
    {
     "name": "stdout",
     "output_type": "stream",
     "text": [
      "<class 'pandas.core.frame.DataFrame'>\n",
      "RangeIndex: 742 entries, 0 to 741\n",
      "Data columns (total 6 columns):\n",
      " #   Column       Non-Null Count  Dtype  \n",
      "---  ------       --------------  -----  \n",
      " 0   agriprod     742 non-null    object \n",
      " 1   Unit         742 non-null    object \n",
      " 2   Country      742 non-null    object \n",
      " 3   Year         742 non-null    int64  \n",
      " 4   Value        722 non-null    float64\n",
      " 5   Description  742 non-null    object \n",
      "dtypes: float64(1), int64(1), object(4)\n",
      "memory usage: 34.9+ KB\n"
     ]
    }
   ],
   "source": [
    "org_milk_df = pd.read_csv(\"Datasets/milk_df.csv\")\n",
    "\n",
    "\n",
    "org_milk_df.info()"
   ]
  },
  {
   "cell_type": "code",
   "execution_count": 14,
   "id": "db457d68",
   "metadata": {},
   "outputs": [],
   "source": [
    "\n",
    "# convert the data type float to an int\n",
    "# fill an na cells with 0\n",
    "org_milk_df = org_milk_df.fillna(0)\n",
    "#fill_empty_cells(data_frame)\n",
    "\n",
    "#check on import\n",
    "#org_milk_df.info()"
   ]
  },
  {
   "cell_type": "code",
   "execution_count": 15,
   "id": "dc9d98d1",
   "metadata": {},
   "outputs": [],
   "source": [
    "irl_milk_df = pd.read_csv(\"Datasets/irl_milk_df.csv\")\n",
    "\n",
    "# convert the data type float to an int\n",
    "\n",
    "# fill an na cells with 0\n",
    "irl_milk_df = irl_milk_df.fillna(0)\n",
    "#fill_empty_cells(data_frame)\n",
    "\n",
    "#check on import\n",
    "#irl_milk_df.info()"
   ]
  },
  {
   "cell_type": "code",
   "execution_count": 16,
   "id": "952a5c6f",
   "metadata": {},
   "outputs": [],
   "source": [
    "es_milk_df = pd.read_csv(\"Datasets/es_milk_df.csv\")\n",
    "\n",
    "# convert the data type float to an int\n",
    "\n",
    "# fill an na cells with 0\n",
    "es_milk_df = es_milk_df.fillna(0)\n",
    "#fill_empty_cells(data_frame)\n",
    "\n",
    "#check on import\n",
    "#es_milk_df.info()"
   ]
  },
  {
   "cell_type": "markdown",
   "id": "e1c34c5f",
   "metadata": {},
   "source": [
    "### Step 2 -  Descriptive Statistics in the Dataframe\n",
    "\n",
    "#### REFERENCE - https://medium.com/analytics-vidhya/descriptive-statistics-in-data-science-with-illustrations-in-python-efd5ccc152f1"
   ]
  },
  {
   "cell_type": "code",
   "execution_count": 17,
   "id": "4c094a6e",
   "metadata": {},
   "outputs": [
    {
     "data": {
      "text/html": [
       "<div>\n",
       "<style scoped>\n",
       "    .dataframe tbody tr th:only-of-type {\n",
       "        vertical-align: middle;\n",
       "    }\n",
       "\n",
       "    .dataframe tbody tr th {\n",
       "        vertical-align: top;\n",
       "    }\n",
       "\n",
       "    .dataframe thead th {\n",
       "        text-align: right;\n",
       "    }\n",
       "</style>\n",
       "<table border=\"1\" class=\"dataframe\">\n",
       "  <thead>\n",
       "    <tr style=\"text-align: right;\">\n",
       "      <th></th>\n",
       "      <th>Year</th>\n",
       "      <th>Value</th>\n",
       "    </tr>\n",
       "  </thead>\n",
       "  <tbody>\n",
       "    <tr>\n",
       "      <th>count</th>\n",
       "      <td>742.000000</td>\n",
       "      <td>7.420000e+02</td>\n",
       "    </tr>\n",
       "    <tr>\n",
       "      <th>mean</th>\n",
       "      <td>2016.489218</td>\n",
       "      <td>1.161572e+05</td>\n",
       "    </tr>\n",
       "    <tr>\n",
       "      <th>std</th>\n",
       "      <td>2.730201</td>\n",
       "      <td>2.149148e+05</td>\n",
       "    </tr>\n",
       "    <tr>\n",
       "      <th>min</th>\n",
       "      <td>2012.000000</td>\n",
       "      <td>0.000000e+00</td>\n",
       "    </tr>\n",
       "    <tr>\n",
       "      <th>25%</th>\n",
       "      <td>2014.000000</td>\n",
       "      <td>2.156750e+03</td>\n",
       "    </tr>\n",
       "    <tr>\n",
       "      <th>50%</th>\n",
       "      <td>2016.500000</td>\n",
       "      <td>1.692250e+04</td>\n",
       "    </tr>\n",
       "    <tr>\n",
       "      <th>75%</th>\n",
       "      <td>2019.000000</td>\n",
       "      <td>9.854200e+04</td>\n",
       "    </tr>\n",
       "    <tr>\n",
       "      <th>max</th>\n",
       "      <td>2021.000000</td>\n",
       "      <td>1.271853e+06</td>\n",
       "    </tr>\n",
       "  </tbody>\n",
       "</table>\n",
       "</div>"
      ],
      "text/plain": [
       "              Year         Value\n",
       "count   742.000000  7.420000e+02\n",
       "mean   2016.489218  1.161572e+05\n",
       "std       2.730201  2.149148e+05\n",
       "min    2012.000000  0.000000e+00\n",
       "25%    2014.000000  2.156750e+03\n",
       "50%    2016.500000  1.692250e+04\n",
       "75%    2019.000000  9.854200e+04\n",
       "max    2021.000000  1.271853e+06"
      ]
     },
     "execution_count": 17,
     "metadata": {},
     "output_type": "execute_result"
    }
   ],
   "source": [
    "# show descriptive statistics relating\n",
    "# to the EEC organic milk production dataframe\n",
    "\n",
    "org_milk_df.describe()"
   ]
  },
  {
   "cell_type": "code",
   "execution_count": 18,
   "id": "cf4e5b17",
   "metadata": {},
   "outputs": [
    {
     "data": {
      "text/html": [
       "<div>\n",
       "<style scoped>\n",
       "    .dataframe tbody tr th:only-of-type {\n",
       "        vertical-align: middle;\n",
       "    }\n",
       "\n",
       "    .dataframe tbody tr th {\n",
       "        vertical-align: top;\n",
       "    }\n",
       "\n",
       "    .dataframe thead th {\n",
       "        text-align: right;\n",
       "    }\n",
       "</style>\n",
       "<table border=\"1\" class=\"dataframe\">\n",
       "  <thead>\n",
       "    <tr style=\"text-align: right;\">\n",
       "      <th></th>\n",
       "      <th>Unnamed: 0</th>\n",
       "      <th>Year</th>\n",
       "      <th>Value</th>\n",
       "    </tr>\n",
       "  </thead>\n",
       "  <tbody>\n",
       "    <tr>\n",
       "      <th>count</th>\n",
       "      <td>21.000000</td>\n",
       "      <td>21.000000</td>\n",
       "      <td>21.000000</td>\n",
       "    </tr>\n",
       "    <tr>\n",
       "      <th>mean</th>\n",
       "      <td>364.190476</td>\n",
       "      <td>2017.190476</td>\n",
       "      <td>7406.380952</td>\n",
       "    </tr>\n",
       "    <tr>\n",
       "      <th>std</th>\n",
       "      <td>225.415310</td>\n",
       "      <td>2.676174</td>\n",
       "      <td>4706.356823</td>\n",
       "    </tr>\n",
       "    <tr>\n",
       "      <th>min</th>\n",
       "      <td>126.000000</td>\n",
       "      <td>2013.000000</td>\n",
       "      <td>394.000000</td>\n",
       "    </tr>\n",
       "    <tr>\n",
       "      <th>25%</th>\n",
       "      <td>131.000000</td>\n",
       "      <td>2015.000000</td>\n",
       "      <td>3238.000000</td>\n",
       "    </tr>\n",
       "    <tr>\n",
       "      <th>50%</th>\n",
       "      <td>380.000000</td>\n",
       "      <td>2017.000000</td>\n",
       "      <td>7100.000000</td>\n",
       "    </tr>\n",
       "    <tr>\n",
       "      <th>75%</th>\n",
       "      <td>618.000000</td>\n",
       "      <td>2019.000000</td>\n",
       "      <td>10722.000000</td>\n",
       "    </tr>\n",
       "    <tr>\n",
       "      <th>max</th>\n",
       "      <td>623.000000</td>\n",
       "      <td>2021.000000</td>\n",
       "      <td>17791.000000</td>\n",
       "    </tr>\n",
       "  </tbody>\n",
       "</table>\n",
       "</div>"
      ],
      "text/plain": [
       "       Unnamed: 0         Year         Value\n",
       "count   21.000000    21.000000     21.000000\n",
       "mean   364.190476  2017.190476   7406.380952\n",
       "std    225.415310     2.676174   4706.356823\n",
       "min    126.000000  2013.000000    394.000000\n",
       "25%    131.000000  2015.000000   3238.000000\n",
       "50%    380.000000  2017.000000   7100.000000\n",
       "75%    618.000000  2019.000000  10722.000000\n",
       "max    623.000000  2021.000000  17791.000000"
      ]
     },
     "execution_count": 18,
     "metadata": {},
     "output_type": "execute_result"
    }
   ],
   "source": [
    "# show descriptive statistics relating\n",
    "# to the Irish organic milk production dataframe\n",
    "\n",
    "irl_milk_df.describe()"
   ]
  },
  {
   "cell_type": "code",
   "execution_count": 19,
   "id": "026b562f",
   "metadata": {},
   "outputs": [
    {
     "data": {
      "text/html": [
       "<div>\n",
       "<style scoped>\n",
       "    .dataframe tbody tr th:only-of-type {\n",
       "        vertical-align: middle;\n",
       "    }\n",
       "\n",
       "    .dataframe tbody tr th {\n",
       "        vertical-align: top;\n",
       "    }\n",
       "\n",
       "    .dataframe thead th {\n",
       "        text-align: right;\n",
       "    }\n",
       "</style>\n",
       "<table border=\"1\" class=\"dataframe\">\n",
       "  <thead>\n",
       "    <tr style=\"text-align: right;\">\n",
       "      <th></th>\n",
       "      <th>Unnamed: 0</th>\n",
       "      <th>Year</th>\n",
       "      <th>Value</th>\n",
       "    </tr>\n",
       "  </thead>\n",
       "  <tbody>\n",
       "    <tr>\n",
       "      <th>count</th>\n",
       "      <td>30.000000</td>\n",
       "      <td>30.000000</td>\n",
       "      <td>30.000000</td>\n",
       "    </tr>\n",
       "    <tr>\n",
       "      <th>mean</th>\n",
       "      <td>334.166667</td>\n",
       "      <td>2016.500000</td>\n",
       "      <td>25662.900000</td>\n",
       "    </tr>\n",
       "    <tr>\n",
       "      <th>std</th>\n",
       "      <td>204.815659</td>\n",
       "      <td>2.921384</td>\n",
       "      <td>19269.414558</td>\n",
       "    </tr>\n",
       "    <tr>\n",
       "      <th>min</th>\n",
       "      <td>79.000000</td>\n",
       "      <td>2012.000000</td>\n",
       "      <td>1071.000000</td>\n",
       "    </tr>\n",
       "    <tr>\n",
       "      <th>25%</th>\n",
       "      <td>86.250000</td>\n",
       "      <td>2014.000000</td>\n",
       "      <td>12729.000000</td>\n",
       "    </tr>\n",
       "    <tr>\n",
       "      <th>50%</th>\n",
       "      <td>342.500000</td>\n",
       "      <td>2016.500000</td>\n",
       "      <td>20719.500000</td>\n",
       "    </tr>\n",
       "    <tr>\n",
       "      <th>75%</th>\n",
       "      <td>573.750000</td>\n",
       "      <td>2019.000000</td>\n",
       "      <td>28316.250000</td>\n",
       "    </tr>\n",
       "    <tr>\n",
       "      <th>max</th>\n",
       "      <td>581.000000</td>\n",
       "      <td>2021.000000</td>\n",
       "      <td>77203.000000</td>\n",
       "    </tr>\n",
       "  </tbody>\n",
       "</table>\n",
       "</div>"
      ],
      "text/plain": [
       "       Unnamed: 0         Year         Value\n",
       "count   30.000000    30.000000     30.000000\n",
       "mean   334.166667  2016.500000  25662.900000\n",
       "std    204.815659     2.921384  19269.414558\n",
       "min     79.000000  2012.000000   1071.000000\n",
       "25%     86.250000  2014.000000  12729.000000\n",
       "50%    342.500000  2016.500000  20719.500000\n",
       "75%    573.750000  2019.000000  28316.250000\n",
       "max    581.000000  2021.000000  77203.000000"
      ]
     },
     "execution_count": 19,
     "metadata": {},
     "output_type": "execute_result"
    }
   ],
   "source": [
    "# show descriptive statistics relating\n",
    "# to the Spanish organic milk production dataframe\n",
    "\n",
    "es_milk_df.describe()"
   ]
  },
  {
   "cell_type": "code",
   "execution_count": 21,
   "id": "d63ceb10",
   "metadata": {},
   "outputs": [
    {
     "name": "stdout",
     "output_type": "stream",
     "text": [
      "46188364685.114784 22149794.54761905 371310337.4034483\n"
     ]
    }
   ],
   "source": [
    "# calculate the variance of the 3 datasets\n",
    "\n",
    "eec_variance = statistics.variance(org_milk_df['Value'])\n",
    "irish_variance = statistics.variance(irl_milk_df['Value'])\n",
    "spanish_variance = statistics.variance(es_milk_df['Value'])\n",
    "\n",
    "print(eec_variance, irish_variance, spanish_variance)"
   ]
  },
  {
   "cell_type": "code",
   "execution_count": null,
   "id": "67fcbbd9",
   "metadata": {},
   "outputs": [],
   "source": []
  },
  {
   "cell_type": "code",
   "execution_count": null,
   "id": "139c5730",
   "metadata": {},
   "outputs": [],
   "source": []
  },
  {
   "cell_type": "code",
   "execution_count": null,
   "id": "14f4765e",
   "metadata": {},
   "outputs": [],
   "source": []
  },
  {
   "cell_type": "code",
   "execution_count": null,
   "id": "d1fadabc",
   "metadata": {},
   "outputs": [],
   "source": []
  },
  {
   "cell_type": "code",
   "execution_count": null,
   "id": "65fb0f3d",
   "metadata": {},
   "outputs": [],
   "source": []
  },
  {
   "cell_type": "markdown",
   "id": "6b189ba1",
   "metadata": {},
   "source": [
    "### Test for a Normal Distribution\n",
    "\n",
    "##### Reference - https://towardsdatascience.com/6-ways-to-test-for-a-normal-distribution-which-one-to-use-9dcf47d8fa93#:~:text=The%20Shapiro%20Wilk%20test%20is,for%20example%20the%20KS%20test.\n",
    "\n",
    "\n",
    "\n",
    "TIME_PERIOD\n",
    "OBS_VALUE\n",
    "Dairy\n",
    "Eggs\n",
    "Honey\n",
    "Meat\n",
    "    "
   ]
  },
  {
   "cell_type": "code",
   "execution_count": null,
   "id": "e5821572",
   "metadata": {},
   "outputs": [],
   "source": [
    "# graphic test for a normal distribution on the Irish data\n",
    "\n",
    "stats.probplot(irl_milk_df['Value'], dist=\"norm\", plot=pylab)\n",
    "plt.title(\"Probability Plot - Ireland organic milk production\")\n",
    "pylab.show()\n"
   ]
  },
  {
   "cell_type": "code",
   "execution_count": null,
   "id": "699a3e1d",
   "metadata": {},
   "outputs": [],
   "source": [
    "# graphic test for a normal distribution on the full EEC data\n",
    "\n",
    "stats.probplot(org_milk_df['Value'], dist=\"norm\", plot=pylab)\n",
    "plt.title(\"Probability Plot - EEC organic milk production\")\n",
    "pylab.show()\n"
   ]
  },
  {
   "cell_type": "code",
   "execution_count": null,
   "id": "73fd7996",
   "metadata": {},
   "outputs": [],
   "source": [
    "# graphic test for a normal distribution on the Spanish data\n",
    "\n",
    "stats.probplot(es_milk_df['Value'], dist=\"norm\", plot=pylab)\n",
    "plt.title(\"Probability Plot - Spanish organic milk production\")\n",
    "pylab.show()\n"
   ]
  },
  {
   "cell_type": "markdown",
   "id": "a1af4c93",
   "metadata": {},
   "source": [
    "### Shapiro Wilks Test "
   ]
  },
  {
   "cell_type": "code",
   "execution_count": null,
   "id": "ffdd3cba",
   "metadata": {},
   "outputs": [],
   "source": [
    "# Normalacy test used is shapriro wilks test .. \n",
    "# both data samples are less than 50 rows, is the recommended test for this sample size\n",
    "# https://statistics.laerd.com/spss-tutorials/testing-for-normality-using-spss-statistics.php\n",
    "\n",
    "\n",
    "import statsmodels.api as sm\n",
    "from statsmodels.formula.api import ols\n",
    "from scipy import stats\n",
    "import scipy as scipy"
   ]
  },
  {
   "cell_type": "code",
   "execution_count": null,
   "id": "308fe09a",
   "metadata": {},
   "outputs": [],
   "source": [
    "# Shapiro wilk test with 'Value' as target variable\n",
    "\n",
    "irl_shapiro = stats.shapiro(es_milk_df['Value'])\n",
    "\n",
    "#stats.shapiro(es_milk_df['Value'])"
   ]
  },
  {
   "cell_type": "code",
   "execution_count": null,
   "id": "c7888e74",
   "metadata": {},
   "outputs": [],
   "source": [
    "# Shapiro wilk test with 'Value' as target variable\n",
    "\n",
    "#stats.shapiro(irl_milk_df['Value'])\n",
    "\n",
    "es_shapiro = stats.shapiro(irl_milk_df['Value'])\n"
   ]
  },
  {
   "cell_type": "code",
   "execution_count": null,
   "id": "12e62955",
   "metadata": {},
   "outputs": [],
   "source": []
  },
  {
   "cell_type": "code",
   "execution_count": null,
   "id": "5f8647e8",
   "metadata": {},
   "outputs": [],
   "source": []
  },
  {
   "cell_type": "markdown",
   "id": "ef2db3aa",
   "metadata": {},
   "source": [
    "## Step 3 - Inferential Statistics in the Dataframe"
   ]
  },
  {
   "cell_type": "code",
   "execution_count": null,
   "id": "8010a607",
   "metadata": {},
   "outputs": [],
   "source": []
  },
  {
   "cell_type": "code",
   "execution_count": null,
   "id": "9f336d6d",
   "metadata": {},
   "outputs": [],
   "source": []
  },
  {
   "cell_type": "code",
   "execution_count": null,
   "id": "6d132701",
   "metadata": {},
   "outputs": [],
   "source": []
  },
  {
   "cell_type": "code",
   "execution_count": null,
   "id": "cdd2bd73",
   "metadata": {},
   "outputs": [],
   "source": []
  },
  {
   "cell_type": "code",
   "execution_count": null,
   "id": "056e1ff1",
   "metadata": {},
   "outputs": [],
   "source": []
  },
  {
   "cell_type": "code",
   "execution_count": null,
   "id": "37554047",
   "metadata": {},
   "outputs": [],
   "source": []
  },
  {
   "cell_type": "code",
   "execution_count": null,
   "id": "fa8b5e10",
   "metadata": {},
   "outputs": [],
   "source": []
  },
  {
   "cell_type": "code",
   "execution_count": null,
   "id": "9935dffc",
   "metadata": {},
   "outputs": [],
   "source": []
  },
  {
   "cell_type": "code",
   "execution_count": null,
   "id": "433b3290",
   "metadata": {},
   "outputs": [],
   "source": []
  },
  {
   "cell_type": "code",
   "execution_count": null,
   "id": "a32e584b",
   "metadata": {},
   "outputs": [],
   "source": []
  },
  {
   "cell_type": "code",
   "execution_count": null,
   "id": "400b1535",
   "metadata": {},
   "outputs": [],
   "source": []
  },
  {
   "cell_type": "code",
   "execution_count": null,
   "id": "96809636",
   "metadata": {},
   "outputs": [],
   "source": []
  },
  {
   "cell_type": "code",
   "execution_count": null,
   "id": "6107ce1f",
   "metadata": {},
   "outputs": [],
   "source": []
  },
  {
   "cell_type": "markdown",
   "id": "a02acd77",
   "metadata": {},
   "source": [
    "## Step 4 - Inferential Statistics in the Dataframe"
   ]
  },
  {
   "cell_type": "code",
   "execution_count": null,
   "id": "c341b7e6",
   "metadata": {},
   "outputs": [],
   "source": []
  },
  {
   "cell_type": "code",
   "execution_count": null,
   "id": "7a457cab",
   "metadata": {},
   "outputs": [],
   "source": []
  },
  {
   "cell_type": "code",
   "execution_count": null,
   "id": "2199ecd7",
   "metadata": {},
   "outputs": [],
   "source": []
  },
  {
   "cell_type": "code",
   "execution_count": null,
   "id": "df6c55a7",
   "metadata": {},
   "outputs": [],
   "source": []
  },
  {
   "cell_type": "code",
   "execution_count": null,
   "id": "c2780bb0",
   "metadata": {},
   "outputs": [],
   "source": []
  },
  {
   "cell_type": "code",
   "execution_count": null,
   "id": "886bab31",
   "metadata": {},
   "outputs": [],
   "source": []
  },
  {
   "cell_type": "code",
   "execution_count": null,
   "id": "5f6baa34",
   "metadata": {},
   "outputs": [],
   "source": []
  },
  {
   "cell_type": "code",
   "execution_count": null,
   "id": "e79d7fd2",
   "metadata": {},
   "outputs": [],
   "source": []
  },
  {
   "cell_type": "code",
   "execution_count": null,
   "id": "6271ae98",
   "metadata": {},
   "outputs": [],
   "source": []
  },
  {
   "cell_type": "code",
   "execution_count": null,
   "id": "6a92b676",
   "metadata": {},
   "outputs": [],
   "source": []
  },
  {
   "cell_type": "code",
   "execution_count": null,
   "id": "a48b9833",
   "metadata": {},
   "outputs": [],
   "source": []
  },
  {
   "cell_type": "code",
   "execution_count": null,
   "id": "dbeb5bf0",
   "metadata": {},
   "outputs": [],
   "source": []
  },
  {
   "cell_type": "code",
   "execution_count": null,
   "id": "c87ea96d",
   "metadata": {},
   "outputs": [],
   "source": []
  },
  {
   "cell_type": "markdown",
   "id": "8ca2f906",
   "metadata": {},
   "source": [
    "## Step 5 -  Comparision using Inferential Statistics "
   ]
  },
  {
   "cell_type": "code",
   "execution_count": null,
   "id": "1256cdcf",
   "metadata": {},
   "outputs": [],
   "source": []
  },
  {
   "cell_type": "code",
   "execution_count": null,
   "id": "d8697153",
   "metadata": {},
   "outputs": [],
   "source": []
  },
  {
   "cell_type": "code",
   "execution_count": null,
   "id": "2586a738",
   "metadata": {},
   "outputs": [],
   "source": []
  },
  {
   "cell_type": "code",
   "execution_count": null,
   "id": "457d6218",
   "metadata": {},
   "outputs": [],
   "source": []
  },
  {
   "cell_type": "code",
   "execution_count": null,
   "id": "59b9d4b8",
   "metadata": {},
   "outputs": [],
   "source": []
  },
  {
   "cell_type": "code",
   "execution_count": null,
   "id": "daebfebc",
   "metadata": {},
   "outputs": [],
   "source": []
  },
  {
   "cell_type": "code",
   "execution_count": null,
   "id": "63ab7f04",
   "metadata": {},
   "outputs": [],
   "source": []
  },
  {
   "cell_type": "code",
   "execution_count": null,
   "id": "9fbc76cb",
   "metadata": {},
   "outputs": [],
   "source": []
  },
  {
   "cell_type": "code",
   "execution_count": null,
   "id": "15d144a3",
   "metadata": {},
   "outputs": [],
   "source": []
  },
  {
   "cell_type": "code",
   "execution_count": null,
   "id": "b744eceb",
   "metadata": {},
   "outputs": [],
   "source": []
  },
  {
   "cell_type": "code",
   "execution_count": null,
   "id": "ded10ad2",
   "metadata": {},
   "outputs": [],
   "source": []
  },
  {
   "cell_type": "markdown",
   "id": "0fc2ea0e",
   "metadata": {},
   "source": [
    "## STATISTICAL RESULTS"
   ]
  },
  {
   "cell_type": "code",
   "execution_count": 22,
   "id": "2e964888",
   "metadata": {},
   "outputs": [],
   "source": [
    "table = [['Statistics', 'EEC data', 'Irish data', 'Spanish data'], \n",
    "         ['Shapiro', 'TBC','irl_shapiro ', 'es_shapiro '], \n",
    "         ['Variance', 'eec_variance','irish_variance', 'spanish_variance'], \n",
    "         ['2 - TBC', 'TBC','TBC', 'TBC'], \n",
    "         ['3 - TBC', 'TBC','TBC', 'TBC'],\n",
    "        ]"
   ]
  },
  {
   "cell_type": "code",
   "execution_count": null,
   "id": "a1ee2bb9",
   "metadata": {},
   "outputs": [],
   "source": []
  }
 ],
 "metadata": {
  "kernelspec": {
   "display_name": "Python 3 (ipykernel)",
   "language": "python",
   "name": "python3"
  },
  "language_info": {
   "codemirror_mode": {
    "name": "ipython",
    "version": 3
   },
   "file_extension": ".py",
   "mimetype": "text/x-python",
   "name": "python",
   "nbconvert_exporter": "python",
   "pygments_lexer": "ipython3",
   "version": "3.9.12"
  }
 },
 "nbformat": 4,
 "nbformat_minor": 5
}
