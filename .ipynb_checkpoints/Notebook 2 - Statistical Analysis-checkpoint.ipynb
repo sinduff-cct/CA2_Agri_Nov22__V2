{
 "cells": [
  {
   "cell_type": "markdown",
   "id": "3ee92d15",
   "metadata": {},
   "source": [
    "## CA 2 - Review of Agriculture in Ireland\n",
    "\n",
    "### Organic food production\n",
    "\n",
    "Source = Eurostat"
   ]
  },
  {
   "cell_type": "code",
   "execution_count": 2,
   "id": "e37db901",
   "metadata": {},
   "outputs": [],
   "source": [
    "# Importing the libraries\n",
    "\n",
    "# libraries for graphics\n",
    "%matplotlib inline\n",
    "import matplotlib.pyplot as plt\n",
    "import seaborn as sns\n",
    "sns.set(color_codes=True)\n",
    "\n",
    "# create tables\n",
    "from tabulate import tabulate\n",
    "\n",
    "#graphics for calculations\n",
    "import numpy as np\n",
    "import pandas as pd\n",
    "\n",
    "# libraries for analysis\n",
    "import datetime \n",
    "import statistics\n",
    "from scipy.stats import binom\n",
    "from scipy.stats import poisson\n",
    "import pylab\n",
    "from scipy import stats\n"
   ]
  },
  {
   "cell_type": "markdown",
   "id": "956f76bb",
   "metadata": {},
   "source": [
    "### Step 1 - Import the dataframes"
   ]
  },
  {
   "cell_type": "code",
   "execution_count": 5,
   "id": "952a5c6f",
   "metadata": {},
   "outputs": [],
   "source": [
    "es_milk_df = pd.read_csv(\"Datasets/es_milk_df.csv\")\n",
    "\n",
    "#es_milk_df"
   ]
  },
  {
   "cell_type": "code",
   "execution_count": 6,
   "id": "dc9d98d1",
   "metadata": {},
   "outputs": [],
   "source": [
    "irl_milk_df = pd.read_csv(\"Datasets/irl_milk_df.csv\")\n",
    "\n",
    "#irl_milk_df"
   ]
  },
  {
   "cell_type": "code",
   "execution_count": 9,
   "id": "ba7e69d0",
   "metadata": {},
   "outputs": [
    {
     "data": {
      "text/html": [
       "<div>\n",
       "<style scoped>\n",
       "    .dataframe tbody tr th:only-of-type {\n",
       "        vertical-align: middle;\n",
       "    }\n",
       "\n",
       "    .dataframe tbody tr th {\n",
       "        vertical-align: top;\n",
       "    }\n",
       "\n",
       "    .dataframe thead th {\n",
       "        text-align: right;\n",
       "    }\n",
       "</style>\n",
       "<table border=\"1\" class=\"dataframe\">\n",
       "  <thead>\n",
       "    <tr style=\"text-align: right;\">\n",
       "      <th></th>\n",
       "      <th>agriprod</th>\n",
       "      <th>Unit</th>\n",
       "      <th>Country</th>\n",
       "      <th>Year</th>\n",
       "      <th>Value</th>\n",
       "      <th>Description</th>\n",
       "    </tr>\n",
       "  </thead>\n",
       "  <tbody>\n",
       "    <tr>\n",
       "      <th>0</th>\n",
       "      <td>Dairy</td>\n",
       "      <td>T</td>\n",
       "      <td>AT</td>\n",
       "      <td>2014</td>\n",
       "      <td>443486.0</td>\n",
       "      <td>Raw milk</td>\n",
       "    </tr>\n",
       "    <tr>\n",
       "      <th>1</th>\n",
       "      <td>Dairy</td>\n",
       "      <td>T</td>\n",
       "      <td>AT</td>\n",
       "      <td>2015</td>\n",
       "      <td>440924.0</td>\n",
       "      <td>Raw milk</td>\n",
       "    </tr>\n",
       "    <tr>\n",
       "      <th>2</th>\n",
       "      <td>Dairy</td>\n",
       "      <td>T</td>\n",
       "      <td>AT</td>\n",
       "      <td>2016</td>\n",
       "      <td>552389.0</td>\n",
       "      <td>Raw milk</td>\n",
       "    </tr>\n",
       "    <tr>\n",
       "      <th>3</th>\n",
       "      <td>Dairy</td>\n",
       "      <td>T</td>\n",
       "      <td>AT</td>\n",
       "      <td>2017</td>\n",
       "      <td>612629.0</td>\n",
       "      <td>Raw milk</td>\n",
       "    </tr>\n",
       "    <tr>\n",
       "      <th>4</th>\n",
       "      <td>Dairy</td>\n",
       "      <td>T</td>\n",
       "      <td>AT</td>\n",
       "      <td>2018</td>\n",
       "      <td>635751.0</td>\n",
       "      <td>Raw milk</td>\n",
       "    </tr>\n",
       "    <tr>\n",
       "      <th>...</th>\n",
       "      <td>...</td>\n",
       "      <td>...</td>\n",
       "      <td>...</td>\n",
       "      <td>...</td>\n",
       "      <td>...</td>\n",
       "      <td>...</td>\n",
       "    </tr>\n",
       "    <tr>\n",
       "      <th>737</th>\n",
       "      <td>Dairy</td>\n",
       "      <td>T</td>\n",
       "      <td>UK</td>\n",
       "      <td>2015</td>\n",
       "      <td>222200.0</td>\n",
       "      <td>Raw milk</td>\n",
       "    </tr>\n",
       "    <tr>\n",
       "      <th>738</th>\n",
       "      <td>Dairy</td>\n",
       "      <td>T</td>\n",
       "      <td>UK</td>\n",
       "      <td>2016</td>\n",
       "      <td>237300.0</td>\n",
       "      <td>Raw milk</td>\n",
       "    </tr>\n",
       "    <tr>\n",
       "      <th>739</th>\n",
       "      <td>Dairy</td>\n",
       "      <td>T</td>\n",
       "      <td>UK</td>\n",
       "      <td>2017</td>\n",
       "      <td>236400.0</td>\n",
       "      <td>Raw milk</td>\n",
       "    </tr>\n",
       "    <tr>\n",
       "      <th>740</th>\n",
       "      <td>Dairy</td>\n",
       "      <td>T</td>\n",
       "      <td>UK</td>\n",
       "      <td>2018</td>\n",
       "      <td>267000.0</td>\n",
       "      <td>Raw milk</td>\n",
       "    </tr>\n",
       "    <tr>\n",
       "      <th>741</th>\n",
       "      <td>Dairy</td>\n",
       "      <td>T</td>\n",
       "      <td>UK</td>\n",
       "      <td>2019</td>\n",
       "      <td>253700.0</td>\n",
       "      <td>Raw milk</td>\n",
       "    </tr>\n",
       "  </tbody>\n",
       "</table>\n",
       "<p>742 rows × 6 columns</p>\n",
       "</div>"
      ],
      "text/plain": [
       "    agriprod Unit Country  Year     Value Description\n",
       "0      Dairy    T      AT  2014  443486.0    Raw milk\n",
       "1      Dairy    T      AT  2015  440924.0    Raw milk\n",
       "2      Dairy    T      AT  2016  552389.0    Raw milk\n",
       "3      Dairy    T      AT  2017  612629.0    Raw milk\n",
       "4      Dairy    T      AT  2018  635751.0    Raw milk\n",
       "..       ...  ...     ...   ...       ...         ...\n",
       "737    Dairy    T      UK  2015  222200.0    Raw milk\n",
       "738    Dairy    T      UK  2016  237300.0    Raw milk\n",
       "739    Dairy    T      UK  2017  236400.0    Raw milk\n",
       "740    Dairy    T      UK  2018  267000.0    Raw milk\n",
       "741    Dairy    T      UK  2019  253700.0    Raw milk\n",
       "\n",
       "[742 rows x 6 columns]"
      ]
     },
     "execution_count": 9,
     "metadata": {},
     "output_type": "execute_result"
    }
   ],
   "source": [
    "org_milk_df = pd.read_csv(\"Datasets/milk_df.csv\")\n",
    "\n",
    "#org_milk_df"
   ]
  },
  {
   "cell_type": "markdown",
   "id": "e1c34c5f",
   "metadata": {},
   "source": [
    "#### Describe the Contents of the Dataframe"
   ]
  },
  {
   "cell_type": "code",
   "execution_count": null,
   "id": "4c094a6e",
   "metadata": {},
   "outputs": [],
   "source": []
  },
  {
   "cell_type": "code",
   "execution_count": null,
   "id": "65fb0f3d",
   "metadata": {},
   "outputs": [],
   "source": []
  },
  {
   "cell_type": "markdown",
   "id": "6b189ba1",
   "metadata": {},
   "source": [
    "### Test for a Normal Distribution\n",
    "\n",
    "##### Reference - https://towardsdatascience.com/6-ways-to-test-for-a-normal-distribution-which-one-to-use-9dcf47d8fa93#:~:text=The%20Shapiro%20Wilk%20test%20is,for%20example%20the%20KS%20test.\n",
    "\n",
    "\n",
    "\n",
    "TIME_PERIOD\n",
    "OBS_VALUE\n",
    "Dairy\n",
    "Eggs\n",
    "Honey\n",
    "Meat\n",
    "    "
   ]
  },
  {
   "cell_type": "code",
   "execution_count": 75,
   "id": "e5821572",
   "metadata": {},
   "outputs": [
    {
     "data": {
      "image/png": "[encoded data removed]",
      "text/plain": [
       "<Figure size 640x480 with 1 Axes>"
      ]
     },
     "metadata": {},
     "output_type": "display_data"
    }
   ],
   "source": [
    "stats.probplot(irl_milk_df['Value'], dist=\"norm\", plot=pylab)\n",
    "plt.title(\"Probability Plot - Ireland organic milk production\")\n",
    "pylab.show()\n",
    "\n"
   ]
  },
  {
   "cell_type": "code",
   "execution_count": 88,
   "id": "699a3e1d",
   "metadata": {},
   "outputs": [
    {
     "data": {
      "image/png": "[encoded data removed]",
      "text/plain": [
       "<Figure size 640x480 with 1 Axes>"
      ]
     },
     "metadata": {},
     "output_type": "display_data"
    }
   ],
   "source": [
    "stats.probplot(es_milk_df2['Value'], dist=\"norm\", plot=pylab)\n",
    "plt.title(\"Probability Plot - Spain organic milk production\")\n",
    "pylab.show()\n"
   ]
  },
  {
   "cell_type": "markdown",
   "id": "a1af4c93",
   "metadata": {},
   "source": [
    "### Shapiro Wilks Test "
   ]
  },
  {
   "cell_type": "code",
   "execution_count": 10,
   "id": "ffdd3cba",
   "metadata": {},
   "outputs": [],
   "source": [
    "# Normalacy test used is shapriro wilks test .. \n",
    "# both data samples are less than 50 rows, is the recommended test for this sample size\n",
    "# https://statistics.laerd.com/spss-tutorials/testing-for-normality-using-spss-statistics.php\n",
    "\n",
    "\n",
    "import statsmodels.api as sm\n",
    "from statsmodels.formula.api import ols\n",
    "from scipy import stats\n",
    "import scipy as scipy"
   ]
  },
  {
   "cell_type": "code",
   "execution_count": 11,
   "id": "308fe09a",
   "metadata": {},
   "outputs": [
    {
     "data": {
      "text/plain": [
       "ShapiroResult(statistic=0.8976963758468628, pvalue=0.007380156312137842)"
      ]
     },
     "execution_count": 11,
     "metadata": {},
     "output_type": "execute_result"
    }
   ],
   "source": [
    "# Shapiro wilk test with 'Value' as target variable\n",
    "\n",
    "#irl_shapiro = stats.shapiro(es_milk_df['Value'])\n",
    "\n",
    "stats.shapiro(es_milk_df['Value'])"
   ]
  },
  {
   "cell_type": "code",
   "execution_count": 12,
   "id": "c7888e74",
   "metadata": {},
   "outputs": [
    {
     "data": {
      "text/plain": [
       "ShapiroResult(statistic=0.9626172780990601, pvalue=0.5703385472297668)"
      ]
     },
     "execution_count": 12,
     "metadata": {},
     "output_type": "execute_result"
    }
   ],
   "source": [
    "# Shapiro wilk test with 'Value' as target variable\n",
    "\n",
    "#es_shapiro = stats.shapiro(irl_milk_df['Value'])\n",
    "\n",
    "stats.shapiro(irl_milk_df['Value'])"
   ]
  },
  {
   "cell_type": "code",
   "execution_count": null,
   "id": "12e62955",
   "metadata": {},
   "outputs": [],
   "source": []
  },
  {
   "cell_type": "code",
   "execution_count": null,
   "id": "5f8647e8",
   "metadata": {},
   "outputs": [],
   "source": []
  },
  {
   "cell_type": "code",
   "execution_count": null,
   "id": "8010a607",
   "metadata": {},
   "outputs": [],
   "source": []
  },
  {
   "cell_type": "code",
   "execution_count": null,
   "id": "b39af2a9",
   "metadata": {},
   "outputs": [],
   "source": []
  },
  {
   "cell_type": "code",
   "execution_count": null,
   "id": "ce7246a1",
   "metadata": {},
   "outputs": [],
   "source": []
  },
  {
   "cell_type": "code",
   "execution_count": null,
   "id": "965ddcee",
   "metadata": {},
   "outputs": [],
   "source": []
  },
  {
   "cell_type": "code",
   "execution_count": null,
   "id": "96809636",
   "metadata": {},
   "outputs": [],
   "source": []
  },
  {
   "cell_type": "code",
   "execution_count": null,
   "id": "1256cdcf",
   "metadata": {},
   "outputs": [],
   "source": []
  },
  {
   "cell_type": "code",
   "execution_count": null,
   "id": "9720a567",
   "metadata": {},
   "outputs": [],
   "source": []
  },
  {
   "cell_type": "code",
   "execution_count": null,
   "id": "457d6218",
   "metadata": {},
   "outputs": [],
   "source": []
  },
  {
   "cell_type": "code",
   "execution_count": null,
   "id": "59b9d4b8",
   "metadata": {},
   "outputs": [],
   "source": []
  },
  {
   "cell_type": "code",
   "execution_count": null,
   "id": "daebfebc",
   "metadata": {},
   "outputs": [],
   "source": []
  },
  {
   "cell_type": "code",
   "execution_count": null,
   "id": "63ab7f04",
   "metadata": {},
   "outputs": [],
   "source": []
  },
  {
   "cell_type": "code",
   "execution_count": null,
   "id": "9fbc76cb",
   "metadata": {},
   "outputs": [],
   "source": []
  },
  {
   "cell_type": "code",
   "execution_count": null,
   "id": "15d144a3",
   "metadata": {},
   "outputs": [],
   "source": []
  },
  {
   "cell_type": "code",
   "execution_count": null,
   "id": "b744eceb",
   "metadata": {},
   "outputs": [],
   "source": []
  },
  {
   "cell_type": "code",
   "execution_count": null,
   "id": "ded10ad2",
   "metadata": {},
   "outputs": [],
   "source": []
  },
  {
   "cell_type": "code",
   "execution_count": null,
   "id": "350d3b27",
   "metadata": {},
   "outputs": [],
   "source": []
  },
  {
   "cell_type": "code",
   "execution_count": null,
   "id": "2e964888",
   "metadata": {},
   "outputs": [],
   "source": []
  }
 ],
 "metadata": {
  "kernelspec": {
   "display_name": "Python 3 (ipykernel)",
   "language": "python",
   "name": "python3"
  },
  "language_info": {
   "codemirror_mode": {
    "name": "ipython",
    "version": 3
   },
   "file_extension": ".py",
   "mimetype": "text/x-python",
   "name": "python",
   "nbconvert_exporter": "python",
   "pygments_lexer": "ipython3",
   "version": "3.9.12"
  }
 },
 "nbformat": 4,
 "nbformat_minor": 5
}
