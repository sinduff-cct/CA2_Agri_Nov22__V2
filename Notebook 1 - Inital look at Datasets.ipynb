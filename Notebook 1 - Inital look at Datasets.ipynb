{
 "cells": [
  {
   "cell_type": "markdown",
   "id": "3ee92d15",
   "metadata": {},
   "source": [
    "## CA 2 - Review of Agriculture in Ireland\n",
    "\n",
    "### Organic food production\n",
    "\n",
    "Source = Eurostat"
   ]
  },
  {
   "cell_type": "code",
   "execution_count": 1,
   "id": "e37db901",
   "metadata": {},
   "outputs": [],
   "source": [
    "# Importing the libraries\n",
    "\n",
    "# libraries for graphics\n",
    "%matplotlib inline\n",
    "import matplotlib.pyplot as plt\n",
    "import seaborn as sns\n",
    "sns.set(color_codes=True)\n",
    "\n",
    "# create tables\n",
    "from tabulate import tabulate\n",
    "\n",
    "#graphics for calculations\n",
    "import numpy as np\n",
    "import pandas as pd\n",
    "\n",
    "\n",
    "# libraries for analysis\n",
    "import datetime \n",
    "import statistics\n",
    "from scipy.stats import binom\n",
    "from scipy.stats import poisson\n",
    "import pylab\n",
    "from scipy import stats\n"
   ]
  },
  {
   "cell_type": "markdown",
   "id": "956f76bb",
   "metadata": {},
   "source": [
    "### Step 1 - Import and view the dataframe"
   ]
  },
  {
   "cell_type": "code",
   "execution_count": 2,
   "id": "952a5c6f",
   "metadata": {},
   "outputs": [],
   "source": [
    "# Step 1 - import the dataframe\n",
    "\n",
    "Organic_food_df = pd.read_csv(\"Datasets/org_aprod_linear.csv\")"
   ]
  },
  {
   "cell_type": "code",
   "execution_count": 3,
   "id": "03b256be",
   "metadata": {},
   "outputs": [
    {
     "data": {
      "text/plain": [
       "(3935, 9)"
      ]
     },
     "execution_count": 3,
     "metadata": {},
     "output_type": "execute_result"
    }
   ],
   "source": [
    "# view the shape of the dataframe\n",
    "\n",
    "Organic_food_df.shape"
   ]
  },
  {
   "cell_type": "code",
   "execution_count": 4,
   "id": "f4e22dd7",
   "metadata": {},
   "outputs": [
    {
     "data": {
      "text/html": [
       "<div>\n",
       "<style scoped>\n",
       "    .dataframe tbody tr th:only-of-type {\n",
       "        vertical-align: middle;\n",
       "    }\n",
       "\n",
       "    .dataframe tbody tr th {\n",
       "        vertical-align: top;\n",
       "    }\n",
       "\n",
       "    .dataframe thead th {\n",
       "        text-align: right;\n",
       "    }\n",
       "</style>\n",
       "<table border=\"1\" class=\"dataframe\">\n",
       "  <thead>\n",
       "    <tr style=\"text-align: right;\">\n",
       "      <th></th>\n",
       "      <th>DATAFLOW</th>\n",
       "      <th>LAST UPDATE</th>\n",
       "      <th>freq</th>\n",
       "      <th>agriprod</th>\n",
       "      <th>unit</th>\n",
       "      <th>geo</th>\n",
       "      <th>TIME_PERIOD</th>\n",
       "      <th>OBS_VALUE</th>\n",
       "      <th>OBS_FLAG</th>\n",
       "    </tr>\n",
       "  </thead>\n",
       "  <tbody>\n",
       "    <tr>\n",
       "      <th>0</th>\n",
       "      <td>ESTAT:ORG_APROD(1.0)</td>\n",
       "      <td>02/12/22 23:00:00</td>\n",
       "      <td>A</td>\n",
       "      <td>B0010</td>\n",
       "      <td>T</td>\n",
       "      <td>BE</td>\n",
       "      <td>2016</td>\n",
       "      <td>5502.0</td>\n",
       "      <td>NaN</td>\n",
       "    </tr>\n",
       "    <tr>\n",
       "      <th>1</th>\n",
       "      <td>ESTAT:ORG_APROD(1.0)</td>\n",
       "      <td>02/12/22 23:00:00</td>\n",
       "      <td>A</td>\n",
       "      <td>B0010</td>\n",
       "      <td>T</td>\n",
       "      <td>BE</td>\n",
       "      <td>2017</td>\n",
       "      <td>7321.0</td>\n",
       "      <td>NaN</td>\n",
       "    </tr>\n",
       "    <tr>\n",
       "      <th>2</th>\n",
       "      <td>ESTAT:ORG_APROD(1.0)</td>\n",
       "      <td>02/12/22 23:00:00</td>\n",
       "      <td>A</td>\n",
       "      <td>B0010</td>\n",
       "      <td>T</td>\n",
       "      <td>BE</td>\n",
       "      <td>2018</td>\n",
       "      <td>8708.0</td>\n",
       "      <td>NaN</td>\n",
       "    </tr>\n",
       "    <tr>\n",
       "      <th>3</th>\n",
       "      <td>ESTAT:ORG_APROD(1.0)</td>\n",
       "      <td>02/12/22 23:00:00</td>\n",
       "      <td>A</td>\n",
       "      <td>B0010</td>\n",
       "      <td>T</td>\n",
       "      <td>BE</td>\n",
       "      <td>2019</td>\n",
       "      <td>9601.0</td>\n",
       "      <td>NaN</td>\n",
       "    </tr>\n",
       "    <tr>\n",
       "      <th>4</th>\n",
       "      <td>ESTAT:ORG_APROD(1.0)</td>\n",
       "      <td>02/12/22 23:00:00</td>\n",
       "      <td>A</td>\n",
       "      <td>B0010</td>\n",
       "      <td>T</td>\n",
       "      <td>BE</td>\n",
       "      <td>2020</td>\n",
       "      <td>10364.0</td>\n",
       "      <td>NaN</td>\n",
       "    </tr>\n",
       "  </tbody>\n",
       "</table>\n",
       "</div>"
      ],
      "text/plain": [
       "               DATAFLOW        LAST UPDATE freq agriprod unit geo  \\\n",
       "0  ESTAT:ORG_APROD(1.0)  02/12/22 23:00:00    A    B0010    T  BE   \n",
       "1  ESTAT:ORG_APROD(1.0)  02/12/22 23:00:00    A    B0010    T  BE   \n",
       "2  ESTAT:ORG_APROD(1.0)  02/12/22 23:00:00    A    B0010    T  BE   \n",
       "3  ESTAT:ORG_APROD(1.0)  02/12/22 23:00:00    A    B0010    T  BE   \n",
       "4  ESTAT:ORG_APROD(1.0)  02/12/22 23:00:00    A    B0010    T  BE   \n",
       "\n",
       "   TIME_PERIOD  OBS_VALUE OBS_FLAG  \n",
       "0         2016     5502.0      NaN  \n",
       "1         2017     7321.0      NaN  \n",
       "2         2018     8708.0      NaN  \n",
       "3         2019     9601.0      NaN  \n",
       "4         2020    10364.0      NaN  "
      ]
     },
     "execution_count": 4,
     "metadata": {},
     "output_type": "execute_result"
    }
   ],
   "source": [
    "# view the first lines of the dataframe\n",
    "\n",
    "Organic_food_df.head()"
   ]
  },
  {
   "cell_type": "code",
   "execution_count": 5,
   "id": "ac9988b0",
   "metadata": {},
   "outputs": [
    {
     "data": {
      "text/plain": [
       "DATAFLOW       3935\n",
       "LAST UPDATE    3935\n",
       "freq           3935\n",
       "agriprod       3935\n",
       "unit           3935\n",
       "geo            3935\n",
       "TIME_PERIOD    3935\n",
       "OBS_VALUE      3728\n",
       "OBS_FLAG        367\n",
       "dtype: int64"
      ]
     },
     "execution_count": 5,
     "metadata": {},
     "output_type": "execute_result"
    }
   ],
   "source": [
    "# Show the columns of the dataframe and count of values therein\n",
    "\n",
    "Organic_food_df.count()"
   ]
  },
  {
   "cell_type": "code",
   "execution_count": 6,
   "id": "8542b908",
   "metadata": {},
   "outputs": [
    {
     "name": "stdout",
     "output_type": "stream",
     "text": [
      "<class 'pandas.core.frame.DataFrame'>\n",
      "RangeIndex: 3935 entries, 0 to 3934\n",
      "Data columns (total 9 columns):\n",
      " #   Column       Non-Null Count  Dtype  \n",
      "---  ------       --------------  -----  \n",
      " 0   DATAFLOW     3935 non-null   object \n",
      " 1   LAST UPDATE  3935 non-null   object \n",
      " 2   freq         3935 non-null   object \n",
      " 3   agriprod     3935 non-null   object \n",
      " 4   unit         3935 non-null   object \n",
      " 5   geo          3935 non-null   object \n",
      " 6   TIME_PERIOD  3935 non-null   int64  \n",
      " 7   OBS_VALUE    3728 non-null   float64\n",
      " 8   OBS_FLAG     367 non-null    object \n",
      "dtypes: float64(1), int64(1), object(7)\n",
      "memory usage: 276.8+ KB\n"
     ]
    }
   ],
   "source": [
    "# display the \n",
    "\n",
    "Organic_food_df.info()"
   ]
  },
  {
   "cell_type": "markdown",
   "id": "e1c34c5f",
   "metadata": {},
   "source": [
    "#### Exploring the Contents of the Dataframe"
   ]
  },
  {
   "cell_type": "code",
   "execution_count": 7,
   "id": "4c094a6e",
   "metadata": {},
   "outputs": [
    {
     "name": "stdout",
     "output_type": "stream",
     "text": [
      "Number of duplicate rows in the dataframe:  (0, 9)\n"
     ]
    }
   ],
   "source": [
    "# check for duplicate rows of data\n",
    "\n",
    "duplicate_rows_df = Organic_food_df[Organic_food_df.duplicated()]\n",
    "\n",
    "print(\"Number of duplicate rows in the dataframe: \", duplicate_rows_df.shape)"
   ]
  },
  {
   "cell_type": "code",
   "execution_count": 8,
   "id": "65fb0f3d",
   "metadata": {},
   "outputs": [
    {
     "name": "stdout",
     "output_type": "stream",
     "text": [
      "DATAFLOW          0\n",
      "LAST UPDATE       0\n",
      "freq              0\n",
      "agriprod          0\n",
      "unit              0\n",
      "geo               0\n",
      "TIME_PERIOD       0\n",
      "OBS_VALUE       207\n",
      "OBS_FLAG       3568\n",
      "dtype: int64\n"
     ]
    }
   ],
   "source": [
    "# Check for null values in the dataframe \n",
    "\n",
    "print(Organic_food_df.isnull().sum())"
   ]
  },
  {
   "cell_type": "code",
   "execution_count": 9,
   "id": "e1478041",
   "metadata": {},
   "outputs": [
    {
     "data": {
      "text/plain": [
       "DATAFLOW          1\n",
       "LAST UPDATE       1\n",
       "freq              1\n",
       "agriprod         23\n",
       "unit              2\n",
       "geo              33\n",
       "TIME_PERIOD      10\n",
       "OBS_VALUE      1968\n",
       "OBS_FLAG          7\n",
       "dtype: int64"
      ]
     },
     "execution_count": 9,
     "metadata": {},
     "output_type": "execute_result"
    }
   ],
   "source": [
    "# count the unique values in the each column of the datafram\n",
    "\n",
    "Organic_food_df.nunique()"
   ]
  },
  {
   "cell_type": "code",
   "execution_count": 10,
   "id": "4dba2b11",
   "metadata": {},
   "outputs": [
    {
     "data": {
      "text/plain": [
       "agriprod\n",
       "B0010     30\n",
       "B1000     30\n",
       "B3100     30\n",
       "B4100     29\n",
       "B4200     28\n",
       "B5000     26\n",
       "B7000     30\n",
       "B7100     10\n",
       "B8000      8\n",
       "B9000     26\n",
       "D1100A    33\n",
       "D1110A    32\n",
       "D1120A    27\n",
       "D1130A    30\n",
       "D1140A    10\n",
       "D2100     31\n",
       "D2200     31\n",
       "D4100     31\n",
       "D6100     32\n",
       "D7100     32\n",
       "D8000H    33\n",
       "D9500     25\n",
       "D9910     24\n",
       "Name: geo, dtype: int64"
      ]
     },
     "execution_count": 10,
     "metadata": {},
     "output_type": "execute_result"
    }
   ],
   "source": [
    "# count unique 'agriprod' values, grouped by geo (country)\n",
    "\n",
    "Organic_food_df.groupby('agriprod')['geo'].nunique()"
   ]
  },
  {
   "cell_type": "code",
   "execution_count": 11,
   "id": "ab8df78a",
   "metadata": {},
   "outputs": [],
   "source": [
    "# count unique 'agriprod' values, grouped by geo (country)\n",
    "\n",
    "#Organic_food_df.groupby('geo')['agriprod'].nunique()"
   ]
  },
  {
   "cell_type": "code",
   "execution_count": 12,
   "id": "33531dd6",
   "metadata": {},
   "outputs": [],
   "source": [
    "#sns.pairplot(Organic_food_df, hue=\"geo\");"
   ]
  },
  {
   "cell_type": "code",
   "execution_count": 13,
   "id": "79510bd2",
   "metadata": {},
   "outputs": [],
   "source": [
    "#sns.pairplot(Organic_food_df, hue=\"agriprod\");"
   ]
  },
  {
   "cell_type": "markdown",
   "id": "c42ac01d",
   "metadata": {},
   "source": [
    "#### Data Preparation\n",
    "\n",
    "Actions carried out based on table 1 in accompanying word report."
   ]
  },
  {
   "cell_type": "code",
   "execution_count": 14,
   "id": "b20d23c6",
   "metadata": {},
   "outputs": [],
   "source": [
    "org_food_df = Organic_food_df.drop(['DATAFLOW', 'LAST UPDATE', 'freq', 'OBS_FLAG'], axis=1)"
   ]
  },
  {
   "cell_type": "code",
   "execution_count": 15,
   "id": "acdb5b19",
   "metadata": {},
   "outputs": [],
   "source": [
    "org_food_df.rename(columns = {\n",
    "    'unit':'Unit',\n",
    "    'geo':'Country',\n",
    "    'TIME_PERIOD':'Year',\n",
    "    'OBS_VALUE':'Value',\n",
    "    },\n",
    "      inplace=True)"
   ]
  },
  {
   "cell_type": "code",
   "execution_count": 16,
   "id": "a90667c5",
   "metadata": {},
   "outputs": [],
   "source": [
    "# replace values\n",
    "\n",
    "values_to_be_added = {\n",
    "    'D1100A':'Raw milk', \n",
    "    'D1110A':'Raw cows milk', \n",
    "    'D1120A':'Ewes milk', \n",
    "    'D1130A':'Goats milk', \n",
    "    'D1140A':'Buffalos milk', \n",
    "    'D2100':'Drinking milk', \n",
    "    'D2200':'Cream ', \n",
    "    'D4100':'yoghurts and other', \n",
    "    'D6100':'Butter', \n",
    "    'D7100':'Cheese', \n",
    "    'D9500':'Other organic dairy products', \n",
    "    'D8000H':'Eggs', \n",
    "    'D9910':'Honey', \n",
    "    'B1000':'Bovine meat',\n",
    "    'B0010':'Meat of livestock',\n",
    "    'B8000':'Meat of rabbits',\n",
    "    'B9000':'Other meat',\n",
    "    'B3100':'Pigmeat ',\n",
    "    'B4100':'Sheepmeat',\n",
    "    'B4200':'Goat meat',\n",
    "    'B5000':'Meat of horses etc',\n",
    "    'B7000':'Poultry meat',\n",
    "    'B7100':'Chicken',\n",
    "     }"
   ]
  },
  {
   "cell_type": "code",
   "execution_count": 17,
   "id": "a18f239e",
   "metadata": {},
   "outputs": [
    {
     "data": {
      "text/html": [
       "<div>\n",
       "<style scoped>\n",
       "    .dataframe tbody tr th:only-of-type {\n",
       "        vertical-align: middle;\n",
       "    }\n",
       "\n",
       "    .dataframe tbody tr th {\n",
       "        vertical-align: top;\n",
       "    }\n",
       "\n",
       "    .dataframe thead th {\n",
       "        text-align: right;\n",
       "    }\n",
       "</style>\n",
       "<table border=\"1\" class=\"dataframe\">\n",
       "  <thead>\n",
       "    <tr style=\"text-align: right;\">\n",
       "      <th></th>\n",
       "      <th>agriprod</th>\n",
       "      <th>Unit</th>\n",
       "      <th>Country</th>\n",
       "      <th>Year</th>\n",
       "      <th>Value</th>\n",
       "      <th>Description</th>\n",
       "    </tr>\n",
       "  </thead>\n",
       "  <tbody>\n",
       "    <tr>\n",
       "      <th>0</th>\n",
       "      <td>B0010</td>\n",
       "      <td>T</td>\n",
       "      <td>BE</td>\n",
       "      <td>2016</td>\n",
       "      <td>5502.0</td>\n",
       "      <td>Meat of livestock</td>\n",
       "    </tr>\n",
       "    <tr>\n",
       "      <th>1</th>\n",
       "      <td>B0010</td>\n",
       "      <td>T</td>\n",
       "      <td>BE</td>\n",
       "      <td>2017</td>\n",
       "      <td>7321.0</td>\n",
       "      <td>Meat of livestock</td>\n",
       "    </tr>\n",
       "    <tr>\n",
       "      <th>2</th>\n",
       "      <td>B0010</td>\n",
       "      <td>T</td>\n",
       "      <td>BE</td>\n",
       "      <td>2018</td>\n",
       "      <td>8708.0</td>\n",
       "      <td>Meat of livestock</td>\n",
       "    </tr>\n",
       "    <tr>\n",
       "      <th>3</th>\n",
       "      <td>B0010</td>\n",
       "      <td>T</td>\n",
       "      <td>BE</td>\n",
       "      <td>2019</td>\n",
       "      <td>9601.0</td>\n",
       "      <td>Meat of livestock</td>\n",
       "    </tr>\n",
       "    <tr>\n",
       "      <th>4</th>\n",
       "      <td>B0010</td>\n",
       "      <td>T</td>\n",
       "      <td>BE</td>\n",
       "      <td>2020</td>\n",
       "      <td>10364.0</td>\n",
       "      <td>Meat of livestock</td>\n",
       "    </tr>\n",
       "    <tr>\n",
       "      <th>...</th>\n",
       "      <td>...</td>\n",
       "      <td>...</td>\n",
       "      <td>...</td>\n",
       "      <td>...</td>\n",
       "      <td>...</td>\n",
       "      <td>...</td>\n",
       "    </tr>\n",
       "    <tr>\n",
       "      <th>3930</th>\n",
       "      <td>D9910</td>\n",
       "      <td>T</td>\n",
       "      <td>TR</td>\n",
       "      <td>2017</td>\n",
       "      <td>392.0</td>\n",
       "      <td>Honey</td>\n",
       "    </tr>\n",
       "    <tr>\n",
       "      <th>3931</th>\n",
       "      <td>D9910</td>\n",
       "      <td>T</td>\n",
       "      <td>TR</td>\n",
       "      <td>2018</td>\n",
       "      <td>495.0</td>\n",
       "      <td>Honey</td>\n",
       "    </tr>\n",
       "    <tr>\n",
       "      <th>3932</th>\n",
       "      <td>D9910</td>\n",
       "      <td>T</td>\n",
       "      <td>TR</td>\n",
       "      <td>2019</td>\n",
       "      <td>577.0</td>\n",
       "      <td>Honey</td>\n",
       "    </tr>\n",
       "    <tr>\n",
       "      <th>3933</th>\n",
       "      <td>D9910</td>\n",
       "      <td>T</td>\n",
       "      <td>TR</td>\n",
       "      <td>2021</td>\n",
       "      <td>1221.0</td>\n",
       "      <td>Honey</td>\n",
       "    </tr>\n",
       "    <tr>\n",
       "      <th>3934</th>\n",
       "      <td>D9910</td>\n",
       "      <td>T</td>\n",
       "      <td>UK</td>\n",
       "      <td>2019</td>\n",
       "      <td>0.0</td>\n",
       "      <td>Honey</td>\n",
       "    </tr>\n",
       "  </tbody>\n",
       "</table>\n",
       "<p>3935 rows × 6 columns</p>\n",
       "</div>"
      ],
      "text/plain": [
       "     agriprod Unit Country  Year    Value        Description\n",
       "0       B0010    T      BE  2016   5502.0  Meat of livestock\n",
       "1       B0010    T      BE  2017   7321.0  Meat of livestock\n",
       "2       B0010    T      BE  2018   8708.0  Meat of livestock\n",
       "3       B0010    T      BE  2019   9601.0  Meat of livestock\n",
       "4       B0010    T      BE  2020  10364.0  Meat of livestock\n",
       "...       ...  ...     ...   ...      ...                ...\n",
       "3930    D9910    T      TR  2017    392.0              Honey\n",
       "3931    D9910    T      TR  2018    495.0              Honey\n",
       "3932    D9910    T      TR  2019    577.0              Honey\n",
       "3933    D9910    T      TR  2021   1221.0              Honey\n",
       "3934    D9910    T      UK  2019      0.0              Honey\n",
       "\n",
       "[3935 rows x 6 columns]"
      ]
     },
     "execution_count": 17,
     "metadata": {},
     "output_type": "execute_result"
    }
   ],
   "source": [
    "# add a new column based on the code in 'agriprod' column\n",
    "# REFERENCE - https://sparkbyexamples.com/pandas/pandas-add-column-to-dataframe/\n",
    "\n",
    "org_food_df['Description'] = org_food_df['agriprod'].map(values_to_be_added)\n",
    "\n",
    "org_food_df"
   ]
  },
  {
   "cell_type": "code",
   "execution_count": 18,
   "id": "b72a58c0",
   "metadata": {},
   "outputs": [],
   "source": [
    "# replace values \n",
    "\n",
    "values_to_be_replaced = {\n",
    "    'D1100A':'Dairy', \n",
    "    'D1110A':'Dairy', \n",
    "    'D1120A':'Dairy', \n",
    "    'D1130A':'Dairy', \n",
    "    'D1140A':'Dairy', \n",
    "    'D2100':'Dairy', \n",
    "    'D2200':'Dairy', \n",
    "    'D4100':'Dairy', \n",
    "    'D6100':'Dairy', \n",
    "    'D7100':'Dairy', \n",
    "    'D9500':'Dairy', \n",
    "    'D8000H':'Eggs', \n",
    "    'D9910':'Honey', \n",
    "    'B1000':'Meat',\n",
    "    'B0010':'Meat',\n",
    "    'B8000':'Meat',\n",
    "    'B9000':'Meat',\n",
    "    'B3100':'Meat',\n",
    "    'B4100':'Meat',\n",
    "    'B4200':'Meat',\n",
    "    'B5000':'Meat',\n",
    "    'B7000':'Meat',\n",
    "    'B7100':'Meat',\n",
    "     }"
   ]
  },
  {
   "cell_type": "code",
   "execution_count": 19,
   "id": "ddb10a01",
   "metadata": {},
   "outputs": [
    {
     "data": {
      "text/html": [
       "<div>\n",
       "<style scoped>\n",
       "    .dataframe tbody tr th:only-of-type {\n",
       "        vertical-align: middle;\n",
       "    }\n",
       "\n",
       "    .dataframe tbody tr th {\n",
       "        vertical-align: top;\n",
       "    }\n",
       "\n",
       "    .dataframe thead th {\n",
       "        text-align: right;\n",
       "    }\n",
       "</style>\n",
       "<table border=\"1\" class=\"dataframe\">\n",
       "  <thead>\n",
       "    <tr style=\"text-align: right;\">\n",
       "      <th></th>\n",
       "      <th>agriprod</th>\n",
       "      <th>Unit</th>\n",
       "      <th>Country</th>\n",
       "      <th>Year</th>\n",
       "      <th>Value</th>\n",
       "      <th>Description</th>\n",
       "    </tr>\n",
       "  </thead>\n",
       "  <tbody>\n",
       "    <tr>\n",
       "      <th>0</th>\n",
       "      <td>Meat</td>\n",
       "      <td>T</td>\n",
       "      <td>BE</td>\n",
       "      <td>2016</td>\n",
       "      <td>5502.0</td>\n",
       "      <td>Meat of livestock</td>\n",
       "    </tr>\n",
       "    <tr>\n",
       "      <th>1</th>\n",
       "      <td>Meat</td>\n",
       "      <td>T</td>\n",
       "      <td>BE</td>\n",
       "      <td>2017</td>\n",
       "      <td>7321.0</td>\n",
       "      <td>Meat of livestock</td>\n",
       "    </tr>\n",
       "    <tr>\n",
       "      <th>2</th>\n",
       "      <td>Meat</td>\n",
       "      <td>T</td>\n",
       "      <td>BE</td>\n",
       "      <td>2018</td>\n",
       "      <td>8708.0</td>\n",
       "      <td>Meat of livestock</td>\n",
       "    </tr>\n",
       "    <tr>\n",
       "      <th>3</th>\n",
       "      <td>Meat</td>\n",
       "      <td>T</td>\n",
       "      <td>BE</td>\n",
       "      <td>2019</td>\n",
       "      <td>9601.0</td>\n",
       "      <td>Meat of livestock</td>\n",
       "    </tr>\n",
       "    <tr>\n",
       "      <th>4</th>\n",
       "      <td>Meat</td>\n",
       "      <td>T</td>\n",
       "      <td>BE</td>\n",
       "      <td>2020</td>\n",
       "      <td>10364.0</td>\n",
       "      <td>Meat of livestock</td>\n",
       "    </tr>\n",
       "    <tr>\n",
       "      <th>...</th>\n",
       "      <td>...</td>\n",
       "      <td>...</td>\n",
       "      <td>...</td>\n",
       "      <td>...</td>\n",
       "      <td>...</td>\n",
       "      <td>...</td>\n",
       "    </tr>\n",
       "    <tr>\n",
       "      <th>3930</th>\n",
       "      <td>Honey</td>\n",
       "      <td>T</td>\n",
       "      <td>TR</td>\n",
       "      <td>2017</td>\n",
       "      <td>392.0</td>\n",
       "      <td>Honey</td>\n",
       "    </tr>\n",
       "    <tr>\n",
       "      <th>3931</th>\n",
       "      <td>Honey</td>\n",
       "      <td>T</td>\n",
       "      <td>TR</td>\n",
       "      <td>2018</td>\n",
       "      <td>495.0</td>\n",
       "      <td>Honey</td>\n",
       "    </tr>\n",
       "    <tr>\n",
       "      <th>3932</th>\n",
       "      <td>Honey</td>\n",
       "      <td>T</td>\n",
       "      <td>TR</td>\n",
       "      <td>2019</td>\n",
       "      <td>577.0</td>\n",
       "      <td>Honey</td>\n",
       "    </tr>\n",
       "    <tr>\n",
       "      <th>3933</th>\n",
       "      <td>Honey</td>\n",
       "      <td>T</td>\n",
       "      <td>TR</td>\n",
       "      <td>2021</td>\n",
       "      <td>1221.0</td>\n",
       "      <td>Honey</td>\n",
       "    </tr>\n",
       "    <tr>\n",
       "      <th>3934</th>\n",
       "      <td>Honey</td>\n",
       "      <td>T</td>\n",
       "      <td>UK</td>\n",
       "      <td>2019</td>\n",
       "      <td>0.0</td>\n",
       "      <td>Honey</td>\n",
       "    </tr>\n",
       "  </tbody>\n",
       "</table>\n",
       "<p>3935 rows × 6 columns</p>\n",
       "</div>"
      ],
      "text/plain": [
       "     agriprod Unit Country  Year    Value        Description\n",
       "0        Meat    T      BE  2016   5502.0  Meat of livestock\n",
       "1        Meat    T      BE  2017   7321.0  Meat of livestock\n",
       "2        Meat    T      BE  2018   8708.0  Meat of livestock\n",
       "3        Meat    T      BE  2019   9601.0  Meat of livestock\n",
       "4        Meat    T      BE  2020  10364.0  Meat of livestock\n",
       "...       ...  ...     ...   ...      ...                ...\n",
       "3930    Honey    T      TR  2017    392.0              Honey\n",
       "3931    Honey    T      TR  2018    495.0              Honey\n",
       "3932    Honey    T      TR  2019    577.0              Honey\n",
       "3933    Honey    T      TR  2021   1221.0              Honey\n",
       "3934    Honey    T      UK  2019      0.0              Honey\n",
       "\n",
       "[3935 rows x 6 columns]"
      ]
     },
     "execution_count": 19,
     "metadata": {},
     "output_type": "execute_result"
    }
   ],
   "source": [
    "\n",
    "org_food_df['agriprod'] = org_food_df['agriprod'].map(values_to_be_replaced)\n",
    "\n",
    "org_food_df"
   ]
  },
  {
   "cell_type": "code",
   "execution_count": 20,
   "id": "ae837911",
   "metadata": {},
   "outputs": [
    {
     "data": {
      "text/plain": [
       "array(['Meat', 'Dairy', 'Eggs', 'Honey'], dtype=object)"
      ]
     },
     "execution_count": 20,
     "metadata": {},
     "output_type": "execute_result"
    }
   ],
   "source": [
    "org_food_df.agriprod.unique()"
   ]
  },
  {
   "cell_type": "code",
   "execution_count": 21,
   "id": "aa9dc059",
   "metadata": {},
   "outputs": [
    {
     "data": {
      "text/plain": [
       "agriprod\n",
       "Dairy    33\n",
       "Eggs     33\n",
       "Honey    24\n",
       "Meat     31\n",
       "Name: Country, dtype: int64"
      ]
     },
     "execution_count": 21,
     "metadata": {},
     "output_type": "execute_result"
    }
   ],
   "source": [
    "org_food_df.groupby('agriprod')['Country'].nunique()"
   ]
  },
  {
   "cell_type": "code",
   "execution_count": 22,
   "id": "cb89659b",
   "metadata": {},
   "outputs": [],
   "source": [
    "# test to see if 'Diary' substitution was made\n",
    "\n",
    "#df1=org_food_df.query(\"agriprod == 'Dairy'\")\n",
    "\n",
    "#df1"
   ]
  },
  {
   "cell_type": "markdown",
   "id": "bbeedbf6",
   "metadata": {},
   "source": [
    "#### Encode Geo data to iban\n",
    "\n",
    "#read country codes\n",
    "\n",
    "country_codes = pd.read_csv('country_codes.tsv',sep='\\t')"
   ]
  },
  {
   "cell_type": "code",
   "execution_count": 23,
   "id": "271d865f",
   "metadata": {},
   "outputs": [],
   "source": [
    "#read country codes\n",
    "\n",
    "#country_codes = pd.read_csv('Datasets/country_codes.tsv',sep='\\t')"
   ]
  },
  {
   "cell_type": "code",
   "execution_count": 24,
   "id": "39987c14",
   "metadata": {},
   "outputs": [],
   "source": [
    "#country_codes.info()"
   ]
  },
  {
   "cell_type": "code",
   "execution_count": 25,
   "id": "b0fc1c7a",
   "metadata": {},
   "outputs": [],
   "source": [
    "# Merge the datasets using concatenate and reeset the index\n",
    "\n",
    "# join the dataframe together using concatenate \n",
    "\n",
    "\n",
    "#joined_df = pd.merge(org_food_df,\n",
    "#                    country_codes[['Alpha-2 code']],\n",
    "#                    on='Country',\n",
    "#                    how='outer',\n",
    "#                    indicator=True)"
   ]
  },
  {
   "cell_type": "code",
   "execution_count": 26,
   "id": "a11a81ed",
   "metadata": {},
   "outputs": [],
   "source": [
    "#joined_df"
   ]
  },
  {
   "cell_type": "code",
   "execution_count": null,
   "id": "f757e830",
   "metadata": {},
   "outputs": [],
   "source": []
  },
  {
   "cell_type": "code",
   "execution_count": null,
   "id": "f4239121",
   "metadata": {},
   "outputs": [],
   "source": []
  },
  {
   "cell_type": "code",
   "execution_count": null,
   "id": "4bb4ebd9",
   "metadata": {},
   "outputs": [],
   "source": []
  },
  {
   "cell_type": "code",
   "execution_count": null,
   "id": "c9900a67",
   "metadata": {},
   "outputs": [],
   "source": []
  },
  {
   "cell_type": "markdown",
   "id": "ada6001c",
   "metadata": {},
   "source": [
    "## One Hot Encoding"
   ]
  },
  {
   "cell_type": "code",
   "execution_count": 27,
   "id": "242f4a75",
   "metadata": {},
   "outputs": [],
   "source": [
    "df2 = org_food_df"
   ]
  },
  {
   "cell_type": "code",
   "execution_count": 28,
   "id": "cf8eb9b3",
   "metadata": {},
   "outputs": [],
   "source": [
    "from sklearn.preprocessing import OneHotEncoder"
   ]
  },
  {
   "cell_type": "code",
   "execution_count": 29,
   "id": "1b5b91f9",
   "metadata": {},
   "outputs": [],
   "source": [
    "#creating instance of one-hot-encoder\n",
    "encoder = OneHotEncoder(handle_unknown='ignore')"
   ]
  },
  {
   "cell_type": "code",
   "execution_count": 30,
   "id": "99b4e7f8",
   "metadata": {},
   "outputs": [],
   "source": [
    "#perform one-hot encoding on the 'agriprod' column \n",
    "\n",
    "encoder_df = pd.DataFrame(encoder.fit_transform(df2[['agriprod']]).toarray())"
   ]
  },
  {
   "cell_type": "code",
   "execution_count": 31,
   "id": "d35972fe",
   "metadata": {},
   "outputs": [],
   "source": [
    "#merge one-hot encoded columns back with original DataFrame\n",
    "\n",
    "final_df = df2.join(encoder_df)"
   ]
  },
  {
   "cell_type": "code",
   "execution_count": 32,
   "id": "ee409786",
   "metadata": {},
   "outputs": [
    {
     "name": "stdout",
     "output_type": "stream",
     "text": [
      "     agriprod Unit Country  Year    Value        Description    0    1    2  \\\n",
      "0        Meat    T      BE  2016   5502.0  Meat of livestock  0.0  0.0  0.0   \n",
      "1        Meat    T      BE  2017   7321.0  Meat of livestock  0.0  0.0  0.0   \n",
      "2        Meat    T      BE  2018   8708.0  Meat of livestock  0.0  0.0  0.0   \n",
      "3        Meat    T      BE  2019   9601.0  Meat of livestock  0.0  0.0  0.0   \n",
      "4        Meat    T      BE  2020  10364.0  Meat of livestock  0.0  0.0  0.0   \n",
      "...       ...  ...     ...   ...      ...                ...  ...  ...  ...   \n",
      "3930    Honey    T      TR  2017    392.0              Honey  0.0  0.0  1.0   \n",
      "3931    Honey    T      TR  2018    495.0              Honey  0.0  0.0  1.0   \n",
      "3932    Honey    T      TR  2019    577.0              Honey  0.0  0.0  1.0   \n",
      "3933    Honey    T      TR  2021   1221.0              Honey  0.0  0.0  1.0   \n",
      "3934    Honey    T      UK  2019      0.0              Honey  0.0  0.0  1.0   \n",
      "\n",
      "        3  \n",
      "0     1.0  \n",
      "1     1.0  \n",
      "2     1.0  \n",
      "3     1.0  \n",
      "4     1.0  \n",
      "...   ...  \n",
      "3930  0.0  \n",
      "3931  0.0  \n",
      "3932  0.0  \n",
      "3933  0.0  \n",
      "3934  0.0  \n",
      "\n",
      "[3935 rows x 10 columns]\n"
     ]
    }
   ],
   "source": [
    "#view final df\n",
    "\n",
    "print(final_df)"
   ]
  },
  {
   "cell_type": "code",
   "execution_count": 33,
   "id": "339ac2ed",
   "metadata": {},
   "outputs": [],
   "source": [
    "# rename columns '0', '1', 2' and '3'\n",
    "\n",
    "final_df.rename(columns = {'0':'Dairy', '1':'Eggs', '2':'Honey', '3':'Meat'}, inplace = True )"
   ]
  },
  {
   "cell_type": "code",
   "execution_count": 34,
   "id": "d6f30479",
   "metadata": {},
   "outputs": [],
   "source": [
    "# print to new .csv file\n",
    "\n",
    "final_df.to_csv('Datasets/org_ds.csv')"
   ]
  },
  {
   "cell_type": "markdown",
   "id": "73daedcb",
   "metadata": {},
   "source": [
    "## split DF into 3 df's for analysis"
   ]
  },
  {
   "cell_type": "code",
   "execution_count": 35,
   "id": "567a7047",
   "metadata": {},
   "outputs": [],
   "source": [
    "# import prepared df\n",
    "\n",
    "org_df = pd.read_csv(\"Datasets/org_ds2.csv\")"
   ]
  },
  {
   "cell_type": "code",
   "execution_count": 36,
   "id": "36f2e588",
   "metadata": {},
   "outputs": [
    {
     "data": {
      "text/html": [
       "<div>\n",
       "<style scoped>\n",
       "    .dataframe tbody tr th:only-of-type {\n",
       "        vertical-align: middle;\n",
       "    }\n",
       "\n",
       "    .dataframe tbody tr th {\n",
       "        vertical-align: top;\n",
       "    }\n",
       "\n",
       "    .dataframe thead th {\n",
       "        text-align: right;\n",
       "    }\n",
       "</style>\n",
       "<table border=\"1\" class=\"dataframe\">\n",
       "  <thead>\n",
       "    <tr style=\"text-align: right;\">\n",
       "      <th></th>\n",
       "      <th>agriprod</th>\n",
       "      <th>Unit</th>\n",
       "      <th>Country</th>\n",
       "      <th>Year</th>\n",
       "      <th>Value</th>\n",
       "      <th>Description</th>\n",
       "      <th>Dairy</th>\n",
       "      <th>Eggs</th>\n",
       "      <th>Honey</th>\n",
       "      <th>Meat</th>\n",
       "    </tr>\n",
       "  </thead>\n",
       "  <tbody>\n",
       "    <tr>\n",
       "      <th>0</th>\n",
       "      <td>Meat</td>\n",
       "      <td>T</td>\n",
       "      <td>BE</td>\n",
       "      <td>2016</td>\n",
       "      <td>5502.0</td>\n",
       "      <td>Meat of livestock</td>\n",
       "      <td>0</td>\n",
       "      <td>0</td>\n",
       "      <td>0</td>\n",
       "      <td>1</td>\n",
       "    </tr>\n",
       "    <tr>\n",
       "      <th>1</th>\n",
       "      <td>Meat</td>\n",
       "      <td>T</td>\n",
       "      <td>BE</td>\n",
       "      <td>2017</td>\n",
       "      <td>7321.0</td>\n",
       "      <td>Meat of livestock</td>\n",
       "      <td>0</td>\n",
       "      <td>0</td>\n",
       "      <td>0</td>\n",
       "      <td>1</td>\n",
       "    </tr>\n",
       "    <tr>\n",
       "      <th>2</th>\n",
       "      <td>Meat</td>\n",
       "      <td>T</td>\n",
       "      <td>BE</td>\n",
       "      <td>2018</td>\n",
       "      <td>8708.0</td>\n",
       "      <td>Meat of livestock</td>\n",
       "      <td>0</td>\n",
       "      <td>0</td>\n",
       "      <td>0</td>\n",
       "      <td>1</td>\n",
       "    </tr>\n",
       "    <tr>\n",
       "      <th>3</th>\n",
       "      <td>Meat</td>\n",
       "      <td>T</td>\n",
       "      <td>BE</td>\n",
       "      <td>2019</td>\n",
       "      <td>9601.0</td>\n",
       "      <td>Meat of livestock</td>\n",
       "      <td>0</td>\n",
       "      <td>0</td>\n",
       "      <td>0</td>\n",
       "      <td>1</td>\n",
       "    </tr>\n",
       "    <tr>\n",
       "      <th>4</th>\n",
       "      <td>Meat</td>\n",
       "      <td>T</td>\n",
       "      <td>BE</td>\n",
       "      <td>2020</td>\n",
       "      <td>10364.0</td>\n",
       "      <td>Meat of livestock</td>\n",
       "      <td>0</td>\n",
       "      <td>0</td>\n",
       "      <td>0</td>\n",
       "      <td>1</td>\n",
       "    </tr>\n",
       "  </tbody>\n",
       "</table>\n",
       "</div>"
      ],
      "text/plain": [
       "  agriprod Unit Country  Year    Value        Description  Dairy  Eggs  Honey  \\\n",
       "0     Meat    T      BE  2016   5502.0  Meat of livestock      0     0      0   \n",
       "1     Meat    T      BE  2017   7321.0  Meat of livestock      0     0      0   \n",
       "2     Meat    T      BE  2018   8708.0  Meat of livestock      0     0      0   \n",
       "3     Meat    T      BE  2019   9601.0  Meat of livestock      0     0      0   \n",
       "4     Meat    T      BE  2020  10364.0  Meat of livestock      0     0      0   \n",
       "\n",
       "   Meat  \n",
       "0     1  \n",
       "1     1  \n",
       "2     1  \n",
       "3     1  \n",
       "4     1  "
      ]
     },
     "execution_count": 36,
     "metadata": {},
     "output_type": "execute_result"
    }
   ],
   "source": [
    "org_df.head()"
   ]
  },
  {
   "cell_type": "code",
   "execution_count": 37,
   "id": "eda35ce1",
   "metadata": {},
   "outputs": [],
   "source": [
    "# split dataframe by 'agriprod'\n",
    "\n",
    "# REFERENCE - https://towardsdatascience.com/filtering-data-frames-in-pandas-b570b1f834b9\n",
    "\n",
    "dairy_df = org_df[org_df['agriprod']=='Dairy']\n",
    "\n",
    "#eggs_df = org_df[org_df['agriprod']=='Eggs']\n",
    "#honey_df = org_df[org_df['agriprod']=='Honey']\n",
    "#meat_df = org_df[org_df['agriprod']=='Meat']\n"
   ]
  },
  {
   "cell_type": "code",
   "execution_count": 68,
   "id": "dceeb518",
   "metadata": {},
   "outputs": [],
   "source": [
    "# update values to reflect all raw cows milk\n",
    "\n",
    "milk_values_to_be_replaced = { \n",
    "    'Raw cows milk':'Raw milk', \n",
    "    'Drinking milk':'Raw milk',\n",
    "     }"
   ]
  },
  {
   "cell_type": "code",
   "execution_count": 69,
   "id": "89568e56",
   "metadata": {},
   "outputs": [
    {
     "data": {
      "text/html": [
       "<div>\n",
       "<style scoped>\n",
       "    .dataframe tbody tr th:only-of-type {\n",
       "        vertical-align: middle;\n",
       "    }\n",
       "\n",
       "    .dataframe tbody tr th {\n",
       "        vertical-align: top;\n",
       "    }\n",
       "\n",
       "    .dataframe thead th {\n",
       "        text-align: right;\n",
       "    }\n",
       "</style>\n",
       "<table border=\"1\" class=\"dataframe\">\n",
       "  <thead>\n",
       "    <tr style=\"text-align: right;\">\n",
       "      <th></th>\n",
       "      <th>agriprod</th>\n",
       "      <th>Unit</th>\n",
       "      <th>Country</th>\n",
       "      <th>Year</th>\n",
       "      <th>Value</th>\n",
       "      <th>Description</th>\n",
       "      <th>Dairy</th>\n",
       "      <th>Eggs</th>\n",
       "      <th>Honey</th>\n",
       "      <th>Meat</th>\n",
       "    </tr>\n",
       "  </thead>\n",
       "  <tbody>\n",
       "    <tr>\n",
       "      <th>1340</th>\n",
       "      <td>NaN</td>\n",
       "      <td>NaN</td>\n",
       "      <td>NaN</td>\n",
       "      <td>NaN</td>\n",
       "      <td>NaN</td>\n",
       "      <td>NaN</td>\n",
       "      <td>NaN</td>\n",
       "      <td>NaN</td>\n",
       "      <td>NaN</td>\n",
       "      <td>NaN</td>\n",
       "    </tr>\n",
       "    <tr>\n",
       "      <th>1341</th>\n",
       "      <td>NaN</td>\n",
       "      <td>NaN</td>\n",
       "      <td>NaN</td>\n",
       "      <td>NaN</td>\n",
       "      <td>NaN</td>\n",
       "      <td>NaN</td>\n",
       "      <td>NaN</td>\n",
       "      <td>NaN</td>\n",
       "      <td>NaN</td>\n",
       "      <td>NaN</td>\n",
       "    </tr>\n",
       "    <tr>\n",
       "      <th>1342</th>\n",
       "      <td>NaN</td>\n",
       "      <td>NaN</td>\n",
       "      <td>NaN</td>\n",
       "      <td>NaN</td>\n",
       "      <td>NaN</td>\n",
       "      <td>NaN</td>\n",
       "      <td>NaN</td>\n",
       "      <td>NaN</td>\n",
       "      <td>NaN</td>\n",
       "      <td>NaN</td>\n",
       "    </tr>\n",
       "    <tr>\n",
       "      <th>1343</th>\n",
       "      <td>NaN</td>\n",
       "      <td>NaN</td>\n",
       "      <td>NaN</td>\n",
       "      <td>NaN</td>\n",
       "      <td>NaN</td>\n",
       "      <td>NaN</td>\n",
       "      <td>NaN</td>\n",
       "      <td>NaN</td>\n",
       "      <td>NaN</td>\n",
       "      <td>NaN</td>\n",
       "    </tr>\n",
       "    <tr>\n",
       "      <th>1344</th>\n",
       "      <td>NaN</td>\n",
       "      <td>NaN</td>\n",
       "      <td>NaN</td>\n",
       "      <td>NaN</td>\n",
       "      <td>NaN</td>\n",
       "      <td>NaN</td>\n",
       "      <td>NaN</td>\n",
       "      <td>NaN</td>\n",
       "      <td>NaN</td>\n",
       "      <td>NaN</td>\n",
       "    </tr>\n",
       "    <tr>\n",
       "      <th>...</th>\n",
       "      <td>...</td>\n",
       "      <td>...</td>\n",
       "      <td>...</td>\n",
       "      <td>...</td>\n",
       "      <td>...</td>\n",
       "      <td>...</td>\n",
       "      <td>...</td>\n",
       "      <td>...</td>\n",
       "      <td>...</td>\n",
       "      <td>...</td>\n",
       "    </tr>\n",
       "    <tr>\n",
       "      <th>3797</th>\n",
       "      <td>NaN</td>\n",
       "      <td>NaN</td>\n",
       "      <td>NaN</td>\n",
       "      <td>NaN</td>\n",
       "      <td>NaN</td>\n",
       "      <td>NaN</td>\n",
       "      <td>NaN</td>\n",
       "      <td>NaN</td>\n",
       "      <td>NaN</td>\n",
       "      <td>NaN</td>\n",
       "    </tr>\n",
       "    <tr>\n",
       "      <th>3798</th>\n",
       "      <td>NaN</td>\n",
       "      <td>NaN</td>\n",
       "      <td>NaN</td>\n",
       "      <td>NaN</td>\n",
       "      <td>NaN</td>\n",
       "      <td>NaN</td>\n",
       "      <td>NaN</td>\n",
       "      <td>NaN</td>\n",
       "      <td>NaN</td>\n",
       "      <td>NaN</td>\n",
       "    </tr>\n",
       "    <tr>\n",
       "      <th>3799</th>\n",
       "      <td>NaN</td>\n",
       "      <td>NaN</td>\n",
       "      <td>NaN</td>\n",
       "      <td>NaN</td>\n",
       "      <td>NaN</td>\n",
       "      <td>NaN</td>\n",
       "      <td>NaN</td>\n",
       "      <td>NaN</td>\n",
       "      <td>NaN</td>\n",
       "      <td>NaN</td>\n",
       "    </tr>\n",
       "    <tr>\n",
       "      <th>3800</th>\n",
       "      <td>NaN</td>\n",
       "      <td>NaN</td>\n",
       "      <td>NaN</td>\n",
       "      <td>NaN</td>\n",
       "      <td>NaN</td>\n",
       "      <td>NaN</td>\n",
       "      <td>NaN</td>\n",
       "      <td>NaN</td>\n",
       "      <td>NaN</td>\n",
       "      <td>NaN</td>\n",
       "    </tr>\n",
       "    <tr>\n",
       "      <th>3801</th>\n",
       "      <td>NaN</td>\n",
       "      <td>NaN</td>\n",
       "      <td>NaN</td>\n",
       "      <td>NaN</td>\n",
       "      <td>NaN</td>\n",
       "      <td>NaN</td>\n",
       "      <td>NaN</td>\n",
       "      <td>NaN</td>\n",
       "      <td>NaN</td>\n",
       "      <td>NaN</td>\n",
       "    </tr>\n",
       "  </tbody>\n",
       "</table>\n",
       "<p>2200 rows × 10 columns</p>\n",
       "</div>"
      ],
      "text/plain": [
       "     agriprod Unit Country  Year  Value Description  Dairy  Eggs  Honey  Meat\n",
       "1340      NaN  NaN     NaN   NaN    NaN         NaN    NaN   NaN    NaN   NaN\n",
       "1341      NaN  NaN     NaN   NaN    NaN         NaN    NaN   NaN    NaN   NaN\n",
       "1342      NaN  NaN     NaN   NaN    NaN         NaN    NaN   NaN    NaN   NaN\n",
       "1343      NaN  NaN     NaN   NaN    NaN         NaN    NaN   NaN    NaN   NaN\n",
       "1344      NaN  NaN     NaN   NaN    NaN         NaN    NaN   NaN    NaN   NaN\n",
       "...       ...  ...     ...   ...    ...         ...    ...   ...    ...   ...\n",
       "3797      NaN  NaN     NaN   NaN    NaN         NaN    NaN   NaN    NaN   NaN\n",
       "3798      NaN  NaN     NaN   NaN    NaN         NaN    NaN   NaN    NaN   NaN\n",
       "3799      NaN  NaN     NaN   NaN    NaN         NaN    NaN   NaN    NaN   NaN\n",
       "3800      NaN  NaN     NaN   NaN    NaN         NaN    NaN   NaN    NaN   NaN\n",
       "3801      NaN  NaN     NaN   NaN    NaN         NaN    NaN   NaN    NaN   NaN\n",
       "\n",
       "[2200 rows x 10 columns]"
      ]
     },
     "execution_count": 69,
     "metadata": {},
     "output_type": "execute_result"
    }
   ],
   "source": [
    "milk_df['Description'] = dairy_df['Description'].map(milk_values_to_be_replaced)\n",
    "\n",
    "milk_df"
   ]
  },
  {
   "cell_type": "code",
   "execution_count": 70,
   "id": "b5d63f14",
   "metadata": {},
   "outputs": [],
   "source": [
    "milk_df = dairy_df[dairy_df['Description']=='Raw milk']"
   ]
  },
  {
   "cell_type": "code",
   "execution_count": 71,
   "id": "e45491e4",
   "metadata": {},
   "outputs": [],
   "source": [
    "milk_df = milk_df.drop(['Meat', 'Honey', 'Eggs'], axis=1)"
   ]
  },
  {
   "cell_type": "code",
   "execution_count": 72,
   "id": "33e71e50",
   "metadata": {},
   "outputs": [
    {
     "name": "stdout",
     "output_type": "stream",
     "text": [
      "<class 'pandas.core.frame.DataFrame'>\n",
      "Int64Index: 0 entries\n",
      "Data columns (total 7 columns):\n",
      " #   Column       Non-Null Count  Dtype  \n",
      "---  ------       --------------  -----  \n",
      " 0   agriprod     0 non-null      object \n",
      " 1   Unit         0 non-null      object \n",
      " 2   Country      0 non-null      object \n",
      " 3   Year         0 non-null      int64  \n",
      " 4   Value        0 non-null      float64\n",
      " 5   Description  0 non-null      object \n",
      " 6   Dairy        0 non-null      int64  \n",
      "dtypes: float64(1), int64(2), object(4)\n",
      "memory usage: 0.0+ bytes\n"
     ]
    }
   ],
   "source": [
    "milk_df.info()"
   ]
  },
  {
   "cell_type": "code",
   "execution_count": null,
   "id": "cf0fe595",
   "metadata": {},
   "outputs": [],
   "source": []
  },
  {
   "cell_type": "markdown",
   "id": "87a50624",
   "metadata": {},
   "source": [
    "## test for normal data\n",
    "\n",
    "test to see if data is normal"
   ]
  },
  {
   "cell_type": "markdown",
   "id": "0f57669d",
   "metadata": {},
   "source": [
    "\n",
    "#### Heatmap reference\n",
    "\n",
    "https://towardsdatascience.com/5-ways-to-use-a-seaborn-heatmap-python-tutorial-c79950f5add3"
   ]
  },
  {
   "cell_type": "code",
   "execution_count": 60,
   "id": "826398e8",
   "metadata": {},
   "outputs": [
    {
     "data": {
      "text/html": [
       "<div>\n",
       "<style scoped>\n",
       "    .dataframe tbody tr th:only-of-type {\n",
       "        vertical-align: middle;\n",
       "    }\n",
       "\n",
       "    .dataframe tbody tr th {\n",
       "        vertical-align: top;\n",
       "    }\n",
       "\n",
       "    .dataframe thead th {\n",
       "        text-align: right;\n",
       "    }\n",
       "</style>\n",
       "<table border=\"1\" class=\"dataframe\">\n",
       "  <thead>\n",
       "    <tr style=\"text-align: right;\">\n",
       "      <th></th>\n",
       "      <th>Year</th>\n",
       "      <th>Value</th>\n",
       "      <th>Dairy</th>\n",
       "    </tr>\n",
       "  </thead>\n",
       "  <tbody>\n",
       "    <tr>\n",
       "      <th>Year</th>\n",
       "      <td>1.000000</td>\n",
       "      <td>0.059477</td>\n",
       "      <td>NaN</td>\n",
       "    </tr>\n",
       "    <tr>\n",
       "      <th>Value</th>\n",
       "      <td>0.059477</td>\n",
       "      <td>1.000000</td>\n",
       "      <td>NaN</td>\n",
       "    </tr>\n",
       "    <tr>\n",
       "      <th>Dairy</th>\n",
       "      <td>NaN</td>\n",
       "      <td>NaN</td>\n",
       "      <td>NaN</td>\n",
       "    </tr>\n",
       "  </tbody>\n",
       "</table>\n",
       "</div>"
      ],
      "text/plain": [
       "           Year     Value  Dairy\n",
       "Year   1.000000  0.059477    NaN\n",
       "Value  0.059477  1.000000    NaN\n",
       "Dairy       NaN       NaN    NaN"
      ]
     },
     "execution_count": 60,
     "metadata": {},
     "output_type": "execute_result"
    },
    {
     "data": {
      "image/png": "[encoded data removed]",
      "text/plain": [
       "<Figure size 1000x1000 with 2 Axes>"
      ]
     },
     "metadata": {},
     "output_type": "display_data"
    }
   ],
   "source": [
    "# Heatmap for Milk Production \n",
    "\n",
    "#REFERENCE: https://seaborn.pydata.org/generated/seaborn.heatmap.html?highlight=heatmap#seaborn.heatmap\n",
    "\n",
    "plt.figure(figsize=(10,10))\n",
    "milk_corr = milk_df.corr()\n",
    "sns.heatmap(milk_corr, annot=True);\n",
    "plt.title(\"Heatmap of Organic Milk Production\")\n",
    "milk_corr"
   ]
  },
  {
   "cell_type": "code",
   "execution_count": 42,
   "id": "e1b2130d",
   "metadata": {},
   "outputs": [],
   "source": [
    "# Heatmap \n",
    "\n",
    "#REFERENCE: https://seaborn.pydata.org/generated/seaborn.heatmap.html?highlight=heatmap#seaborn.heatmap\n",
    "\n",
    "#plt.figure(figsize=(10,10))\n",
    "#meat_corr = meat_df.corr()\n",
    "#sns.heatmap(meat_corr, annot=True);\n",
    "#plt.title(\"Heatmap of Organic Meat Production\")\n",
    "#meat_corr"
   ]
  },
  {
   "cell_type": "code",
   "execution_count": 43,
   "id": "5110f92b",
   "metadata": {},
   "outputs": [],
   "source": [
    "# Heatmap \n",
    "\n",
    "#REFERENCE: https://seaborn.pydata.org/generated/seaborn.heatmap.html?highlight=heatmap#seaborn.heatmap\n",
    "\n",
    "#plt.figure(figsize=(10,10))\n",
    "#dairy_corr = dairy_df.corr()\n",
    "#sns.heatmap(dairy_corr, annot=True);\n",
    "#plt.title(\"Heatmap of Organic Dairy Production\")\n",
    "#dairy_corr"
   ]
  },
  {
   "cell_type": "code",
   "execution_count": 44,
   "id": "074c6186",
   "metadata": {},
   "outputs": [],
   "source": [
    "# Heatmap \n",
    "\n",
    "#REFERENCE: https://seaborn.pydata.org/generated/seaborn.heatmap.html?highlight=heatmap#seaborn.heatmap\n",
    "\n",
    "#plt.figure(figsize=(10,10))\n",
    "#eggs_corr = eggs_df.corr()\n",
    "#sns.heatmap(meat_corr, annot=True);\n",
    "#plt.title(\"Heatmap of Organic Egg Production\")\n",
    "#eggs_corr"
   ]
  },
  {
   "cell_type": "code",
   "execution_count": 45,
   "id": "90aceff1",
   "metadata": {},
   "outputs": [],
   "source": [
    "# Heatmap \n",
    "\n",
    "#REFERENCE: https://seaborn.pydata.org/generated/seaborn.heatmap.html?highlight=heatmap#seaborn.heatmap\n",
    "\n",
    "#plt.figure(figsize=(10,10))\n",
    "#honey_corr = honey_df.corr()\n",
    "#sns.heatmap(honey_corr, annot=True);\n",
    "#plt.title(\"Heatmap of Organic Honey Production\")\n",
    "#honey_corr"
   ]
  },
  {
   "cell_type": "code",
   "execution_count": 65,
   "id": "a84a89fd",
   "metadata": {},
   "outputs": [
    {
     "ename": "ValueError",
     "evalue": "Could not interpret input 'year'",
     "output_type": "error",
     "traceback": [
      "\u001b[1;31m---------------------------------------------------------------------------\u001b[0m",
      "\u001b[1;31mValueError\u001b[0m                                Traceback (most recent call last)",
      "Input \u001b[1;32mIn [65]\u001b[0m, in \u001b[0;36m<cell line: 2>\u001b[1;34m()\u001b[0m\n\u001b[0;32m      1\u001b[0m \u001b[38;5;66;03m#sns.histplot(data=yr_2012_plus, x=\"year\")\u001b[39;00m\n\u001b[1;32m----> 2\u001b[0m \u001b[43msns\u001b[49m\u001b[38;5;241;43m.\u001b[39;49m\u001b[43mboxplot\u001b[49m\u001b[43m(\u001b[49m\u001b[43mdata\u001b[49m\u001b[38;5;241;43m=\u001b[39;49m\u001b[43mmilk_df\u001b[49m\u001b[43m,\u001b[49m\u001b[43m \u001b[49m\u001b[43mx\u001b[49m\u001b[38;5;241;43m=\u001b[39;49m\u001b[38;5;124;43m'\u001b[39;49m\u001b[38;5;124;43myear\u001b[39;49m\u001b[38;5;124;43m'\u001b[39;49m\u001b[43m)\u001b[49m\n\u001b[0;32m      3\u001b[0m plt\u001b[38;5;241m.\u001b[39mtitle(\u001b[38;5;124m\"\u001b[39m\u001b[38;5;124mPlot of milk prices from 2012 by unit\u001b[39m\u001b[38;5;124m\"\u001b[39m)\n",
      "File \u001b[1;32m~\\Anaconda3\\lib\\site-packages\\seaborn\\_decorators.py:46\u001b[0m, in \u001b[0;36m_deprecate_positional_args.<locals>.inner_f\u001b[1;34m(*args, **kwargs)\u001b[0m\n\u001b[0;32m     36\u001b[0m     warnings\u001b[38;5;241m.\u001b[39mwarn(\n\u001b[0;32m     37\u001b[0m         \u001b[38;5;124m\"\u001b[39m\u001b[38;5;124mPass the following variable\u001b[39m\u001b[38;5;132;01m{}\u001b[39;00m\u001b[38;5;124m as \u001b[39m\u001b[38;5;132;01m{}\u001b[39;00m\u001b[38;5;124mkeyword arg\u001b[39m\u001b[38;5;132;01m{}\u001b[39;00m\u001b[38;5;124m: \u001b[39m\u001b[38;5;132;01m{}\u001b[39;00m\u001b[38;5;124m. \u001b[39m\u001b[38;5;124m\"\u001b[39m\n\u001b[0;32m     38\u001b[0m         \u001b[38;5;124m\"\u001b[39m\u001b[38;5;124mFrom version 0.12, the only valid positional argument \u001b[39m\u001b[38;5;124m\"\u001b[39m\n\u001b[1;32m   (...)\u001b[0m\n\u001b[0;32m     43\u001b[0m         \u001b[38;5;167;01mFutureWarning\u001b[39;00m\n\u001b[0;32m     44\u001b[0m     )\n\u001b[0;32m     45\u001b[0m kwargs\u001b[38;5;241m.\u001b[39mupdate({k: arg \u001b[38;5;28;01mfor\u001b[39;00m k, arg \u001b[38;5;129;01min\u001b[39;00m \u001b[38;5;28mzip\u001b[39m(sig\u001b[38;5;241m.\u001b[39mparameters, args)})\n\u001b[1;32m---> 46\u001b[0m \u001b[38;5;28;01mreturn\u001b[39;00m f(\u001b[38;5;241m*\u001b[39m\u001b[38;5;241m*\u001b[39mkwargs)\n",
      "File \u001b[1;32m~\\Anaconda3\\lib\\site-packages\\seaborn\\categorical.py:2243\u001b[0m, in \u001b[0;36mboxplot\u001b[1;34m(x, y, hue, data, order, hue_order, orient, color, palette, saturation, width, dodge, fliersize, linewidth, whis, ax, **kwargs)\u001b[0m\n\u001b[0;32m   2231\u001b[0m \u001b[38;5;129m@_deprecate_positional_args\u001b[39m\n\u001b[0;32m   2232\u001b[0m \u001b[38;5;28;01mdef\u001b[39;00m \u001b[38;5;21mboxplot\u001b[39m(\n\u001b[0;32m   2233\u001b[0m     \u001b[38;5;241m*\u001b[39m,\n\u001b[1;32m   (...)\u001b[0m\n\u001b[0;32m   2240\u001b[0m     \u001b[38;5;241m*\u001b[39m\u001b[38;5;241m*\u001b[39mkwargs\n\u001b[0;32m   2241\u001b[0m ):\n\u001b[1;32m-> 2243\u001b[0m     plotter \u001b[38;5;241m=\u001b[39m \u001b[43m_BoxPlotter\u001b[49m\u001b[43m(\u001b[49m\u001b[43mx\u001b[49m\u001b[43m,\u001b[49m\u001b[43m \u001b[49m\u001b[43my\u001b[49m\u001b[43m,\u001b[49m\u001b[43m \u001b[49m\u001b[43mhue\u001b[49m\u001b[43m,\u001b[49m\u001b[43m \u001b[49m\u001b[43mdata\u001b[49m\u001b[43m,\u001b[49m\u001b[43m \u001b[49m\u001b[43morder\u001b[49m\u001b[43m,\u001b[49m\u001b[43m \u001b[49m\u001b[43mhue_order\u001b[49m\u001b[43m,\u001b[49m\n\u001b[0;32m   2244\u001b[0m \u001b[43m                          \u001b[49m\u001b[43morient\u001b[49m\u001b[43m,\u001b[49m\u001b[43m \u001b[49m\u001b[43mcolor\u001b[49m\u001b[43m,\u001b[49m\u001b[43m \u001b[49m\u001b[43mpalette\u001b[49m\u001b[43m,\u001b[49m\u001b[43m \u001b[49m\u001b[43msaturation\u001b[49m\u001b[43m,\u001b[49m\n\u001b[0;32m   2245\u001b[0m \u001b[43m                          \u001b[49m\u001b[43mwidth\u001b[49m\u001b[43m,\u001b[49m\u001b[43m \u001b[49m\u001b[43mdodge\u001b[49m\u001b[43m,\u001b[49m\u001b[43m \u001b[49m\u001b[43mfliersize\u001b[49m\u001b[43m,\u001b[49m\u001b[43m \u001b[49m\u001b[43mlinewidth\u001b[49m\u001b[43m)\u001b[49m\n\u001b[0;32m   2247\u001b[0m     \u001b[38;5;28;01mif\u001b[39;00m ax \u001b[38;5;129;01mis\u001b[39;00m \u001b[38;5;28;01mNone\u001b[39;00m:\n\u001b[0;32m   2248\u001b[0m         ax \u001b[38;5;241m=\u001b[39m plt\u001b[38;5;241m.\u001b[39mgca()\n",
      "File \u001b[1;32m~\\Anaconda3\\lib\\site-packages\\seaborn\\categorical.py:406\u001b[0m, in \u001b[0;36m_BoxPlotter.__init__\u001b[1;34m(self, x, y, hue, data, order, hue_order, orient, color, palette, saturation, width, dodge, fliersize, linewidth)\u001b[0m\n\u001b[0;32m    402\u001b[0m \u001b[38;5;28;01mdef\u001b[39;00m \u001b[38;5;21m__init__\u001b[39m(\u001b[38;5;28mself\u001b[39m, x, y, hue, data, order, hue_order,\n\u001b[0;32m    403\u001b[0m              orient, color, palette, saturation,\n\u001b[0;32m    404\u001b[0m              width, dodge, fliersize, linewidth):\n\u001b[1;32m--> 406\u001b[0m     \u001b[38;5;28;43mself\u001b[39;49m\u001b[38;5;241;43m.\u001b[39;49m\u001b[43mestablish_variables\u001b[49m\u001b[43m(\u001b[49m\u001b[43mx\u001b[49m\u001b[43m,\u001b[49m\u001b[43m \u001b[49m\u001b[43my\u001b[49m\u001b[43m,\u001b[49m\u001b[43m \u001b[49m\u001b[43mhue\u001b[49m\u001b[43m,\u001b[49m\u001b[43m \u001b[49m\u001b[43mdata\u001b[49m\u001b[43m,\u001b[49m\u001b[43m \u001b[49m\u001b[43morient\u001b[49m\u001b[43m,\u001b[49m\u001b[43m \u001b[49m\u001b[43morder\u001b[49m\u001b[43m,\u001b[49m\u001b[43m \u001b[49m\u001b[43mhue_order\u001b[49m\u001b[43m)\u001b[49m\n\u001b[0;32m    407\u001b[0m     \u001b[38;5;28mself\u001b[39m\u001b[38;5;241m.\u001b[39mestablish_colors(color, palette, saturation)\n\u001b[0;32m    409\u001b[0m     \u001b[38;5;28mself\u001b[39m\u001b[38;5;241m.\u001b[39mdodge \u001b[38;5;241m=\u001b[39m dodge\n",
      "File \u001b[1;32m~\\Anaconda3\\lib\\site-packages\\seaborn\\categorical.py:153\u001b[0m, in \u001b[0;36m_CategoricalPlotter.establish_variables\u001b[1;34m(self, x, y, hue, data, orient, order, hue_order, units)\u001b[0m\n\u001b[0;32m    151\u001b[0m     \u001b[38;5;28;01mif\u001b[39;00m \u001b[38;5;28misinstance\u001b[39m(var, \u001b[38;5;28mstr\u001b[39m):\n\u001b[0;32m    152\u001b[0m         err \u001b[38;5;241m=\u001b[39m \u001b[38;5;124m\"\u001b[39m\u001b[38;5;124mCould not interpret input \u001b[39m\u001b[38;5;124m'\u001b[39m\u001b[38;5;132;01m{}\u001b[39;00m\u001b[38;5;124m'\u001b[39m\u001b[38;5;124m\"\u001b[39m\u001b[38;5;241m.\u001b[39mformat(var)\n\u001b[1;32m--> 153\u001b[0m         \u001b[38;5;28;01mraise\u001b[39;00m \u001b[38;5;167;01mValueError\u001b[39;00m(err)\n\u001b[0;32m    155\u001b[0m \u001b[38;5;66;03m# Figure out the plotting orientation\u001b[39;00m\n\u001b[0;32m    156\u001b[0m orient \u001b[38;5;241m=\u001b[39m infer_orient(\n\u001b[0;32m    157\u001b[0m     x, y, orient, require_numeric\u001b[38;5;241m=\u001b[39m\u001b[38;5;28mself\u001b[39m\u001b[38;5;241m.\u001b[39mrequire_numeric\n\u001b[0;32m    158\u001b[0m )\n",
      "\u001b[1;31mValueError\u001b[0m: Could not interpret input 'year'"
     ]
    }
   ],
   "source": [
    "#sns.histplot(data=yr_2012_plus, x=\"year\")\n",
    "sns.boxplot(data=milk_df, x='year')\n",
    "plt.title(\"Plot of milk prices from 2012 by unit\")"
   ]
  },
  {
   "cell_type": "code",
   "execution_count": null,
   "id": "89857f8f",
   "metadata": {},
   "outputs": [],
   "source": []
  },
  {
   "cell_type": "code",
   "execution_count": null,
   "id": "9babd69e",
   "metadata": {},
   "outputs": [],
   "source": []
  },
  {
   "cell_type": "code",
   "execution_count": null,
   "id": "699a3e1d",
   "metadata": {},
   "outputs": [],
   "source": []
  },
  {
   "cell_type": "code",
   "execution_count": null,
   "id": "ffdd3cba",
   "metadata": {},
   "outputs": [],
   "source": []
  },
  {
   "cell_type": "code",
   "execution_count": null,
   "id": "308fe09a",
   "metadata": {},
   "outputs": [],
   "source": []
  },
  {
   "cell_type": "code",
   "execution_count": null,
   "id": "085ca89e",
   "metadata": {},
   "outputs": [],
   "source": []
  },
  {
   "cell_type": "code",
   "execution_count": null,
   "id": "c7888e74",
   "metadata": {},
   "outputs": [],
   "source": []
  },
  {
   "cell_type": "code",
   "execution_count": null,
   "id": "12e62955",
   "metadata": {},
   "outputs": [],
   "source": []
  },
  {
   "cell_type": "code",
   "execution_count": null,
   "id": "5f8647e8",
   "metadata": {},
   "outputs": [],
   "source": []
  },
  {
   "cell_type": "code",
   "execution_count": null,
   "id": "8010a607",
   "metadata": {},
   "outputs": [],
   "source": []
  },
  {
   "cell_type": "code",
   "execution_count": null,
   "id": "b39af2a9",
   "metadata": {},
   "outputs": [],
   "source": []
  },
  {
   "cell_type": "code",
   "execution_count": null,
   "id": "ce7246a1",
   "metadata": {},
   "outputs": [],
   "source": []
  },
  {
   "cell_type": "code",
   "execution_count": null,
   "id": "965ddcee",
   "metadata": {},
   "outputs": [],
   "source": []
  },
  {
   "cell_type": "code",
   "execution_count": null,
   "id": "96809636",
   "metadata": {},
   "outputs": [],
   "source": []
  },
  {
   "cell_type": "markdown",
   "id": "6b189ba1",
   "metadata": {},
   "source": [
    "### Test for a Normal Distribution\n",
    "\n",
    "##### Reference - https://towardsdatascience.com/6-ways-to-test-for-a-normal-distribution-which-one-to-use-9dcf47d8fa93#:~:text=The%20Shapiro%20Wilk%20test%20is,for%20example%20the%20KS%20test.\n",
    "\n",
    "\n",
    "\n",
    "TIME_PERIOD\n",
    "OBS_VALUE\n",
    "Dairy\n",
    "Eggs\n",
    "Honey\n",
    "Meat\n",
    "    "
   ]
  },
  {
   "cell_type": "code",
   "execution_count": 61,
   "id": "f9dc5554",
   "metadata": {},
   "outputs": [
    {
     "data": {
      "text/plain": [
       "<seaborn.axisgrid.PairGrid at 0x26089101760>"
      ]
     },
     "execution_count": 61,
     "metadata": {},
     "output_type": "execute_result"
    },
    {
     "data": {
      "image/png": "[encoded data removed]",
      "text/plain": [
       "<Figure size 750x750 with 12 Axes>"
      ]
     },
     "metadata": {},
     "output_type": "display_data"
    }
   ],
   "source": [
    "sns.pairplot(milk_df)"
   ]
  },
  {
   "cell_type": "code",
   "execution_count": 64,
   "id": "e5821572",
   "metadata": {},
   "outputs": [
    {
     "data": {
      "image/png": "[encoded data removed]",
      "text/plain": [
       "<Figure size 640x480 with 1 Axes>"
      ]
     },
     "metadata": {},
     "output_type": "display_data"
    }
   ],
   "source": [
    "stats.probplot(milk_df['Value'], dist=\"norm\", plot=pylab)\n",
    "plt.title(\"Probability Plot - milk dataframe\")\n",
    "pylab.show()\n",
    "\n"
   ]
  },
  {
   "cell_type": "code",
   "execution_count": 50,
   "id": "142c4563",
   "metadata": {},
   "outputs": [],
   "source": [
    "#stats.probplot(meat_df['Value'], dist=\"norm\", plot=pylab)\n",
    "#plt.title(\"Probability Plot - meat dataframe\")\n",
    "#pylab.show()"
   ]
  },
  {
   "cell_type": "code",
   "execution_count": 51,
   "id": "df6f5d69",
   "metadata": {},
   "outputs": [],
   "source": [
    "#stats.probplot(eggs_df['Eggs'], dist=\"norm\", plot=pylab)\n",
    "#plt.title(\"Probability Plot - eggs dataframe\")\n",
    "#pylab.show()"
   ]
  },
  {
   "cell_type": "code",
   "execution_count": 52,
   "id": "5fb538a7",
   "metadata": {},
   "outputs": [],
   "source": [
    "#stats.probplot(honey_df['Honey'], dist=\"norm\", plot=pylab)\n",
    "#plt.title(\"Probability Plot - honey dataframe\")\n",
    "#pylab.show()"
   ]
  },
  {
   "cell_type": "code",
   "execution_count": null,
   "id": "1256cdcf",
   "metadata": {},
   "outputs": [],
   "source": []
  },
  {
   "cell_type": "code",
   "execution_count": null,
   "id": "9720a567",
   "metadata": {},
   "outputs": [],
   "source": []
  },
  {
   "cell_type": "code",
   "execution_count": null,
   "id": "457d6218",
   "metadata": {},
   "outputs": [],
   "source": []
  },
  {
   "cell_type": "code",
   "execution_count": null,
   "id": "59b9d4b8",
   "metadata": {},
   "outputs": [],
   "source": []
  },
  {
   "cell_type": "code",
   "execution_count": null,
   "id": "daebfebc",
   "metadata": {},
   "outputs": [],
   "source": []
  },
  {
   "cell_type": "code",
   "execution_count": null,
   "id": "63ab7f04",
   "metadata": {},
   "outputs": [],
   "source": []
  },
  {
   "cell_type": "code",
   "execution_count": null,
   "id": "9fbc76cb",
   "metadata": {},
   "outputs": [],
   "source": []
  },
  {
   "cell_type": "code",
   "execution_count": null,
   "id": "15d144a3",
   "metadata": {},
   "outputs": [],
   "source": []
  },
  {
   "cell_type": "code",
   "execution_count": null,
   "id": "b744eceb",
   "metadata": {},
   "outputs": [],
   "source": []
  },
  {
   "cell_type": "code",
   "execution_count": null,
   "id": "ded10ad2",
   "metadata": {},
   "outputs": [],
   "source": []
  },
  {
   "cell_type": "code",
   "execution_count": null,
   "id": "350d3b27",
   "metadata": {},
   "outputs": [],
   "source": []
  },
  {
   "cell_type": "code",
   "execution_count": null,
   "id": "2e964888",
   "metadata": {},
   "outputs": [],
   "source": []
  }
 ],
 "metadata": {
  "kernelspec": {
   "display_name": "Python 3 (ipykernel)",
   "language": "python",
   "name": "python3"
  },
  "language_info": {
   "codemirror_mode": {
    "name": "ipython",
    "version": 3
   },
   "file_extension": ".py",
   "mimetype": "text/x-python",
   "name": "python",
   "nbconvert_exporter": "python",
   "pygments_lexer": "ipython3",
   "version": "3.9.12"
  }
 },
 "nbformat": 4,
 "nbformat_minor": 5
}
