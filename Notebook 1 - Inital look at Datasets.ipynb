{
 "cells": [
  {
   "cell_type": "markdown",
   "id": "3ee92d15",
   "metadata": {},
   "source": [
    "## CA 2 - Review of Agriculture in Ireland\n",
    "\n",
    "### Organic food production\n",
    "\n",
    "Source = Eurostat"
   ]
  },
  {
   "cell_type": "code",
   "execution_count": 1,
   "id": "e37db901",
   "metadata": {},
   "outputs": [],
   "source": [
    "# Importing the libraries\n",
    "\n",
    "# libraries for graphics\n",
    "%matplotlib inline\n",
    "import matplotlib.pyplot as plt\n",
    "import seaborn as sns\n",
    "sns.set(color_codes=True)\n",
    "\n",
    "\n",
    "# create tables\n",
    "from tabulate import tabulate\n",
    "\n",
    "#graphics for calculations\n",
    "import numpy as np\n",
    "import pandas as pd\n",
    "\n",
    "\n",
    "# libraries for analysis\n",
    "import datetime \n",
    "import statistics\n",
    "from scipy.stats import binom\n",
    "from scipy.stats import poisson\n",
    "import pylab\n",
    "from scipy import stats\n"
   ]
  },
  {
   "cell_type": "markdown",
   "id": "956f76bb",
   "metadata": {},
   "source": [
    "### Step 1 - Import and view the dataframe"
   ]
  },
  {
   "cell_type": "code",
   "execution_count": 2,
   "id": "952a5c6f",
   "metadata": {},
   "outputs": [],
   "source": [
    "# Step 1 - import the dataframe\n",
    "\n",
    "Organic_food_df = pd.read_csv(\"Datasets/org_aprod_linear.csv\")"
   ]
  },
  {
   "cell_type": "code",
   "execution_count": null,
   "id": "2e07ea75",
   "metadata": {},
   "outputs": [],
   "source": []
  },
  {
   "cell_type": "code",
   "execution_count": 3,
   "id": "03b256be",
   "metadata": {},
   "outputs": [
    {
     "data": {
      "text/plain": [
       "(3935, 9)"
      ]
     },
     "execution_count": 3,
     "metadata": {},
     "output_type": "execute_result"
    }
   ],
   "source": [
    "# view the shape of the dataframe\n",
    "\n",
    "Organic_food_df.shape"
   ]
  },
  {
   "cell_type": "code",
   "execution_count": 4,
   "id": "f4e22dd7",
   "metadata": {},
   "outputs": [
    {
     "data": {
      "text/html": [
       "<div>\n",
       "<style scoped>\n",
       "    .dataframe tbody tr th:only-of-type {\n",
       "        vertical-align: middle;\n",
       "    }\n",
       "\n",
       "    .dataframe tbody tr th {\n",
       "        vertical-align: top;\n",
       "    }\n",
       "\n",
       "    .dataframe thead th {\n",
       "        text-align: right;\n",
       "    }\n",
       "</style>\n",
       "<table border=\"1\" class=\"dataframe\">\n",
       "  <thead>\n",
       "    <tr style=\"text-align: right;\">\n",
       "      <th></th>\n",
       "      <th>DATAFLOW</th>\n",
       "      <th>LAST UPDATE</th>\n",
       "      <th>freq</th>\n",
       "      <th>agriprod</th>\n",
       "      <th>unit</th>\n",
       "      <th>geo</th>\n",
       "      <th>TIME_PERIOD</th>\n",
       "      <th>OBS_VALUE</th>\n",
       "      <th>OBS_FLAG</th>\n",
       "    </tr>\n",
       "  </thead>\n",
       "  <tbody>\n",
       "    <tr>\n",
       "      <th>0</th>\n",
       "      <td>ESTAT:ORG_APROD(1.0)</td>\n",
       "      <td>02/12/22 23:00:00</td>\n",
       "      <td>A</td>\n",
       "      <td>B0010</td>\n",
       "      <td>T</td>\n",
       "      <td>BE</td>\n",
       "      <td>2016</td>\n",
       "      <td>5502.0</td>\n",
       "      <td>NaN</td>\n",
       "    </tr>\n",
       "    <tr>\n",
       "      <th>1</th>\n",
       "      <td>ESTAT:ORG_APROD(1.0)</td>\n",
       "      <td>02/12/22 23:00:00</td>\n",
       "      <td>A</td>\n",
       "      <td>B0010</td>\n",
       "      <td>T</td>\n",
       "      <td>BE</td>\n",
       "      <td>2017</td>\n",
       "      <td>7321.0</td>\n",
       "      <td>NaN</td>\n",
       "    </tr>\n",
       "    <tr>\n",
       "      <th>2</th>\n",
       "      <td>ESTAT:ORG_APROD(1.0)</td>\n",
       "      <td>02/12/22 23:00:00</td>\n",
       "      <td>A</td>\n",
       "      <td>B0010</td>\n",
       "      <td>T</td>\n",
       "      <td>BE</td>\n",
       "      <td>2018</td>\n",
       "      <td>8708.0</td>\n",
       "      <td>NaN</td>\n",
       "    </tr>\n",
       "    <tr>\n",
       "      <th>3</th>\n",
       "      <td>ESTAT:ORG_APROD(1.0)</td>\n",
       "      <td>02/12/22 23:00:00</td>\n",
       "      <td>A</td>\n",
       "      <td>B0010</td>\n",
       "      <td>T</td>\n",
       "      <td>BE</td>\n",
       "      <td>2019</td>\n",
       "      <td>9601.0</td>\n",
       "      <td>NaN</td>\n",
       "    </tr>\n",
       "    <tr>\n",
       "      <th>4</th>\n",
       "      <td>ESTAT:ORG_APROD(1.0)</td>\n",
       "      <td>02/12/22 23:00:00</td>\n",
       "      <td>A</td>\n",
       "      <td>B0010</td>\n",
       "      <td>T</td>\n",
       "      <td>BE</td>\n",
       "      <td>2020</td>\n",
       "      <td>10364.0</td>\n",
       "      <td>NaN</td>\n",
       "    </tr>\n",
       "  </tbody>\n",
       "</table>\n",
       "</div>"
      ],
      "text/plain": [
       "               DATAFLOW        LAST UPDATE freq agriprod unit geo  \\\n",
       "0  ESTAT:ORG_APROD(1.0)  02/12/22 23:00:00    A    B0010    T  BE   \n",
       "1  ESTAT:ORG_APROD(1.0)  02/12/22 23:00:00    A    B0010    T  BE   \n",
       "2  ESTAT:ORG_APROD(1.0)  02/12/22 23:00:00    A    B0010    T  BE   \n",
       "3  ESTAT:ORG_APROD(1.0)  02/12/22 23:00:00    A    B0010    T  BE   \n",
       "4  ESTAT:ORG_APROD(1.0)  02/12/22 23:00:00    A    B0010    T  BE   \n",
       "\n",
       "   TIME_PERIOD  OBS_VALUE OBS_FLAG  \n",
       "0         2016     5502.0      NaN  \n",
       "1         2017     7321.0      NaN  \n",
       "2         2018     8708.0      NaN  \n",
       "3         2019     9601.0      NaN  \n",
       "4         2020    10364.0      NaN  "
      ]
     },
     "execution_count": 4,
     "metadata": {},
     "output_type": "execute_result"
    }
   ],
   "source": [
    "# view the first lines of the dataframe\n",
    "\n",
    "Organic_food_df.head()"
   ]
  },
  {
   "cell_type": "code",
   "execution_count": null,
   "id": "ac9988b0",
   "metadata": {},
   "outputs": [],
   "source": [
    "# Show the columns of the dataframe and count of values therein\n",
    "\n",
    "Organic_food_df.count()"
   ]
  },
  {
   "cell_type": "code",
   "execution_count": null,
   "id": "8542b908",
   "metadata": {},
   "outputs": [],
   "source": [
    "# display the \n",
    "\n",
    "Organic_food_df.info()"
   ]
  },
  {
   "cell_type": "markdown",
   "id": "e1c34c5f",
   "metadata": {},
   "source": [
    "#### Exploring the Contents of the Dataframe"
   ]
  },
  {
   "cell_type": "code",
   "execution_count": null,
   "id": "4c094a6e",
   "metadata": {},
   "outputs": [],
   "source": [
    "# check for duplicate rows of data\n",
    "\n",
    "duplicate_rows_df = Organic_food_df[Organic_food_df.duplicated()]\n",
    "\n",
    "print(\"Number of duplicate rows in the dataframe: \", duplicate_rows_df.shape)"
   ]
  },
  {
   "cell_type": "code",
   "execution_count": null,
   "id": "65fb0f3d",
   "metadata": {},
   "outputs": [],
   "source": [
    "# Check for null values in the dataframe \n",
    "\n",
    "print(Organic_food_df.isnull().sum())"
   ]
  },
  {
   "cell_type": "code",
   "execution_count": null,
   "id": "e1478041",
   "metadata": {},
   "outputs": [],
   "source": [
    "# count the unique values in the each column of the datafram\n",
    "\n",
    "Organic_food_df.nunique()"
   ]
  },
  {
   "cell_type": "code",
   "execution_count": null,
   "id": "4dba2b11",
   "metadata": {},
   "outputs": [],
   "source": [
    "# count unique 'agriprod' values, grouped by geo (country)\n",
    "\n",
    "Organic_food_df.groupby('agriprod')['geo'].nunique()"
   ]
  },
  {
   "cell_type": "code",
   "execution_count": null,
   "id": "ab8df78a",
   "metadata": {},
   "outputs": [],
   "source": [
    "# count unique 'agriprod' values, grouped by geo (country)\n",
    "\n",
    "Organic_food_df.groupby('geo')['agriprod'].nunique()"
   ]
  },
  {
   "cell_type": "code",
   "execution_count": null,
   "id": "33531dd6",
   "metadata": {},
   "outputs": [],
   "source": [
    "sns.pairplot(Organic_food_df, hue=\"geo\");"
   ]
  },
  {
   "cell_type": "code",
   "execution_count": null,
   "id": "79510bd2",
   "metadata": {},
   "outputs": [],
   "source": [
    "sns.pairplot(Organic_food_df, hue=\"agriprod\");"
   ]
  },
  {
   "cell_type": "markdown",
   "id": "c42ac01d",
   "metadata": {},
   "source": [
    "#### Data Preparation\n",
    "\n",
    "Actions carried out based on table 1 in accompanying word report."
   ]
  },
  {
   "cell_type": "code",
   "execution_count": 5,
   "id": "b20d23c6",
   "metadata": {},
   "outputs": [],
   "source": [
    "org_food_df = Organic_food_df.drop(['DATAFLOW', 'LAST UPDATE', 'freq', 'OBS_FLAG'], axis=1)"
   ]
  },
  {
   "cell_type": "code",
   "execution_count": 6,
   "id": "bf7fd348",
   "metadata": {},
   "outputs": [
    {
     "data": {
      "text/html": [
       "<div>\n",
       "<style scoped>\n",
       "    .dataframe tbody tr th:only-of-type {\n",
       "        vertical-align: middle;\n",
       "    }\n",
       "\n",
       "    .dataframe tbody tr th {\n",
       "        vertical-align: top;\n",
       "    }\n",
       "\n",
       "    .dataframe thead th {\n",
       "        text-align: right;\n",
       "    }\n",
       "</style>\n",
       "<table border=\"1\" class=\"dataframe\">\n",
       "  <thead>\n",
       "    <tr style=\"text-align: right;\">\n",
       "      <th></th>\n",
       "      <th>agriprod</th>\n",
       "      <th>unit</th>\n",
       "      <th>geo</th>\n",
       "      <th>TIME_PERIOD</th>\n",
       "      <th>OBS_VALUE</th>\n",
       "    </tr>\n",
       "  </thead>\n",
       "  <tbody>\n",
       "    <tr>\n",
       "      <th>0</th>\n",
       "      <td>B0010</td>\n",
       "      <td>T</td>\n",
       "      <td>BE</td>\n",
       "      <td>2016</td>\n",
       "      <td>5502.0</td>\n",
       "    </tr>\n",
       "    <tr>\n",
       "      <th>1</th>\n",
       "      <td>B0010</td>\n",
       "      <td>T</td>\n",
       "      <td>BE</td>\n",
       "      <td>2017</td>\n",
       "      <td>7321.0</td>\n",
       "    </tr>\n",
       "    <tr>\n",
       "      <th>2</th>\n",
       "      <td>B0010</td>\n",
       "      <td>T</td>\n",
       "      <td>BE</td>\n",
       "      <td>2018</td>\n",
       "      <td>8708.0</td>\n",
       "    </tr>\n",
       "    <tr>\n",
       "      <th>3</th>\n",
       "      <td>B0010</td>\n",
       "      <td>T</td>\n",
       "      <td>BE</td>\n",
       "      <td>2019</td>\n",
       "      <td>9601.0</td>\n",
       "    </tr>\n",
       "    <tr>\n",
       "      <th>4</th>\n",
       "      <td>B0010</td>\n",
       "      <td>T</td>\n",
       "      <td>BE</td>\n",
       "      <td>2020</td>\n",
       "      <td>10364.0</td>\n",
       "    </tr>\n",
       "    <tr>\n",
       "      <th>...</th>\n",
       "      <td>...</td>\n",
       "      <td>...</td>\n",
       "      <td>...</td>\n",
       "      <td>...</td>\n",
       "      <td>...</td>\n",
       "    </tr>\n",
       "    <tr>\n",
       "      <th>3930</th>\n",
       "      <td>D9910</td>\n",
       "      <td>T</td>\n",
       "      <td>TR</td>\n",
       "      <td>2017</td>\n",
       "      <td>392.0</td>\n",
       "    </tr>\n",
       "    <tr>\n",
       "      <th>3931</th>\n",
       "      <td>D9910</td>\n",
       "      <td>T</td>\n",
       "      <td>TR</td>\n",
       "      <td>2018</td>\n",
       "      <td>495.0</td>\n",
       "    </tr>\n",
       "    <tr>\n",
       "      <th>3932</th>\n",
       "      <td>D9910</td>\n",
       "      <td>T</td>\n",
       "      <td>TR</td>\n",
       "      <td>2019</td>\n",
       "      <td>577.0</td>\n",
       "    </tr>\n",
       "    <tr>\n",
       "      <th>3933</th>\n",
       "      <td>D9910</td>\n",
       "      <td>T</td>\n",
       "      <td>TR</td>\n",
       "      <td>2021</td>\n",
       "      <td>1221.0</td>\n",
       "    </tr>\n",
       "    <tr>\n",
       "      <th>3934</th>\n",
       "      <td>D9910</td>\n",
       "      <td>T</td>\n",
       "      <td>UK</td>\n",
       "      <td>2019</td>\n",
       "      <td>0.0</td>\n",
       "    </tr>\n",
       "  </tbody>\n",
       "</table>\n",
       "<p>3935 rows × 5 columns</p>\n",
       "</div>"
      ],
      "text/plain": [
       "     agriprod unit geo  TIME_PERIOD  OBS_VALUE\n",
       "0       B0010    T  BE         2016     5502.0\n",
       "1       B0010    T  BE         2017     7321.0\n",
       "2       B0010    T  BE         2018     8708.0\n",
       "3       B0010    T  BE         2019     9601.0\n",
       "4       B0010    T  BE         2020    10364.0\n",
       "...       ...  ...  ..          ...        ...\n",
       "3930    D9910    T  TR         2017      392.0\n",
       "3931    D9910    T  TR         2018      495.0\n",
       "3932    D9910    T  TR         2019      577.0\n",
       "3933    D9910    T  TR         2021     1221.0\n",
       "3934    D9910    T  UK         2019        0.0\n",
       "\n",
       "[3935 rows x 5 columns]"
      ]
     },
     "execution_count": 6,
     "metadata": {},
     "output_type": "execute_result"
    }
   ],
   "source": [
    "org_food_df"
   ]
  },
  {
   "cell_type": "code",
   "execution_count": null,
   "id": "2507a286",
   "metadata": {},
   "outputs": [],
   "source": [
    "sns.pairplot(org_food_df)"
   ]
  },
  {
   "cell_type": "code",
   "execution_count": null,
   "id": "61cb550d",
   "metadata": {},
   "outputs": [],
   "source": [
    "# rename columns for easier analysis\n",
    "    #org_food_df['agriprod'] = org_food_df['agriprod'].replace(['D1100A','D1110A','D1120A','D1130A','D1140A','D2100','D2200','D4100','D6100','D7100','D9500'], 'Dairy')\n",
    "    \n",
    "#org_food_df({agriprod:{\n",
    "#        'D1100A','D1110A','D1120A','D1130A','D1140A','D2100','D2200','D4100','D6100','D7100','D9500':'Dairy', \n",
    "#        'D8000H':'Eggs', \n",
    "#        'D9910':'Honey', \n",
    "#        'B8000','B9000','B3100','B4100','B4200','B5000','B7000','B7100','B0010','B1000':'Meat'\n",
    "#    } \n",
    "#                })"
   ]
  },
  {
   "cell_type": "code",
   "execution_count": 7,
   "id": "b72a58c0",
   "metadata": {},
   "outputs": [],
   "source": [
    "# replace values\n",
    "\n",
    "values_to_be_replaced = {\n",
    "    'D1100A':'Dairy', \n",
    "    'D1110A':'Dairy', \n",
    "    'D1120A':'Dairy', \n",
    "    'D1130A':'Dairy', \n",
    "    'D1140A':'Dairy', \n",
    "    'D2100':'Dairy', \n",
    "    'D2200':'Dairy', \n",
    "    'D4100':'Dairy', \n",
    "    'D6100':'Dairy', \n",
    "    'D7100':'Dairy', \n",
    "    'D9500':'Dairy', \n",
    "    'D8000H':'Eggs', \n",
    "    'D9910':'Honey', \n",
    "    'B1000':'Meat',\n",
    "    'B0010':'Meat',\n",
    "    'B8000':'Meat',\n",
    "    'B9000':'Meat',\n",
    "    'B3100':'Meat',\n",
    "    'B4100':'Meat',\n",
    "    'B4200':'Meat',\n",
    "    'B5000':'Meat',\n",
    "    'B7000':'Meat',\n",
    "    'B7100':'Meat',\n",
    "     }"
   ]
  },
  {
   "cell_type": "code",
   "execution_count": 8,
   "id": "ddb10a01",
   "metadata": {},
   "outputs": [
    {
     "data": {
      "text/html": [
       "<div>\n",
       "<style scoped>\n",
       "    .dataframe tbody tr th:only-of-type {\n",
       "        vertical-align: middle;\n",
       "    }\n",
       "\n",
       "    .dataframe tbody tr th {\n",
       "        vertical-align: top;\n",
       "    }\n",
       "\n",
       "    .dataframe thead th {\n",
       "        text-align: right;\n",
       "    }\n",
       "</style>\n",
       "<table border=\"1\" class=\"dataframe\">\n",
       "  <thead>\n",
       "    <tr style=\"text-align: right;\">\n",
       "      <th></th>\n",
       "      <th>agriprod</th>\n",
       "      <th>unit</th>\n",
       "      <th>geo</th>\n",
       "      <th>TIME_PERIOD</th>\n",
       "      <th>OBS_VALUE</th>\n",
       "    </tr>\n",
       "  </thead>\n",
       "  <tbody>\n",
       "    <tr>\n",
       "      <th>0</th>\n",
       "      <td>Meat</td>\n",
       "      <td>T</td>\n",
       "      <td>BE</td>\n",
       "      <td>2016</td>\n",
       "      <td>5502.0</td>\n",
       "    </tr>\n",
       "    <tr>\n",
       "      <th>1</th>\n",
       "      <td>Meat</td>\n",
       "      <td>T</td>\n",
       "      <td>BE</td>\n",
       "      <td>2017</td>\n",
       "      <td>7321.0</td>\n",
       "    </tr>\n",
       "    <tr>\n",
       "      <th>2</th>\n",
       "      <td>Meat</td>\n",
       "      <td>T</td>\n",
       "      <td>BE</td>\n",
       "      <td>2018</td>\n",
       "      <td>8708.0</td>\n",
       "    </tr>\n",
       "    <tr>\n",
       "      <th>3</th>\n",
       "      <td>Meat</td>\n",
       "      <td>T</td>\n",
       "      <td>BE</td>\n",
       "      <td>2019</td>\n",
       "      <td>9601.0</td>\n",
       "    </tr>\n",
       "    <tr>\n",
       "      <th>4</th>\n",
       "      <td>Meat</td>\n",
       "      <td>T</td>\n",
       "      <td>BE</td>\n",
       "      <td>2020</td>\n",
       "      <td>10364.0</td>\n",
       "    </tr>\n",
       "    <tr>\n",
       "      <th>...</th>\n",
       "      <td>...</td>\n",
       "      <td>...</td>\n",
       "      <td>...</td>\n",
       "      <td>...</td>\n",
       "      <td>...</td>\n",
       "    </tr>\n",
       "    <tr>\n",
       "      <th>3930</th>\n",
       "      <td>Honey</td>\n",
       "      <td>T</td>\n",
       "      <td>TR</td>\n",
       "      <td>2017</td>\n",
       "      <td>392.0</td>\n",
       "    </tr>\n",
       "    <tr>\n",
       "      <th>3931</th>\n",
       "      <td>Honey</td>\n",
       "      <td>T</td>\n",
       "      <td>TR</td>\n",
       "      <td>2018</td>\n",
       "      <td>495.0</td>\n",
       "    </tr>\n",
       "    <tr>\n",
       "      <th>3932</th>\n",
       "      <td>Honey</td>\n",
       "      <td>T</td>\n",
       "      <td>TR</td>\n",
       "      <td>2019</td>\n",
       "      <td>577.0</td>\n",
       "    </tr>\n",
       "    <tr>\n",
       "      <th>3933</th>\n",
       "      <td>Honey</td>\n",
       "      <td>T</td>\n",
       "      <td>TR</td>\n",
       "      <td>2021</td>\n",
       "      <td>1221.0</td>\n",
       "    </tr>\n",
       "    <tr>\n",
       "      <th>3934</th>\n",
       "      <td>Honey</td>\n",
       "      <td>T</td>\n",
       "      <td>UK</td>\n",
       "      <td>2019</td>\n",
       "      <td>0.0</td>\n",
       "    </tr>\n",
       "  </tbody>\n",
       "</table>\n",
       "<p>3935 rows × 5 columns</p>\n",
       "</div>"
      ],
      "text/plain": [
       "     agriprod unit geo  TIME_PERIOD  OBS_VALUE\n",
       "0        Meat    T  BE         2016     5502.0\n",
       "1        Meat    T  BE         2017     7321.0\n",
       "2        Meat    T  BE         2018     8708.0\n",
       "3        Meat    T  BE         2019     9601.0\n",
       "4        Meat    T  BE         2020    10364.0\n",
       "...       ...  ...  ..          ...        ...\n",
       "3930    Honey    T  TR         2017      392.0\n",
       "3931    Honey    T  TR         2018      495.0\n",
       "3932    Honey    T  TR         2019      577.0\n",
       "3933    Honey    T  TR         2021     1221.0\n",
       "3934    Honey    T  UK         2019        0.0\n",
       "\n",
       "[3935 rows x 5 columns]"
      ]
     },
     "execution_count": 8,
     "metadata": {},
     "output_type": "execute_result"
    }
   ],
   "source": [
    "\n",
    "org_food_df['agriprod'] = org_food_df['agriprod'].map(values_to_be_replaced)\n",
    "\n",
    "org_food_df"
   ]
  },
  {
   "cell_type": "code",
   "execution_count": null,
   "id": "271d865f",
   "metadata": {},
   "outputs": [],
   "source": []
  },
  {
   "cell_type": "code",
   "execution_count": 9,
   "id": "cb89659b",
   "metadata": {},
   "outputs": [],
   "source": [
    "df3=org_food_df.query(\"agriprod == 'Dairy'\")"
   ]
  },
  {
   "cell_type": "code",
   "execution_count": 10,
   "id": "f2a8cdd2",
   "metadata": {},
   "outputs": [
    {
     "data": {
      "text/html": [
       "<div>\n",
       "<style scoped>\n",
       "    .dataframe tbody tr th:only-of-type {\n",
       "        vertical-align: middle;\n",
       "    }\n",
       "\n",
       "    .dataframe tbody tr th {\n",
       "        vertical-align: top;\n",
       "    }\n",
       "\n",
       "    .dataframe thead th {\n",
       "        text-align: right;\n",
       "    }\n",
       "</style>\n",
       "<table border=\"1\" class=\"dataframe\">\n",
       "  <thead>\n",
       "    <tr style=\"text-align: right;\">\n",
       "      <th></th>\n",
       "      <th>agriprod</th>\n",
       "      <th>unit</th>\n",
       "      <th>geo</th>\n",
       "      <th>TIME_PERIOD</th>\n",
       "      <th>OBS_VALUE</th>\n",
       "    </tr>\n",
       "  </thead>\n",
       "  <tbody>\n",
       "    <tr>\n",
       "      <th>1340</th>\n",
       "      <td>Dairy</td>\n",
       "      <td>T</td>\n",
       "      <td>AT</td>\n",
       "      <td>2014</td>\n",
       "      <td>443486.0</td>\n",
       "    </tr>\n",
       "    <tr>\n",
       "      <th>1341</th>\n",
       "      <td>Dairy</td>\n",
       "      <td>T</td>\n",
       "      <td>AT</td>\n",
       "      <td>2015</td>\n",
       "      <td>440924.0</td>\n",
       "    </tr>\n",
       "    <tr>\n",
       "      <th>1342</th>\n",
       "      <td>Dairy</td>\n",
       "      <td>T</td>\n",
       "      <td>AT</td>\n",
       "      <td>2016</td>\n",
       "      <td>552389.0</td>\n",
       "    </tr>\n",
       "    <tr>\n",
       "      <th>1343</th>\n",
       "      <td>Dairy</td>\n",
       "      <td>T</td>\n",
       "      <td>AT</td>\n",
       "      <td>2017</td>\n",
       "      <td>612629.0</td>\n",
       "    </tr>\n",
       "    <tr>\n",
       "      <th>1344</th>\n",
       "      <td>Dairy</td>\n",
       "      <td>T</td>\n",
       "      <td>AT</td>\n",
       "      <td>2018</td>\n",
       "      <td>635751.0</td>\n",
       "    </tr>\n",
       "    <tr>\n",
       "      <th>...</th>\n",
       "      <td>...</td>\n",
       "      <td>...</td>\n",
       "      <td>...</td>\n",
       "      <td>...</td>\n",
       "      <td>...</td>\n",
       "    </tr>\n",
       "    <tr>\n",
       "      <th>3797</th>\n",
       "      <td>Dairy</td>\n",
       "      <td>T</td>\n",
       "      <td>TR</td>\n",
       "      <td>2014</td>\n",
       "      <td>0.0</td>\n",
       "    </tr>\n",
       "    <tr>\n",
       "      <th>3798</th>\n",
       "      <td>Dairy</td>\n",
       "      <td>T</td>\n",
       "      <td>TR</td>\n",
       "      <td>2015</td>\n",
       "      <td>3.0</td>\n",
       "    </tr>\n",
       "    <tr>\n",
       "      <th>3799</th>\n",
       "      <td>Dairy</td>\n",
       "      <td>T</td>\n",
       "      <td>TR</td>\n",
       "      <td>2016</td>\n",
       "      <td>0.0</td>\n",
       "    </tr>\n",
       "    <tr>\n",
       "      <th>3800</th>\n",
       "      <td>Dairy</td>\n",
       "      <td>T</td>\n",
       "      <td>TR</td>\n",
       "      <td>2017</td>\n",
       "      <td>0.0</td>\n",
       "    </tr>\n",
       "    <tr>\n",
       "      <th>3801</th>\n",
       "      <td>Dairy</td>\n",
       "      <td>T</td>\n",
       "      <td>TR</td>\n",
       "      <td>2018</td>\n",
       "      <td>0.0</td>\n",
       "    </tr>\n",
       "  </tbody>\n",
       "</table>\n",
       "<p>2200 rows × 5 columns</p>\n",
       "</div>"
      ],
      "text/plain": [
       "     agriprod unit geo  TIME_PERIOD  OBS_VALUE\n",
       "1340    Dairy    T  AT         2014   443486.0\n",
       "1341    Dairy    T  AT         2015   440924.0\n",
       "1342    Dairy    T  AT         2016   552389.0\n",
       "1343    Dairy    T  AT         2017   612629.0\n",
       "1344    Dairy    T  AT         2018   635751.0\n",
       "...       ...  ...  ..          ...        ...\n",
       "3797    Dairy    T  TR         2014        0.0\n",
       "3798    Dairy    T  TR         2015        3.0\n",
       "3799    Dairy    T  TR         2016        0.0\n",
       "3800    Dairy    T  TR         2017        0.0\n",
       "3801    Dairy    T  TR         2018        0.0\n",
       "\n",
       "[2200 rows x 5 columns]"
      ]
     },
     "execution_count": 10,
     "metadata": {},
     "output_type": "execute_result"
    }
   ],
   "source": [
    "df3"
   ]
  },
  {
   "cell_type": "code",
   "execution_count": 11,
   "id": "ae837911",
   "metadata": {},
   "outputs": [
    {
     "data": {
      "text/plain": [
       "array(['Meat', 'Dairy', 'Eggs', 'Honey'], dtype=object)"
      ]
     },
     "execution_count": 11,
     "metadata": {},
     "output_type": "execute_result"
    }
   ],
   "source": [
    "org_food_df.agriprod.unique()"
   ]
  },
  {
   "cell_type": "code",
   "execution_count": null,
   "id": "39987c14",
   "metadata": {},
   "outputs": [],
   "source": []
  },
  {
   "cell_type": "code",
   "execution_count": null,
   "id": "b0fc1c7a",
   "metadata": {},
   "outputs": [],
   "source": []
  },
  {
   "cell_type": "code",
   "execution_count": 12,
   "id": "aa9dc059",
   "metadata": {},
   "outputs": [
    {
     "data": {
      "text/plain": [
       "agriprod\n",
       "Dairy    33\n",
       "Eggs     33\n",
       "Honey    24\n",
       "Meat     31\n",
       "Name: geo, dtype: int64"
      ]
     },
     "execution_count": 12,
     "metadata": {},
     "output_type": "execute_result"
    }
   ],
   "source": [
    "org_food_df.groupby('agriprod')['geo'].nunique()"
   ]
  },
  {
   "cell_type": "markdown",
   "id": "ada6001c",
   "metadata": {},
   "source": [
    "## One Hot Encoding"
   ]
  },
  {
   "cell_type": "code",
   "execution_count": 13,
   "id": "242f4a75",
   "metadata": {},
   "outputs": [],
   "source": [
    "df2 = org_food_df"
   ]
  },
  {
   "cell_type": "code",
   "execution_count": 14,
   "id": "cf8eb9b3",
   "metadata": {},
   "outputs": [],
   "source": [
    "from sklearn.preprocessing import OneHotEncoder"
   ]
  },
  {
   "cell_type": "code",
   "execution_count": 15,
   "id": "1b5b91f9",
   "metadata": {},
   "outputs": [],
   "source": [
    "#creating instance of one-hot-encoder\n",
    "encoder = OneHotEncoder(handle_unknown='ignore')"
   ]
  },
  {
   "cell_type": "code",
   "execution_count": 16,
   "id": "99b4e7f8",
   "metadata": {},
   "outputs": [],
   "source": [
    "#perform one-hot encoding on the 'agriprod' column \n",
    "\n",
    "encoder_df = pd.DataFrame(encoder.fit_transform(df2[['agriprod']]).toarray())"
   ]
  },
  {
   "cell_type": "code",
   "execution_count": 17,
   "id": "d35972fe",
   "metadata": {},
   "outputs": [],
   "source": [
    "#merge one-hot encoded columns back with original DataFrame\n",
    "\n",
    "final_df = df2.join(encoder_df)"
   ]
  },
  {
   "cell_type": "code",
   "execution_count": 18,
   "id": "ee409786",
   "metadata": {},
   "outputs": [
    {
     "name": "stdout",
     "output_type": "stream",
     "text": [
      "     agriprod unit geo  TIME_PERIOD  OBS_VALUE    0    1    2    3\n",
      "0        Meat    T  BE         2016     5502.0  0.0  0.0  0.0  1.0\n",
      "1        Meat    T  BE         2017     7321.0  0.0  0.0  0.0  1.0\n",
      "2        Meat    T  BE         2018     8708.0  0.0  0.0  0.0  1.0\n",
      "3        Meat    T  BE         2019     9601.0  0.0  0.0  0.0  1.0\n",
      "4        Meat    T  BE         2020    10364.0  0.0  0.0  0.0  1.0\n",
      "...       ...  ...  ..          ...        ...  ...  ...  ...  ...\n",
      "3930    Honey    T  TR         2017      392.0  0.0  0.0  1.0  0.0\n",
      "3931    Honey    T  TR         2018      495.0  0.0  0.0  1.0  0.0\n",
      "3932    Honey    T  TR         2019      577.0  0.0  0.0  1.0  0.0\n",
      "3933    Honey    T  TR         2021     1221.0  0.0  0.0  1.0  0.0\n",
      "3934    Honey    T  UK         2019        0.0  0.0  0.0  1.0  0.0\n",
      "\n",
      "[3935 rows x 9 columns]\n"
     ]
    }
   ],
   "source": [
    "#view final df\n",
    "\n",
    "print(final_df)"
   ]
  },
  {
   "cell_type": "code",
   "execution_count": 21,
   "id": "339ac2ed",
   "metadata": {},
   "outputs": [],
   "source": [
    "# rename columns '0', '1', 2' and '3'\n",
    "\n",
    "final_df.rename(columns = {'0':'Dairy', '1':'Eggs', '2':'Honey', '3':'Meat'}, inplace = True )"
   ]
  },
  {
   "cell_type": "code",
   "execution_count": 26,
   "id": "d6f30479",
   "metadata": {},
   "outputs": [],
   "source": [
    "#final_df.to_csv('Datasets/org_ds.csv')"
   ]
  },
  {
   "cell_type": "code",
   "execution_count": null,
   "id": "567a7047",
   "metadata": {},
   "outputs": [],
   "source": []
  },
  {
   "cell_type": "code",
   "execution_count": null,
   "id": "8dcf3c2f",
   "metadata": {},
   "outputs": [],
   "source": []
  },
  {
   "cell_type": "code",
   "execution_count": null,
   "id": "e1b2130d",
   "metadata": {},
   "outputs": [],
   "source": []
  }
 ],
 "metadata": {
  "kernelspec": {
   "display_name": "Python 3 (ipykernel)",
   "language": "python",
   "name": "python3"
  },
  "language_info": {
   "codemirror_mode": {
    "name": "ipython",
    "version": 3
   },
   "file_extension": ".py",
   "mimetype": "text/x-python",
   "name": "python",
   "nbconvert_exporter": "python",
   "pygments_lexer": "ipython3",
   "version": "3.9.12"
  }
 },
 "nbformat": 4,
 "nbformat_minor": 5
}
